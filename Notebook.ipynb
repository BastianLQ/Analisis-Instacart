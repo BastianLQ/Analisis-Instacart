{
 "cells": [
  {
   "cell_type": "markdown",
   "id": "mhIvmmkW414q",
   "metadata": {
    "id": "mhIvmmkW414q"
   },
   "source": [
    "# Introducción"
   ]
  },
  {
   "cell_type": "markdown",
   "id": "b02e8736",
   "metadata": {},
   "source": [
    "Instacart es una plataforma de entregas de comestibles donde la clientela puede registrar un pedido y hacer que se lo entreguen, similar a Uber Eats y Door Dash.\n",
    "\n",
    "Se deben completar tres pasos. Para cada uno de ellos, se escribirá una breve introducción que reflejará con claridad cómo se resolverá cada paso, y se escribirán párrafos explicatorios que justificando las decisiones al tiempo que se avanza en la solución.  Finalmente irá una conclusión que resumirá todos los hallazgos y elecciones."
   ]
  },
  {
   "cell_type": "markdown",
   "id": "8a270a3c",
   "metadata": {},
   "source": [
    "# Diccionario de datos"
   ]
  },
  {
   "cell_type": "markdown",
   "id": "3MbyzpOQZ5Or",
   "metadata": {
    "id": "3MbyzpOQZ5Or"
   },
   "source": [
    "Hay cinco tablas en el conjunto de datos, y todas son necesarias para hacer el preprocesamiento de datos y el análisis exploratorio de datos. A continuación se muestra un diccionario de datos que enumera las columnas de cada tabla y describe los datos que contienen.\n",
    "\n",
    "- `instacart_orders.csv`: cada fila corresponde a un pedido en la aplicación Instacart.\n",
    "    - `'order_id'`: número de ID que identifica de manera única cada pedido.\n",
    "    - `'user_id'`: número de ID que identifica de manera única la cuenta de cada cliente.\n",
    "    - `'order_number'`: el número de veces que este cliente ha hecho un pedido.\n",
    "    - `'order_dow'`: día de la semana en que se hizo el pedido (0 si es domingo).\n",
    "    - `'order_hour_of_day'`: hora del día en que se hizo el pedido.\n",
    "    - `'days_since_prior_order'`: número de días transcurridos desde que este cliente hizo su pedido anterior.\n",
    "- `products.csv`: cada fila corresponde a un producto único que pueden comprar los clientes.\n",
    "    - `'product_id'`: número ID que identifica de manera única cada producto.\n",
    "    - `'product_name'`: nombre del producto.\n",
    "    - `'aisle_id'`: número ID que identifica de manera única cada categoría de pasillo de víveres.\n",
    "    - `'department_id'`: número ID que identifica de manera única cada departamento de víveres.\n",
    "- `order_products.csv`: cada fila corresponde a un artículo pedido en un pedido.\n",
    "    - `'order_id'`: número de ID que identifica de manera única cada pedido.\n",
    "    - `'product_id'`: número ID que identifica de manera única cada producto.\n",
    "    - `'add_to_cart_order'`: el orden secuencial en el que se añadió cada artículo en el carrito.\n",
    "    - `'reordered'`: 0 si el cliente nunca ha pedido este producto antes, 1 si lo ha pedido.\n",
    "- `aisles.csv`\n",
    "    - `'aisle_id'`: número ID que identifica de manera única cada categoría de pasillo de víveres.\n",
    "    - `'aisle'`: nombre del pasillo.\n",
    "- `departments.csv`\n",
    "    - `'department_id'`: número ID que identifica de manera única cada departamento de víveres.\n",
    "    - `'department'`: nombre del departamento."
   ]
  },
  {
   "cell_type": "markdown",
   "id": "n3Ha_cNSZ8lK",
   "metadata": {
    "id": "n3Ha_cNSZ8lK"
   },
   "source": [
    "## Paso 1. Descripción de los datos"
   ]
  },
  {
   "cell_type": "markdown",
   "id": "0dfbfc88",
   "metadata": {},
   "source": [
    "Se importarán las librerías `pandas` y `matplotlib`, junto con los datasets (`/datasets/instacart_orders.csv`, `/datasets/products.csv`, `/datasets/aisles.csv`, `/datasets/departments.csv` y `/datasets/order_products.csv`) con `pd.read_csv()` usando los parámetros adecuados para leer los datos correctamente. Se verificará la información para cada DataFrame creado."
   ]
  },
  {
   "cell_type": "code",
   "execution_count": 1,
   "id": "fbf1adab",
   "metadata": {
    "id": "fbf1adab"
   },
   "outputs": [],
   "source": [
    "import pandas as pd # importar librerías\n",
    "from matplotlib import pyplot as plt"
   ]
  },
  {
   "cell_type": "markdown",
   "id": "3ead88fd",
   "metadata": {},
   "source": [
    "Ahora le damos un estilo uniforme a todos los gráficos del informe."
   ]
  },
  {
   "cell_type": "code",
   "execution_count": 2,
   "id": "da95de08",
   "metadata": {},
   "outputs": [],
   "source": [
    "plt.style.use('ggplot')"
   ]
  },
  {
   "cell_type": "markdown",
   "id": "0a37c441",
   "metadata": {},
   "source": [
    "Finalmente importamos los datasets agregando las debidas correcciones en caso de ser necesario."
   ]
  },
  {
   "cell_type": "code",
   "execution_count": 3,
   "id": "ad36396d",
   "metadata": {
    "id": "ad36396d"
   },
   "outputs": [],
   "source": [
    "instacart_orders = pd.read_csv('/datasets/instacart_orders.csv', sep=';') \n",
    "products = pd.read_csv('/datasets/products.csv', sep=';')\n",
    "aisles = pd.read_csv('/datasets/aisles.csv', sep=';')\n",
    "departments = pd.read_csv('/datasets/departments.csv', sep=';')\n",
    "order_products = pd.read_csv('/datasets/order_products.csv', sep=';') # leer conjuntos de datos en los DataFrames"
   ]
  },
  {
   "cell_type": "markdown",
   "id": "51992c47",
   "metadata": {},
   "source": [
    "Ahora procedemos a previsualizar los datos, comenzando con `instacart_orders`."
   ]
  },
  {
   "cell_type": "code",
   "execution_count": 4,
   "id": "ad6a1efa",
   "metadata": {
    "id": "ad6a1efa"
   },
   "outputs": [
    {
     "name": "stdout",
     "output_type": "stream",
     "text": [
      "<class 'pandas.core.frame.DataFrame'>\n",
      "RangeIndex: 478967 entries, 0 to 478966\n",
      "Data columns (total 6 columns):\n",
      " #   Column                  Non-Null Count   Dtype  \n",
      "---  ------                  --------------   -----  \n",
      " 0   order_id                478967 non-null  int64  \n",
      " 1   user_id                 478967 non-null  int64  \n",
      " 2   order_number            478967 non-null  int64  \n",
      " 3   order_dow               478967 non-null  int64  \n",
      " 4   order_hour_of_day       478967 non-null  int64  \n",
      " 5   days_since_prior_order  450148 non-null  float64\n",
      "dtypes: float64(1), int64(5)\n",
      "memory usage: 21.9 MB\n"
     ]
    },
    {
     "data": {
      "text/html": [
       "<div>\n",
       "<style scoped>\n",
       "    .dataframe tbody tr th:only-of-type {\n",
       "        vertical-align: middle;\n",
       "    }\n",
       "\n",
       "    .dataframe tbody tr th {\n",
       "        vertical-align: top;\n",
       "    }\n",
       "\n",
       "    .dataframe thead th {\n",
       "        text-align: right;\n",
       "    }\n",
       "</style>\n",
       "<table border=\"1\" class=\"dataframe\">\n",
       "  <thead>\n",
       "    <tr style=\"text-align: right;\">\n",
       "      <th></th>\n",
       "      <th>order_id</th>\n",
       "      <th>user_id</th>\n",
       "      <th>order_number</th>\n",
       "      <th>order_dow</th>\n",
       "      <th>order_hour_of_day</th>\n",
       "      <th>days_since_prior_order</th>\n",
       "    </tr>\n",
       "  </thead>\n",
       "  <tbody>\n",
       "    <tr>\n",
       "      <th>0</th>\n",
       "      <td>1515936</td>\n",
       "      <td>183418</td>\n",
       "      <td>11</td>\n",
       "      <td>6</td>\n",
       "      <td>13</td>\n",
       "      <td>30.0</td>\n",
       "    </tr>\n",
       "    <tr>\n",
       "      <th>1</th>\n",
       "      <td>1690866</td>\n",
       "      <td>163593</td>\n",
       "      <td>5</td>\n",
       "      <td>5</td>\n",
       "      <td>12</td>\n",
       "      <td>9.0</td>\n",
       "    </tr>\n",
       "    <tr>\n",
       "      <th>2</th>\n",
       "      <td>1454967</td>\n",
       "      <td>39980</td>\n",
       "      <td>4</td>\n",
       "      <td>5</td>\n",
       "      <td>19</td>\n",
       "      <td>2.0</td>\n",
       "    </tr>\n",
       "    <tr>\n",
       "      <th>3</th>\n",
       "      <td>1768857</td>\n",
       "      <td>82516</td>\n",
       "      <td>56</td>\n",
       "      <td>0</td>\n",
       "      <td>20</td>\n",
       "      <td>10.0</td>\n",
       "    </tr>\n",
       "    <tr>\n",
       "      <th>4</th>\n",
       "      <td>3007858</td>\n",
       "      <td>196724</td>\n",
       "      <td>2</td>\n",
       "      <td>4</td>\n",
       "      <td>12</td>\n",
       "      <td>17.0</td>\n",
       "    </tr>\n",
       "  </tbody>\n",
       "</table>\n",
       "</div>"
      ],
      "text/plain": [
       "   order_id  user_id  order_number  order_dow  order_hour_of_day  \\\n",
       "0   1515936   183418            11          6                 13   \n",
       "1   1690866   163593             5          5                 12   \n",
       "2   1454967    39980             4          5                 19   \n",
       "3   1768857    82516            56          0                 20   \n",
       "4   3007858   196724             2          4                 12   \n",
       "\n",
       "   days_since_prior_order  \n",
       "0                    30.0  \n",
       "1                     9.0  \n",
       "2                     2.0  \n",
       "3                    10.0  \n",
       "4                    17.0  "
      ]
     },
     "execution_count": 4,
     "metadata": {},
     "output_type": "execute_result"
    }
   ],
   "source": [
    "instacart_orders.info() # mostrar información del DataFrame\n",
    "instacart_orders.head()"
   ]
  },
  {
   "cell_type": "markdown",
   "id": "110e8346",
   "metadata": {},
   "source": [
    "En la columna `days_since_prior_order` podemos observar que hay valores ausentes y que el tipo de dato está erróneo, debería ser `int64`, esto será corregido más adelante. Seguimos con el dataset `products`."
   ]
  },
  {
   "cell_type": "code",
   "execution_count": 5,
   "id": "5130e05e",
   "metadata": {
    "id": "5130e05e"
   },
   "outputs": [
    {
     "name": "stdout",
     "output_type": "stream",
     "text": [
      "<class 'pandas.core.frame.DataFrame'>\n",
      "RangeIndex: 49694 entries, 0 to 49693\n",
      "Data columns (total 4 columns):\n",
      " #   Column         Non-Null Count  Dtype \n",
      "---  ------         --------------  ----- \n",
      " 0   product_id     49694 non-null  int64 \n",
      " 1   product_name   48436 non-null  object\n",
      " 2   aisle_id       49694 non-null  int64 \n",
      " 3   department_id  49694 non-null  int64 \n",
      "dtypes: int64(3), object(1)\n",
      "memory usage: 1.5+ MB\n"
     ]
    },
    {
     "data": {
      "text/html": [
       "<div>\n",
       "<style scoped>\n",
       "    .dataframe tbody tr th:only-of-type {\n",
       "        vertical-align: middle;\n",
       "    }\n",
       "\n",
       "    .dataframe tbody tr th {\n",
       "        vertical-align: top;\n",
       "    }\n",
       "\n",
       "    .dataframe thead th {\n",
       "        text-align: right;\n",
       "    }\n",
       "</style>\n",
       "<table border=\"1\" class=\"dataframe\">\n",
       "  <thead>\n",
       "    <tr style=\"text-align: right;\">\n",
       "      <th></th>\n",
       "      <th>product_id</th>\n",
       "      <th>product_name</th>\n",
       "      <th>aisle_id</th>\n",
       "      <th>department_id</th>\n",
       "    </tr>\n",
       "  </thead>\n",
       "  <tbody>\n",
       "    <tr>\n",
       "      <th>0</th>\n",
       "      <td>1</td>\n",
       "      <td>Chocolate Sandwich Cookies</td>\n",
       "      <td>61</td>\n",
       "      <td>19</td>\n",
       "    </tr>\n",
       "    <tr>\n",
       "      <th>1</th>\n",
       "      <td>2</td>\n",
       "      <td>All-Seasons Salt</td>\n",
       "      <td>104</td>\n",
       "      <td>13</td>\n",
       "    </tr>\n",
       "    <tr>\n",
       "      <th>2</th>\n",
       "      <td>3</td>\n",
       "      <td>Robust Golden Unsweetened Oolong Tea</td>\n",
       "      <td>94</td>\n",
       "      <td>7</td>\n",
       "    </tr>\n",
       "    <tr>\n",
       "      <th>3</th>\n",
       "      <td>4</td>\n",
       "      <td>Smart Ones Classic Favorites Mini Rigatoni Wit...</td>\n",
       "      <td>38</td>\n",
       "      <td>1</td>\n",
       "    </tr>\n",
       "    <tr>\n",
       "      <th>4</th>\n",
       "      <td>5</td>\n",
       "      <td>Green Chile Anytime Sauce</td>\n",
       "      <td>5</td>\n",
       "      <td>13</td>\n",
       "    </tr>\n",
       "  </tbody>\n",
       "</table>\n",
       "</div>"
      ],
      "text/plain": [
       "   product_id                                       product_name  aisle_id  \\\n",
       "0           1                         Chocolate Sandwich Cookies        61   \n",
       "1           2                                   All-Seasons Salt       104   \n",
       "2           3               Robust Golden Unsweetened Oolong Tea        94   \n",
       "3           4  Smart Ones Classic Favorites Mini Rigatoni Wit...        38   \n",
       "4           5                          Green Chile Anytime Sauce         5   \n",
       "\n",
       "   department_id  \n",
       "0             19  \n",
       "1             13  \n",
       "2              7  \n",
       "3              1  \n",
       "4             13  "
      ]
     },
     "execution_count": 5,
     "metadata": {},
     "output_type": "execute_result"
    }
   ],
   "source": [
    "products.info() # mostrar información del DataFrame\n",
    "products.head()"
   ]
  },
  {
   "cell_type": "markdown",
   "id": "c1d7e751",
   "metadata": {},
   "source": [
    "En la columna `product_name` podemos encontrar valores ausentes que deberán ser tratados. Pasamos al dataset `aisles`."
   ]
  },
  {
   "cell_type": "code",
   "execution_count": 6,
   "id": "d8370c05",
   "metadata": {
    "id": "d8370c05"
   },
   "outputs": [
    {
     "name": "stdout",
     "output_type": "stream",
     "text": [
      "<class 'pandas.core.frame.DataFrame'>\n",
      "RangeIndex: 134 entries, 0 to 133\n",
      "Data columns (total 2 columns):\n",
      " #   Column    Non-Null Count  Dtype \n",
      "---  ------    --------------  ----- \n",
      " 0   aisle_id  134 non-null    int64 \n",
      " 1   aisle     134 non-null    object\n",
      "dtypes: int64(1), object(1)\n",
      "memory usage: 2.2+ KB\n"
     ]
    },
    {
     "data": {
      "text/html": [
       "<div>\n",
       "<style scoped>\n",
       "    .dataframe tbody tr th:only-of-type {\n",
       "        vertical-align: middle;\n",
       "    }\n",
       "\n",
       "    .dataframe tbody tr th {\n",
       "        vertical-align: top;\n",
       "    }\n",
       "\n",
       "    .dataframe thead th {\n",
       "        text-align: right;\n",
       "    }\n",
       "</style>\n",
       "<table border=\"1\" class=\"dataframe\">\n",
       "  <thead>\n",
       "    <tr style=\"text-align: right;\">\n",
       "      <th></th>\n",
       "      <th>aisle_id</th>\n",
       "      <th>aisle</th>\n",
       "    </tr>\n",
       "  </thead>\n",
       "  <tbody>\n",
       "    <tr>\n",
       "      <th>0</th>\n",
       "      <td>1</td>\n",
       "      <td>prepared soups salads</td>\n",
       "    </tr>\n",
       "    <tr>\n",
       "      <th>1</th>\n",
       "      <td>2</td>\n",
       "      <td>specialty cheeses</td>\n",
       "    </tr>\n",
       "    <tr>\n",
       "      <th>2</th>\n",
       "      <td>3</td>\n",
       "      <td>energy granola bars</td>\n",
       "    </tr>\n",
       "    <tr>\n",
       "      <th>3</th>\n",
       "      <td>4</td>\n",
       "      <td>instant foods</td>\n",
       "    </tr>\n",
       "    <tr>\n",
       "      <th>4</th>\n",
       "      <td>5</td>\n",
       "      <td>marinades meat preparation</td>\n",
       "    </tr>\n",
       "  </tbody>\n",
       "</table>\n",
       "</div>"
      ],
      "text/plain": [
       "   aisle_id                       aisle\n",
       "0         1       prepared soups salads\n",
       "1         2           specialty cheeses\n",
       "2         3         energy granola bars\n",
       "3         4               instant foods\n",
       "4         5  marinades meat preparation"
      ]
     },
     "execution_count": 6,
     "metadata": {},
     "output_type": "execute_result"
    }
   ],
   "source": [
    "aisles.info() # mostrar información del DataFrame\n",
    "aisles.head()"
   ]
  },
  {
   "cell_type": "markdown",
   "id": "8d5df11e",
   "metadata": {},
   "source": [
    "En este dataset no se encuentran problemas. Pasamos a `departments`."
   ]
  },
  {
   "cell_type": "code",
   "execution_count": 7,
   "id": "59e2090f",
   "metadata": {
    "id": "59e2090f"
   },
   "outputs": [
    {
     "name": "stdout",
     "output_type": "stream",
     "text": [
      "<class 'pandas.core.frame.DataFrame'>\n",
      "RangeIndex: 21 entries, 0 to 20\n",
      "Data columns (total 2 columns):\n",
      " #   Column         Non-Null Count  Dtype \n",
      "---  ------         --------------  ----- \n",
      " 0   department_id  21 non-null     int64 \n",
      " 1   department     21 non-null     object\n",
      "dtypes: int64(1), object(1)\n",
      "memory usage: 464.0+ bytes\n"
     ]
    },
    {
     "data": {
      "text/html": [
       "<div>\n",
       "<style scoped>\n",
       "    .dataframe tbody tr th:only-of-type {\n",
       "        vertical-align: middle;\n",
       "    }\n",
       "\n",
       "    .dataframe tbody tr th {\n",
       "        vertical-align: top;\n",
       "    }\n",
       "\n",
       "    .dataframe thead th {\n",
       "        text-align: right;\n",
       "    }\n",
       "</style>\n",
       "<table border=\"1\" class=\"dataframe\">\n",
       "  <thead>\n",
       "    <tr style=\"text-align: right;\">\n",
       "      <th></th>\n",
       "      <th>department_id</th>\n",
       "      <th>department</th>\n",
       "    </tr>\n",
       "  </thead>\n",
       "  <tbody>\n",
       "    <tr>\n",
       "      <th>0</th>\n",
       "      <td>1</td>\n",
       "      <td>frozen</td>\n",
       "    </tr>\n",
       "    <tr>\n",
       "      <th>1</th>\n",
       "      <td>2</td>\n",
       "      <td>other</td>\n",
       "    </tr>\n",
       "    <tr>\n",
       "      <th>2</th>\n",
       "      <td>3</td>\n",
       "      <td>bakery</td>\n",
       "    </tr>\n",
       "    <tr>\n",
       "      <th>3</th>\n",
       "      <td>4</td>\n",
       "      <td>produce</td>\n",
       "    </tr>\n",
       "    <tr>\n",
       "      <th>4</th>\n",
       "      <td>5</td>\n",
       "      <td>alcohol</td>\n",
       "    </tr>\n",
       "  </tbody>\n",
       "</table>\n",
       "</div>"
      ],
      "text/plain": [
       "   department_id department\n",
       "0              1     frozen\n",
       "1              2      other\n",
       "2              3     bakery\n",
       "3              4    produce\n",
       "4              5    alcohol"
      ]
     },
     "execution_count": 7,
     "metadata": {},
     "output_type": "execute_result"
    }
   ],
   "source": [
    "departments.info() # mostrar información del DataFrame\n",
    "departments.head()"
   ]
  },
  {
   "cell_type": "markdown",
   "id": "e7795162",
   "metadata": {},
   "source": [
    "En este dataset tampoco se encuentran problemas. Pasamos al último conjunto de datos, `order_products`."
   ]
  },
  {
   "cell_type": "code",
   "execution_count": 8,
   "id": "6fc81694",
   "metadata": {
    "id": "6fc81694"
   },
   "outputs": [
    {
     "name": "stdout",
     "output_type": "stream",
     "text": [
      "<class 'pandas.core.frame.DataFrame'>\n",
      "RangeIndex: 4545007 entries, 0 to 4545006\n",
      "Data columns (total 4 columns):\n",
      " #   Column             Non-Null Count    Dtype  \n",
      "---  ------             --------------    -----  \n",
      " 0   order_id           4545007 non-null  int64  \n",
      " 1   product_id         4545007 non-null  int64  \n",
      " 2   add_to_cart_order  4544171 non-null  float64\n",
      " 3   reordered          4545007 non-null  int64  \n",
      "dtypes: float64(1), int64(3)\n",
      "memory usage: 138.7 MB\n"
     ]
    },
    {
     "data": {
      "text/html": [
       "<div>\n",
       "<style scoped>\n",
       "    .dataframe tbody tr th:only-of-type {\n",
       "        vertical-align: middle;\n",
       "    }\n",
       "\n",
       "    .dataframe tbody tr th {\n",
       "        vertical-align: top;\n",
       "    }\n",
       "\n",
       "    .dataframe thead th {\n",
       "        text-align: right;\n",
       "    }\n",
       "</style>\n",
       "<table border=\"1\" class=\"dataframe\">\n",
       "  <thead>\n",
       "    <tr style=\"text-align: right;\">\n",
       "      <th></th>\n",
       "      <th>order_id</th>\n",
       "      <th>product_id</th>\n",
       "      <th>add_to_cart_order</th>\n",
       "      <th>reordered</th>\n",
       "    </tr>\n",
       "  </thead>\n",
       "  <tbody>\n",
       "    <tr>\n",
       "      <th>0</th>\n",
       "      <td>2141543</td>\n",
       "      <td>11440</td>\n",
       "      <td>17.0</td>\n",
       "      <td>0</td>\n",
       "    </tr>\n",
       "    <tr>\n",
       "      <th>1</th>\n",
       "      <td>567889</td>\n",
       "      <td>1560</td>\n",
       "      <td>1.0</td>\n",
       "      <td>1</td>\n",
       "    </tr>\n",
       "    <tr>\n",
       "      <th>2</th>\n",
       "      <td>2261212</td>\n",
       "      <td>26683</td>\n",
       "      <td>1.0</td>\n",
       "      <td>1</td>\n",
       "    </tr>\n",
       "    <tr>\n",
       "      <th>3</th>\n",
       "      <td>491251</td>\n",
       "      <td>8670</td>\n",
       "      <td>35.0</td>\n",
       "      <td>1</td>\n",
       "    </tr>\n",
       "    <tr>\n",
       "      <th>4</th>\n",
       "      <td>2571142</td>\n",
       "      <td>1940</td>\n",
       "      <td>5.0</td>\n",
       "      <td>1</td>\n",
       "    </tr>\n",
       "  </tbody>\n",
       "</table>\n",
       "</div>"
      ],
      "text/plain": [
       "   order_id  product_id  add_to_cart_order  reordered\n",
       "0   2141543       11440               17.0          0\n",
       "1    567889        1560                1.0          1\n",
       "2   2261212       26683                1.0          1\n",
       "3    491251        8670               35.0          1\n",
       "4   2571142        1940                5.0          1"
      ]
     },
     "execution_count": 8,
     "metadata": {},
     "output_type": "execute_result"
    }
   ],
   "source": [
    "order_products.info(show_counts=True) # mostrar información del DataFrame\n",
    "order_products.head()"
   ]
  },
  {
   "cell_type": "markdown",
   "id": "5c3650b7",
   "metadata": {},
   "source": [
    "En la columna `add_to_cart_order` podemos encontrar que existen valores ausentes y que el tipo de dato debería ser `int64`."
   ]
  },
  {
   "cell_type": "markdown",
   "id": "t75BD19oaR5f",
   "metadata": {
    "id": "t75BD19oaR5f"
   },
   "source": [
    "### Conclusiones"
   ]
  },
  {
   "cell_type": "markdown",
   "id": "eb7efaff",
   "metadata": {},
   "source": [
    "Se observa que son archivos separados por `;`, al corregir esto se puede apreciar que hay datos ausentes en tres de los cinco archivos y que hay que corregir el tipo de datos en dos dataframes."
   ]
  },
  {
   "cell_type": "markdown",
   "id": "8RJHqxVmaVsF",
   "metadata": {
    "id": "8RJHqxVmaVsF"
   },
   "source": [
    "## Paso 2. Preprocesamiento de los datos"
   ]
  },
  {
   "cell_type": "markdown",
   "id": "34da6075",
   "metadata": {},
   "source": [
    "Antes de pasar al análisis de los datos como tal, debemos trabajar los valores duplicados (tomando diferentes medidas si son cualitativos o cuantitativos) y los valores ausentes, siempre respetando el contexto, los demás datos de los dataframes y tratando de extraer información valiosa de estos."
   ]
  },
  {
   "cell_type": "markdown",
   "id": "b80e3186",
   "metadata": {},
   "source": [
    "Se preprocesarán los datasets siguiendo los siguientes lineamientos:\n",
    "\n",
    "- Verificación y corrección de los tipos de datos.\n",
    "- Identificación y trabajo de valores ausentes.\n",
    "- Identificación y eliminación los valores duplicados."
   ]
  },
  {
   "cell_type": "markdown",
   "id": "07357848-dc64-4156-9cc3-01ff4365226d",
   "metadata": {
    "id": "07357848-dc64-4156-9cc3-01ff4365226d"
   },
   "source": [
    "### Encontrar y eliminar valores duplicados"
   ]
  },
  {
   "cell_type": "markdown",
   "id": "12739e17",
   "metadata": {},
   "source": [
    "Se realizará una búsqueda y trabajo (en caso de que corresponda) de los valores duplicados."
   ]
  },
  {
   "cell_type": "markdown",
   "id": "f179f0a9",
   "metadata": {
    "id": "f179f0a9"
   },
   "source": [
    "#### `orders` data frame"
   ]
  },
  {
   "cell_type": "markdown",
   "id": "4dc2d0ae",
   "metadata": {},
   "source": [
    "Calculamos el número de duplicados y mostramos los datos para verificar si tienen algo en común."
   ]
  },
  {
   "cell_type": "code",
   "execution_count": 9,
   "id": "b99297a5-405a-463d-8535-9adc3da4ad74",
   "metadata": {
    "id": "b99297a5-405a-463d-8535-9adc3da4ad74"
   },
   "outputs": [
    {
     "name": "stdout",
     "output_type": "stream",
     "text": [
      "15\n",
      "\n"
     ]
    },
    {
     "data": {
      "text/html": [
       "<div>\n",
       "<style scoped>\n",
       "    .dataframe tbody tr th:only-of-type {\n",
       "        vertical-align: middle;\n",
       "    }\n",
       "\n",
       "    .dataframe tbody tr th {\n",
       "        vertical-align: top;\n",
       "    }\n",
       "\n",
       "    .dataframe thead th {\n",
       "        text-align: right;\n",
       "    }\n",
       "</style>\n",
       "<table border=\"1\" class=\"dataframe\">\n",
       "  <thead>\n",
       "    <tr style=\"text-align: right;\">\n",
       "      <th></th>\n",
       "      <th>order_id</th>\n",
       "      <th>user_id</th>\n",
       "      <th>order_number</th>\n",
       "      <th>order_dow</th>\n",
       "      <th>order_hour_of_day</th>\n",
       "      <th>days_since_prior_order</th>\n",
       "    </tr>\n",
       "  </thead>\n",
       "  <tbody>\n",
       "    <tr>\n",
       "      <th>145574</th>\n",
       "      <td>794638</td>\n",
       "      <td>50898</td>\n",
       "      <td>24</td>\n",
       "      <td>3</td>\n",
       "      <td>2</td>\n",
       "      <td>2.0</td>\n",
       "    </tr>\n",
       "    <tr>\n",
       "      <th>223105</th>\n",
       "      <td>2160484</td>\n",
       "      <td>107525</td>\n",
       "      <td>16</td>\n",
       "      <td>3</td>\n",
       "      <td>2</td>\n",
       "      <td>30.0</td>\n",
       "    </tr>\n",
       "    <tr>\n",
       "      <th>230807</th>\n",
       "      <td>1918001</td>\n",
       "      <td>188546</td>\n",
       "      <td>14</td>\n",
       "      <td>3</td>\n",
       "      <td>2</td>\n",
       "      <td>16.0</td>\n",
       "    </tr>\n",
       "    <tr>\n",
       "      <th>266232</th>\n",
       "      <td>1782114</td>\n",
       "      <td>106752</td>\n",
       "      <td>1</td>\n",
       "      <td>3</td>\n",
       "      <td>2</td>\n",
       "      <td>NaN</td>\n",
       "    </tr>\n",
       "    <tr>\n",
       "      <th>273805</th>\n",
       "      <td>1112182</td>\n",
       "      <td>202304</td>\n",
       "      <td>84</td>\n",
       "      <td>3</td>\n",
       "      <td>2</td>\n",
       "      <td>6.0</td>\n",
       "    </tr>\n",
       "    <tr>\n",
       "      <th>284038</th>\n",
       "      <td>2845099</td>\n",
       "      <td>31189</td>\n",
       "      <td>11</td>\n",
       "      <td>3</td>\n",
       "      <td>2</td>\n",
       "      <td>7.0</td>\n",
       "    </tr>\n",
       "    <tr>\n",
       "      <th>311713</th>\n",
       "      <td>1021560</td>\n",
       "      <td>53767</td>\n",
       "      <td>3</td>\n",
       "      <td>3</td>\n",
       "      <td>2</td>\n",
       "      <td>9.0</td>\n",
       "    </tr>\n",
       "    <tr>\n",
       "      <th>321100</th>\n",
       "      <td>408114</td>\n",
       "      <td>68324</td>\n",
       "      <td>4</td>\n",
       "      <td>3</td>\n",
       "      <td>2</td>\n",
       "      <td>18.0</td>\n",
       "    </tr>\n",
       "    <tr>\n",
       "      <th>323900</th>\n",
       "      <td>1919531</td>\n",
       "      <td>191501</td>\n",
       "      <td>32</td>\n",
       "      <td>3</td>\n",
       "      <td>2</td>\n",
       "      <td>7.0</td>\n",
       "    </tr>\n",
       "    <tr>\n",
       "      <th>345917</th>\n",
       "      <td>2232988</td>\n",
       "      <td>82565</td>\n",
       "      <td>1</td>\n",
       "      <td>3</td>\n",
       "      <td>2</td>\n",
       "      <td>NaN</td>\n",
       "    </tr>\n",
       "    <tr>\n",
       "      <th>371905</th>\n",
       "      <td>391768</td>\n",
       "      <td>57671</td>\n",
       "      <td>19</td>\n",
       "      <td>3</td>\n",
       "      <td>2</td>\n",
       "      <td>10.0</td>\n",
       "    </tr>\n",
       "    <tr>\n",
       "      <th>394347</th>\n",
       "      <td>467134</td>\n",
       "      <td>63189</td>\n",
       "      <td>21</td>\n",
       "      <td>3</td>\n",
       "      <td>2</td>\n",
       "      <td>2.0</td>\n",
       "    </tr>\n",
       "    <tr>\n",
       "      <th>411408</th>\n",
       "      <td>1286742</td>\n",
       "      <td>183220</td>\n",
       "      <td>48</td>\n",
       "      <td>3</td>\n",
       "      <td>2</td>\n",
       "      <td>4.0</td>\n",
       "    </tr>\n",
       "    <tr>\n",
       "      <th>415163</th>\n",
       "      <td>2282673</td>\n",
       "      <td>86751</td>\n",
       "      <td>49</td>\n",
       "      <td>3</td>\n",
       "      <td>2</td>\n",
       "      <td>2.0</td>\n",
       "    </tr>\n",
       "    <tr>\n",
       "      <th>441599</th>\n",
       "      <td>2125197</td>\n",
       "      <td>14050</td>\n",
       "      <td>48</td>\n",
       "      <td>3</td>\n",
       "      <td>2</td>\n",
       "      <td>3.0</td>\n",
       "    </tr>\n",
       "  </tbody>\n",
       "</table>\n",
       "</div>"
      ],
      "text/plain": [
       "        order_id  user_id  order_number  order_dow  order_hour_of_day  \\\n",
       "145574    794638    50898            24          3                  2   \n",
       "223105   2160484   107525            16          3                  2   \n",
       "230807   1918001   188546            14          3                  2   \n",
       "266232   1782114   106752             1          3                  2   \n",
       "273805   1112182   202304            84          3                  2   \n",
       "284038   2845099    31189            11          3                  2   \n",
       "311713   1021560    53767             3          3                  2   \n",
       "321100    408114    68324             4          3                  2   \n",
       "323900   1919531   191501            32          3                  2   \n",
       "345917   2232988    82565             1          3                  2   \n",
       "371905    391768    57671            19          3                  2   \n",
       "394347    467134    63189            21          3                  2   \n",
       "411408   1286742   183220            48          3                  2   \n",
       "415163   2282673    86751            49          3                  2   \n",
       "441599   2125197    14050            48          3                  2   \n",
       "\n",
       "        days_since_prior_order  \n",
       "145574                     2.0  \n",
       "223105                    30.0  \n",
       "230807                    16.0  \n",
       "266232                     NaN  \n",
       "273805                     6.0  \n",
       "284038                     7.0  \n",
       "311713                     9.0  \n",
       "321100                    18.0  \n",
       "323900                     7.0  \n",
       "345917                     NaN  \n",
       "371905                    10.0  \n",
       "394347                     2.0  \n",
       "411408                     4.0  \n",
       "415163                     2.0  \n",
       "441599                     3.0  "
      ]
     },
     "execution_count": 9,
     "metadata": {},
     "output_type": "execute_result"
    }
   ],
   "source": [
    "print(instacart_orders.duplicated().sum()) # Revisa si hay pedidos duplicados\n",
    "print()\n",
    "instacart_orders[instacart_orders.duplicated()]"
   ]
  },
  {
   "cell_type": "markdown",
   "id": "66519ac5",
   "metadata": {},
   "source": [
    "Hay 15 lineas duplicadas y __todas tienen como día `3` (miércoles) y hora `2`__. Ahora vamos a calcular el total de ventas registradas que coincidan con, dia 3 y hora 2."
   ]
  },
  {
   "cell_type": "code",
   "execution_count": 10,
   "id": "0d44de5d",
   "metadata": {
    "id": "0d44de5d"
   },
   "outputs": [
    {
     "data": {
      "text/plain": [
       "121"
      ]
     },
     "execution_count": 10,
     "metadata": {},
     "output_type": "execute_result"
    }
   ],
   "source": [
    "len(instacart_orders[(instacart_orders['order_dow'] == 3) & (instacart_orders['order_hour_of_day'] == 2)]) #Se filtra el DataFrame por los pedidos realizados el miercoles a las 2"
   ]
  },
  {
   "cell_type": "markdown",
   "id": "e5b08a0b",
   "metadata": {},
   "source": [
    "El resultado sugiere que de las 121 ventas registradas el miércoles a las 2, __15 son duplicados ingresados erróneamente__, por lo cual, el total de ventas del miércoles a las 2 es de 106. Viendo que se trata de un error, eliminaremos los duplicados."
   ]
  },
  {
   "cell_type": "code",
   "execution_count": 11,
   "id": "480563c7",
   "metadata": {
    "id": "480563c7"
   },
   "outputs": [
    {
     "name": "stdout",
     "output_type": "stream",
     "text": [
      "0\n"
     ]
    }
   ],
   "source": [
    "instacart_orders.drop_duplicates(inplace=True) # Eliminar los pedidos duplicados\n",
    "print(instacart_orders.duplicated().sum()) # Verificar nuevamente si hay filas duplicadas"
   ]
  },
  {
   "cell_type": "markdown",
   "id": "d589a644",
   "metadata": {},
   "source": [
    "Los duplicados son eliminados exitosamente. Ahora se revisará únicamente la columna `order_id` en busca de ID's repetidas."
   ]
  },
  {
   "cell_type": "code",
   "execution_count": 12,
   "id": "f6113ef1",
   "metadata": {
    "id": "f6113ef1"
   },
   "outputs": [
    {
     "name": "stdout",
     "output_type": "stream",
     "text": [
      "0\n"
     ]
    }
   ],
   "source": [
    "instacart_orders[instacart_orders.duplicated('order_id')] # Verificar si hay IDs duplicados de pedidos\n",
    "print(instacart_orders['order_id'].duplicated().sum())"
   ]
  },
  {
   "cell_type": "markdown",
   "id": "5e8905ae",
   "metadata": {
    "id": "5e8905ae"
   },
   "source": [
    "No se encuentran duplicados en la columna.\n",
    "\n",
    "Resumiendo, se comprueba la existencia de duplicados completamente idénticos en el dataset, los cuales tenían el día y la hora en común, por lo cual se revisan todos los pedidos hechos en ese día y hora (miércoles a las 2) para encontrar alguna otra anomalía, sin embargo, todo se ve bien. Finalmente __se eliminan los duplicados completos__ y se comprueba la existencia de duplicados exclusivamente en la columna `order_id` (lo cual no es problemático, ya que es una columna de codigos únicos para cada pedido y pueden haber varios artículos en un pedido) no se encuentran duplicados adicionales en esta columna."
   ]
  },
  {
   "cell_type": "markdown",
   "id": "45e6bc46",
   "metadata": {
    "id": "45e6bc46"
   },
   "source": [
    "#### `products` data frame"
   ]
  },
  {
   "cell_type": "markdown",
   "id": "a1e6eb22",
   "metadata": {},
   "source": [
    "Comenzamos calculando el número de filas completamente duplicadas."
   ]
  },
  {
   "cell_type": "code",
   "execution_count": 13,
   "id": "5f526b5b-8175-46fa-a0fd-441767d50e64",
   "metadata": {
    "id": "5f526b5b-8175-46fa-a0fd-441767d50e64"
   },
   "outputs": [
    {
     "name": "stdout",
     "output_type": "stream",
     "text": [
      "0\n"
     ]
    }
   ],
   "source": [
    "print(products.duplicated().sum()) # Verificar si hay filas totalmente duplicadas"
   ]
  },
  {
   "cell_type": "markdown",
   "id": "6e73a108",
   "metadata": {},
   "source": [
    "Ahora calcularemos el número de nombres de producto duplicados en el dataset. Para realizar el cálculo convertiremos todo el texto de la columna a mínusculas para evitar dejar fuera duplicados implícitos."
   ]
  },
  {
   "cell_type": "code",
   "execution_count": 15,
   "id": "c773f0bf",
   "metadata": {
    "id": "c773f0bf"
   },
   "outputs": [
    {
     "name": "stdout",
     "output_type": "stream",
     "text": [
      "\n",
      "1361\n"
     ]
    }
   ],
   "source": [
    "products['product_name'] = products['product_name'].str.lower() # Revisar únicamente si hay nombres duplicados de productos (convierte los nombres a letras mayúsculas para compararlos mejor)\n",
    "print()\n",
    "print(products['product_name'].duplicated().sum())"
   ]
  },
  {
   "cell_type": "markdown",
   "id": "f58502fd",
   "metadata": {},
   "source": [
    "Son encontrados 1361 nombres de producto repetidos. Buscaremos duplicados en los ID de producto para ver si concuerdan con los de la columna `product_name`."
   ]
  },
  {
   "cell_type": "code",
   "execution_count": 16,
   "id": "01efd02e",
   "metadata": {
    "id": "01efd02e",
    "scrolled": true
   },
   "outputs": [
    {
     "name": "stdout",
     "output_type": "stream",
     "text": [
      "104\n",
      "\n",
      "0\n"
     ]
    }
   ],
   "source": [
    "print(products['product_name'].dropna().duplicated().sum()) # Revisar si hay nombres duplicados de productos no faltantes\n",
    "print()\n",
    "print(products['product_id'].duplicated().sum())"
   ]
  },
  {
   "cell_type": "markdown",
   "id": "9da8d293",
   "metadata": {
    "id": "9da8d293"
   },
   "source": [
    "Se encuentra que existen varias filas con nombres de producto duplicados, sin embargo la gran mayoría corresponden a productos con nombre ausente, siendo solo 104 valores nombres duplicados con valores no ausentes, al revisar duplicados por id de producto, nos encontramos con que __no existen duplicados, por lo que debe tratarse del mismo producto pero diferente marca__ (o algo por el estilo)."
   ]
  },
  {
   "cell_type": "markdown",
   "id": "60f30db1",
   "metadata": {
    "id": "60f30db1"
   },
   "source": [
    "#### `departments` data frame"
   ]
  },
  {
   "cell_type": "markdown",
   "id": "e7e25414",
   "metadata": {},
   "source": [
    "De la misma manera que en los datasets anteriores calcularemos el número de filas completamente duplicadas."
   ]
  },
  {
   "cell_type": "code",
   "execution_count": 17,
   "id": "fb410ad4-0fbf-4b80-bb09-23fdea79afe3",
   "metadata": {
    "id": "fb410ad4-0fbf-4b80-bb09-23fdea79afe3"
   },
   "outputs": [
    {
     "name": "stdout",
     "output_type": "stream",
     "text": [
      "0\n"
     ]
    }
   ],
   "source": [
    "print(departments.duplicated().sum()) # Revisar si hay filas totalmente duplicadas"
   ]
  },
  {
   "cell_type": "markdown",
   "id": "695ab3cd",
   "metadata": {},
   "source": [
    "No se encuentran duplicados, se revisará si hay IDs de departamento duplicados."
   ]
  },
  {
   "cell_type": "code",
   "execution_count": 18,
   "id": "332b12bb",
   "metadata": {
    "id": "332b12bb"
   },
   "outputs": [
    {
     "name": "stdout",
     "output_type": "stream",
     "text": [
      "0\n"
     ]
    }
   ],
   "source": [
    "print(departments['department_id'].duplicated().sum()) # Revisar únicamente si hay IDs duplicadas de departamento"
   ]
  },
  {
   "cell_type": "markdown",
   "id": "bd30d78e",
   "metadata": {
    "id": "bd30d78e"
   },
   "source": [
    "No se encuentran duplicados completos ni por id de departamento."
   ]
  },
  {
   "cell_type": "markdown",
   "id": "889349c1",
   "metadata": {
    "id": "889349c1"
   },
   "source": [
    "#### `aisles` data frame"
   ]
  },
  {
   "cell_type": "markdown",
   "id": "149fa2c7",
   "metadata": {},
   "source": [
    "Iniciamos la búsqueda de duplicados completos."
   ]
  },
  {
   "cell_type": "code",
   "execution_count": 19,
   "id": "9da89fb9-4679-40f5-ad0d-c34df753a3f8",
   "metadata": {
    "id": "9da89fb9-4679-40f5-ad0d-c34df753a3f8"
   },
   "outputs": [
    {
     "name": "stdout",
     "output_type": "stream",
     "text": [
      "0\n"
     ]
    }
   ],
   "source": [
    "print(aisles.duplicated().sum()) # Revisar si hay filas totalmente duplicadas"
   ]
  },
  {
   "cell_type": "markdown",
   "id": "f4c7de5f",
   "metadata": {},
   "source": [
    "Buscamos ahora en los ID de pasillo."
   ]
  },
  {
   "cell_type": "code",
   "execution_count": 20,
   "id": "da7c2822",
   "metadata": {
    "id": "da7c2822"
   },
   "outputs": [
    {
     "name": "stdout",
     "output_type": "stream",
     "text": [
      "0\n"
     ]
    }
   ],
   "source": [
    "print(aisles['aisle_id'].duplicated().sum()) # Revisar únicamente si hay IDs duplicadas de pasillos"
   ]
  },
  {
   "cell_type": "markdown",
   "id": "ac63826f",
   "metadata": {
    "id": "ac63826f"
   },
   "source": [
    "No se encuentran duplicados completos ni por id de pasillo."
   ]
  },
  {
   "cell_type": "markdown",
   "id": "274cd06a",
   "metadata": {
    "id": "274cd06a"
   },
   "source": [
    "#### `order_products` data frame"
   ]
  },
  {
   "cell_type": "markdown",
   "id": "02429707",
   "metadata": {},
   "source": [
    "Verificamos la existencia de duplciados completos en el conjunto de datos."
   ]
  },
  {
   "cell_type": "code",
   "execution_count": 21,
   "id": "52326689-84a8-4b8f-a881-7c68780f62c9",
   "metadata": {
    "id": "52326689-84a8-4b8f-a881-7c68780f62c9"
   },
   "outputs": [
    {
     "name": "stdout",
     "output_type": "stream",
     "text": [
      "0\n"
     ]
    }
   ],
   "source": [
    "print(order_products.duplicated().sum()) # Revisa si hay filas totalmente duplicadas"
   ]
  },
  {
   "cell_type": "markdown",
   "id": "0b890492",
   "metadata": {
    "id": "0b890492"
   },
   "source": [
    "No hay duplicados completos."
   ]
  },
  {
   "cell_type": "markdown",
   "id": "1e46de76",
   "metadata": {
    "id": "1e46de76"
   },
   "source": [
    "### Encuentra y elimina los valores ausentes"
   ]
  },
  {
   "cell_type": "markdown",
   "id": "e481f861",
   "metadata": {},
   "source": [
    "Al trabajar con valores duplicados, pudimos observar que también nos falta investigar valores ausentes:\n",
    "\n",
    "* La columna `'product_name'` de la tabla products.\n",
    "* La columna `'days_since_prior_order'` de la tabla orders.\n",
    "* La columna `'add_to_cart_order'` de la tabla order_productos."
   ]
  },
  {
   "cell_type": "markdown",
   "id": "c0aebd78",
   "metadata": {
    "id": "c0aebd78"
   },
   "source": [
    "#### `products` data frame"
   ]
  },
  {
   "cell_type": "markdown",
   "id": "be456794",
   "metadata": {},
   "source": [
    "Comenzamos guardando filas con valores ausentes en la variable `isna`."
   ]
  },
  {
   "cell_type": "code",
   "execution_count": 23,
   "id": "fe4a8b0f",
   "metadata": {
    "id": "fe4a8b0f"
   },
   "outputs": [
    {
     "name": "stdout",
     "output_type": "stream",
     "text": [
      "1258\n"
     ]
    },
    {
     "data": {
      "text/html": [
       "<div>\n",
       "<style scoped>\n",
       "    .dataframe tbody tr th:only-of-type {\n",
       "        vertical-align: middle;\n",
       "    }\n",
       "\n",
       "    .dataframe tbody tr th {\n",
       "        vertical-align: top;\n",
       "    }\n",
       "\n",
       "    .dataframe thead th {\n",
       "        text-align: right;\n",
       "    }\n",
       "</style>\n",
       "<table border=\"1\" class=\"dataframe\">\n",
       "  <thead>\n",
       "    <tr style=\"text-align: right;\">\n",
       "      <th></th>\n",
       "      <th>product_id</th>\n",
       "      <th>product_name</th>\n",
       "      <th>aisle_id</th>\n",
       "      <th>department_id</th>\n",
       "    </tr>\n",
       "  </thead>\n",
       "  <tbody>\n",
       "    <tr>\n",
       "      <th>37</th>\n",
       "      <td>38</td>\n",
       "      <td>NaN</td>\n",
       "      <td>100</td>\n",
       "      <td>21</td>\n",
       "    </tr>\n",
       "    <tr>\n",
       "      <th>71</th>\n",
       "      <td>72</td>\n",
       "      <td>NaN</td>\n",
       "      <td>100</td>\n",
       "      <td>21</td>\n",
       "    </tr>\n",
       "    <tr>\n",
       "      <th>109</th>\n",
       "      <td>110</td>\n",
       "      <td>NaN</td>\n",
       "      <td>100</td>\n",
       "      <td>21</td>\n",
       "    </tr>\n",
       "    <tr>\n",
       "      <th>296</th>\n",
       "      <td>297</td>\n",
       "      <td>NaN</td>\n",
       "      <td>100</td>\n",
       "      <td>21</td>\n",
       "    </tr>\n",
       "    <tr>\n",
       "      <th>416</th>\n",
       "      <td>417</td>\n",
       "      <td>NaN</td>\n",
       "      <td>100</td>\n",
       "      <td>21</td>\n",
       "    </tr>\n",
       "  </tbody>\n",
       "</table>\n",
       "</div>"
      ],
      "text/plain": [
       "     product_id product_name  aisle_id  department_id\n",
       "37           38          NaN       100             21\n",
       "71           72          NaN       100             21\n",
       "109         110          NaN       100             21\n",
       "296         297          NaN       100             21\n",
       "416         417          NaN       100             21"
      ]
     },
     "execution_count": 23,
     "metadata": {},
     "output_type": "execute_result"
    }
   ],
   "source": [
    "isna = products[products['product_name'].isna()] # Encuentra los valores ausentes en la columna 'product_name'\n",
    "print(products['product_name'].isna().sum())\n",
    "isna.head()"
   ]
  },
  {
   "cell_type": "markdown",
   "id": "-A6x1AbJhjkp",
   "metadata": {
    "id": "-A6x1AbJhjkp"
   },
   "source": [
    "Hay 1258 valores ausentes en la columna `product_name`, podemos apreciar que parecen encontrarse solo en el pasillo 100 y departamento 21, para confirmar esto buscaremos el número de valores ausentes en el pasillo 100."
   ]
  },
  {
   "cell_type": "code",
   "execution_count": 24,
   "id": "e96167bc",
   "metadata": {
    "id": "e96167bc"
   },
   "outputs": [
    {
     "name": "stdout",
     "output_type": "stream",
     "text": [
      "1258\n"
     ]
    }
   ],
   "source": [
    "products_in = products[products['product_name'].isna()] #  ¿Todos los nombres de productos ausentes están relacionados con el pasillo con ID 100?\n",
    "print(len(products_in.query('aisle_id == 100')))"
   ]
  },
  {
   "cell_type": "markdown",
   "id": "WRpIfXRphpSL",
   "metadata": {
    "id": "WRpIfXRphpSL"
   },
   "source": [
    "Los números coinciden, es decir, todos los valores ausentes están relacionados con el pasillo con ID 100. Ahora revisaremos haremos lo mismos con el pasillo 21."
   ]
  },
  {
   "cell_type": "code",
   "execution_count": 25,
   "id": "8fd0a541",
   "metadata": {
    "id": "8fd0a541"
   },
   "outputs": [
    {
     "name": "stdout",
     "output_type": "stream",
     "text": [
      "1258\n"
     ]
    }
   ],
   "source": [
    "print(len(products_in.query('department_id == 21'))) # ¿Todos los nombres de productos ausentes están relacionados con el departamento con ID 21?"
   ]
  },
  {
   "cell_type": "markdown",
   "id": "qDpdYn1Fht_I",
   "metadata": {
    "id": "qDpdYn1Fht_I"
   },
   "source": [
    "Los números vuelven a coincidir, todos los valores ausentes están relacionados con el pasillo con ID 21."
   ]
  },
  {
   "cell_type": "code",
   "execution_count": 26,
   "id": "325c3464",
   "metadata": {
    "id": "325c3464"
   },
   "outputs": [
    {
     "name": "stdout",
     "output_type": "stream",
     "text": [
      "    department_id department\n",
      "20             21    missing\n",
      "\n",
      "    aisle_id    aisle\n",
      "99       100  missing\n"
     ]
    }
   ],
   "source": [
    "print(departments.query('department_id == 21')) # Usar las tablas department y aisle para revisar los datos del pasillo con ID 100 y el departamento con ID 21.\n",
    "print()\n",
    "print(aisles.query('aisle_id == 100'))"
   ]
  },
  {
   "cell_type": "markdown",
   "id": "nqhSTUPhhvEJ",
   "metadata": {
    "id": "nqhSTUPhhvEJ"
   },
   "source": [
    "Tanto el departamento de ID 21 como el pasillo de ID 100 se encuentran `missing` (faltantes). Procederemos a reemplazar los ausentes con `Unknown`."
   ]
  },
  {
   "cell_type": "code",
   "execution_count": 27,
   "id": "6b295120",
   "metadata": {
    "id": "6b295120"
   },
   "outputs": [
    {
     "name": "stdout",
     "output_type": "stream",
     "text": [
      "\n",
      "0\n"
     ]
    }
   ],
   "source": [
    "products['product_name'].fillna('Unknown', inplace=True) # Completa los nombres de productos ausentes con 'Unknown'\n",
    "print()\n",
    "print(products['product_name'].isna().sum())"
   ]
  },
  {
   "cell_type": "markdown",
   "id": "fc70e5ad",
   "metadata": {
    "id": "fc70e5ad"
   },
   "source": [
    "Se reemplaza el `Nan` con `Unknown` ya que son productos desconocidos, sin emabrgo los datos relacionados podrían seguir sirviendo para un análisis."
   ]
  },
  {
   "cell_type": "markdown",
   "id": "7eb45c86",
   "metadata": {
    "id": "7eb45c86"
   },
   "source": [
    "#### `orders` data frame"
   ]
  },
  {
   "cell_type": "markdown",
   "id": "d98cc061",
   "metadata": {},
   "source": [
    "Aislamos las filas con valores ausentes y visualizamos una muestra para observar características en común."
   ]
  },
  {
   "cell_type": "code",
   "execution_count": 28,
   "id": "93e41d96",
   "metadata": {
    "id": "93e41d96"
   },
   "outputs": [
    {
     "data": {
      "text/html": [
       "<div>\n",
       "<style scoped>\n",
       "    .dataframe tbody tr th:only-of-type {\n",
       "        vertical-align: middle;\n",
       "    }\n",
       "\n",
       "    .dataframe tbody tr th {\n",
       "        vertical-align: top;\n",
       "    }\n",
       "\n",
       "    .dataframe thead th {\n",
       "        text-align: right;\n",
       "    }\n",
       "</style>\n",
       "<table border=\"1\" class=\"dataframe\">\n",
       "  <thead>\n",
       "    <tr style=\"text-align: right;\">\n",
       "      <th></th>\n",
       "      <th>order_id</th>\n",
       "      <th>user_id</th>\n",
       "      <th>order_number</th>\n",
       "      <th>order_dow</th>\n",
       "      <th>order_hour_of_day</th>\n",
       "      <th>days_since_prior_order</th>\n",
       "    </tr>\n",
       "  </thead>\n",
       "  <tbody>\n",
       "    <tr>\n",
       "      <th>28</th>\n",
       "      <td>133707</td>\n",
       "      <td>182261</td>\n",
       "      <td>1</td>\n",
       "      <td>3</td>\n",
       "      <td>10</td>\n",
       "      <td>NaN</td>\n",
       "    </tr>\n",
       "    <tr>\n",
       "      <th>96</th>\n",
       "      <td>787445</td>\n",
       "      <td>25685</td>\n",
       "      <td>1</td>\n",
       "      <td>6</td>\n",
       "      <td>18</td>\n",
       "      <td>NaN</td>\n",
       "    </tr>\n",
       "    <tr>\n",
       "      <th>100</th>\n",
       "      <td>294410</td>\n",
       "      <td>111449</td>\n",
       "      <td>1</td>\n",
       "      <td>0</td>\n",
       "      <td>19</td>\n",
       "      <td>NaN</td>\n",
       "    </tr>\n",
       "    <tr>\n",
       "      <th>103</th>\n",
       "      <td>2869915</td>\n",
       "      <td>123958</td>\n",
       "      <td>1</td>\n",
       "      <td>4</td>\n",
       "      <td>16</td>\n",
       "      <td>NaN</td>\n",
       "    </tr>\n",
       "    <tr>\n",
       "      <th>104</th>\n",
       "      <td>2521921</td>\n",
       "      <td>42286</td>\n",
       "      <td>1</td>\n",
       "      <td>3</td>\n",
       "      <td>18</td>\n",
       "      <td>NaN</td>\n",
       "    </tr>\n",
       "  </tbody>\n",
       "</table>\n",
       "</div>"
      ],
      "text/plain": [
       "     order_id  user_id  order_number  order_dow  order_hour_of_day  \\\n",
       "28     133707   182261             1          3                 10   \n",
       "96     787445    25685             1          6                 18   \n",
       "100    294410   111449             1          0                 19   \n",
       "103   2869915   123958             1          4                 16   \n",
       "104   2521921    42286             1          3                 18   \n",
       "\n",
       "     days_since_prior_order  \n",
       "28                      NaN  \n",
       "96                      NaN  \n",
       "100                     NaN  \n",
       "103                     NaN  \n",
       "104                     NaN  "
      ]
     },
     "execution_count": 28,
     "metadata": {},
     "output_type": "execute_result"
    }
   ],
   "source": [
    "orders_isna = instacart_orders[instacart_orders['days_since_prior_order'].isna()] # Encuentra los valores ausentes\n",
    "orders_isna.head()"
   ]
  },
  {
   "cell_type": "markdown",
   "id": "f0c7cf16",
   "metadata": {},
   "source": [
    "Podemos observar que los valores ausentes en la columna `days_since_prior_order` están relacionados al primer pedido de cada cliente, esto tiene mucho sentido, sin embardo, vamos a asegurarnos de que los números coincidan entre la cantidad de ausentes y la cantidad de primeros pedidos."
   ]
  },
  {
   "cell_type": "code",
   "execution_count": 29,
   "id": "166e5a86",
   "metadata": {
    "id": "166e5a86"
   },
   "outputs": [
    {
     "name": "stdout",
     "output_type": "stream",
     "text": [
      "28817\n",
      "28817\n"
     ]
    }
   ],
   "source": [
    "print(len(orders_isna))\n",
    "print(len(instacart_orders.query('order_number == 1'))) # ¿Hay algún valor ausente que no sea el primer pedido del cliente?"
   ]
  },
  {
   "cell_type": "markdown",
   "id": "4e23d089",
   "metadata": {
    "id": "4e23d089"
   },
   "source": [
    "Se encuentran 28.817 valores ausentes en la columna `days_since_prior_order`, que corresponden (todos) al primer pedido del cliente, por lo cual, tiene sentido que sean valores ausentes, ya que no hay un pedido anterior al primer pedido."
   ]
  },
  {
   "cell_type": "markdown",
   "id": "69dc9ca4",
   "metadata": {
    "id": "69dc9ca4"
   },
   "source": [
    "#### `order_products` data frame"
   ]
  },
  {
   "cell_type": "markdown",
   "id": "f236f13f",
   "metadata": {},
   "source": [
    "Para empezar, buscaremos el número exacto de ausentes en la columna donde faltan datos."
   ]
  },
  {
   "cell_type": "code",
   "execution_count": 30,
   "id": "b8240253",
   "metadata": {
    "id": "b8240253"
   },
   "outputs": [
    {
     "name": "stdout",
     "output_type": "stream",
     "text": [
      "836\n"
     ]
    }
   ],
   "source": [
    "print(order_products['add_to_cart_order'].isna().sum()) # Encuentra los valores ausentes"
   ]
  },
  {
   "cell_type": "markdown",
   "id": "3e112642",
   "metadata": {},
   "source": [
    "Ahora, buscaremos valores mínimos y máximos para determinar si podemos encontrar alguna causa sobre la ausencia de datos."
   ]
  },
  {
   "cell_type": "code",
   "execution_count": 31,
   "id": "9a78e5ee",
   "metadata": {
    "id": "9a78e5ee"
   },
   "outputs": [
    {
     "name": "stdout",
     "output_type": "stream",
     "text": [
      "64.0\n",
      "1.0\n"
     ]
    }
   ],
   "source": [
    "print(order_products['add_to_cart_order'].max()) # ¿Cuáles son los valores mínimos y máximos en esta columna?\n",
    "print(order_products['add_to_cart_order'].min())"
   ]
  },
  {
   "cell_type": "markdown",
   "id": "-Z2Ja215jW78",
   "metadata": {
    "id": "-Z2Ja215jW78"
   },
   "source": [
    "Se decubren 836 valores ausentes en la columna y se determina que los valores máximos y mínimos para esta son 64 y 1 respectivamente. \n",
    "\n",
    "Ahora determinaremos la cantidad de productos por pedido para los pedidos que tengan valores ausentes en la columna estudiada, comenzamos guardando las ID de pedido que tengan valores ausentes en `add_to_cart_order` en una lista."
   ]
  },
  {
   "cell_type": "code",
   "execution_count": 48,
   "id": "ab9d0c2b",
   "metadata": {
    "id": "ab9d0c2b"
   },
   "outputs": [],
   "source": [
    "order_products_addisna = order_products[order_products['add_to_cart_order'].isna()] # Guarda todas las IDs de pedidos que tengan un valor ausente en 'add_to_cart_order'\n",
    "id_nan = order_products_addisna['order_id']"
   ]
  },
  {
   "cell_type": "markdown",
   "id": "33a49611",
   "metadata": {},
   "source": [
    "Ahora filtramos el dataset original en base a la lista, agrupamos por cantidad de artículos por pedido y mostraremos el valor mínimo de la lista."
   ]
  },
  {
   "cell_type": "code",
   "execution_count": 33,
   "id": "54c31695",
   "metadata": {
    "id": "54c31695"
   },
   "outputs": [
    {
     "name": "stdout",
     "output_type": "stream",
     "text": [
      "65\n"
     ]
    }
   ],
   "source": [
    "id_in_op = order_products.query('order_id in @id_nan') # ¿Todos los pedidos con valores ausentes tienen más de 64 productos?\n",
    "print(id_in_op['order_id'].value_counts().min()) # Cuenta el número de 'product_id' en cada pedido y revisa el valor mínimo del conteo."
   ]
  },
  {
   "cell_type": "markdown",
   "id": "p9V6pddtjglj",
   "metadata": {
    "id": "p9V6pddtjglj"
   },
   "source": [
    "Se descubre y se verifica que __el máximo orden secuencial que se registró es hasta 64__, por ende, todos los pedidos que tienen más de 64 productos tienen valores ausentes en la columna `add_to_cart_order`, es probable que esto sea porque el sistema de registro del orden de los productos en cada pedido, tenga capacidad y/o está configurado para contar el orden de hasta 64 productos por pedido.\n",
    "\n",
    "Se rellenarán los ausentes con 999 simbolizado que estos valores exceden el máximo registro, también se asignará el tipo correcto de datos a la columna."
   ]
  },
  {
   "cell_type": "code",
   "execution_count": 34,
   "id": "7a987d08",
   "metadata": {
    "id": "7a987d08"
   },
   "outputs": [
    {
     "name": "stdout",
     "output_type": "stream",
     "text": [
      "0\n"
     ]
    }
   ],
   "source": [
    "order_products['add_to_cart_order'].fillna(999, inplace=True) # Remplazar los valores ausentes en la columna 'add_to_cart' con 999 y convierte la columna al tipo entero.\n",
    "order_products['add_to_cart_order'] = order_products['add_to_cart_order'].astype('int')\n",
    "print(order_products['add_to_cart_order'].isna().sum())"
   ]
  },
  {
   "cell_type": "markdown",
   "id": "fea4bcc7",
   "metadata": {
    "id": "fea4bcc7"
   },
   "source": [
    "Se rellenan los valores ausentes en la columna `add_to_cart_order` con 999 para dar a entender que corresponden a valores que están por sobre el máximo registrado, también se corrige el tipo de dato pasandolo de `float` a `int` que es el que le corresponde por tratarse de números enteros."
   ]
  },
  {
   "cell_type": "markdown",
   "id": "RnplPFY1gSrb",
   "metadata": {
    "id": "RnplPFY1gSrb"
   },
   "source": [
    "#### Conclusiones\n",
    "\n",
    "Después de haber trabajado los valores ausentes, dupicados y los tipos de datos, se puede proceder sin problemas al análisis."
   ]
  },
  {
   "cell_type": "markdown",
   "id": "UjrOIwTcz3ri",
   "metadata": {
    "id": "UjrOIwTcz3ri"
   },
   "source": [
    "## Paso 3. Análisis de los datos"
   ]
  },
  {
   "cell_type": "markdown",
   "id": "b4368c7d",
   "metadata": {},
   "source": [
    "Una vez los datos estén procesados y listos, se realizarán los siguientes análisis:"
   ]
  },
  {
   "cell_type": "markdown",
   "id": "95fad27d",
   "metadata": {},
   "source": [
    "### Análisis básico"
   ]
  },
  {
   "cell_type": "markdown",
   "id": "turkish-kidney",
   "metadata": {
    "id": "turkish-kidney"
   },
   "source": [
    "Consta de los siguientes puntos.\n",
    "\n",
    "1. Verificar que los valores en las columnas `'order_hour_of_day'` y `'order_dow'` en la tabla orders sean razonables (es decir, `'order_hour_of_day'` oscile entre 0 y 23 y `'order_dow'` oscile entre 0 y 6).\n",
    "2. Crear un gráfico que muestre el número de personas que hacen pedidos dependiendo de la hora del día.\n",
    "3. Crear un gráfico que muestre qué día de la semana la gente hace sus compras.\n",
    "4. Crear un gráfico que muestre el tiempo que la gente espera hasta hacer su siguiente pedido, y comentar sobre los valores mínimos y máximos."
   ]
  },
  {
   "cell_type": "markdown",
   "id": "short-capability",
   "metadata": {
    "id": "short-capability"
   },
   "source": [
    "#### Verificar que los valores sean sensibles"
   ]
  },
  {
   "cell_type": "markdown",
   "id": "31e6d9aa",
   "metadata": {},
   "source": [
    "Comenzamos estudiando información sobre la distribución de algunas columnas, para asegurarnos que los valores sean acertados y trabajables, comenzamos con `order_hour_of_day`."
   ]
  },
  {
   "cell_type": "code",
   "execution_count": 35,
   "id": "growing-fruit",
   "metadata": {
    "id": "growing-fruit"
   },
   "outputs": [
    {
     "name": "stdout",
     "output_type": "stream",
     "text": [
      "count    478952.000000\n",
      "mean         13.447034\n",
      "std           4.224567\n",
      "min           0.000000\n",
      "25%          10.000000\n",
      "50%          13.000000\n",
      "75%          16.000000\n",
      "max          23.000000\n",
      "Name: order_hour_of_day, dtype: float64\n"
     ]
    }
   ],
   "source": [
    "print(instacart_orders['order_hour_of_day'].describe())"
   ]
  },
  {
   "cell_type": "markdown",
   "id": "8f4a82f7",
   "metadata": {},
   "source": [
    "Efectivamente los valores van desde 0 a 23, lo cual está dentro de lo esperado. Pasamos ahora a `order_dow`."
   ]
  },
  {
   "cell_type": "code",
   "execution_count": 36,
   "id": "accessory-malaysia",
   "metadata": {
    "id": "accessory-malaysia",
    "scrolled": true
   },
   "outputs": [
    {
     "name": "stdout",
     "output_type": "stream",
     "text": [
      "count    478952.000000\n",
      "mean          2.775051\n",
      "std           2.045901\n",
      "min           0.000000\n",
      "25%           1.000000\n",
      "50%           3.000000\n",
      "75%           5.000000\n",
      "max           6.000000\n",
      "Name: order_dow, dtype: float64\n"
     ]
    }
   ],
   "source": [
    "print(instacart_orders['order_dow'].describe())"
   ]
  },
  {
   "cell_type": "markdown",
   "id": "hmR2GNQ6lCsX",
   "metadata": {
    "id": "hmR2GNQ6lCsX"
   },
   "source": [
    "Los datos van de 0 a 6, lo cual es lo esperado para los días de la semana. Los datos de las columnas `order_hour_of_day` y `order_dow` son razonables ya que entran dentro de los márgenes esperados para este tipo de datos."
   ]
  },
  {
   "cell_type": "markdown",
   "id": "a6743a70",
   "metadata": {
    "id": "a6743a70"
   },
   "source": [
    "#### Para cada hora del día, ¿cuántas personas hacen órdenes?"
   ]
  },
  {
   "cell_type": "markdown",
   "id": "941ff168",
   "metadata": {},
   "source": [
    "Procedemos a construir un gráfico de barras que mostrará la cantidad de pedidos realizados por cada hora."
   ]
  },
  {
   "cell_type": "code",
   "execution_count": 37,
   "id": "3203028c",
   "metadata": {},
   "outputs": [
    {
     "data": {
      "image/png": "[encoded data removed]",
      "text/plain": [
       "<Figure size 640x480 with 1 Axes>"
      ]
     },
     "metadata": {},
     "output_type": "display_data"
    }
   ],
   "source": [
    "io_plot = instacart_orders['order_hour_of_day'].value_counts(sort=False)\n",
    "io_plot.plot(kind='bar', ylabel='Pedidos', xlabel='Hora del día', title='Pedidos por hora del día', rot=0);"
   ]
  },
  {
   "cell_type": "markdown",
   "id": "11270eed",
   "metadata": {
    "id": "11270eed"
   },
   "source": [
    "Se puede apreciar __que entre las 9 y las 16 está el grueso de los pedidos__, llegando hasta los 40.000, mientras que el punto mas bajo en ventas es entre las 0 y las 6, donde no superan los 5.000."
   ]
  },
  {
   "cell_type": "markdown",
   "id": "documented-command",
   "metadata": {
    "id": "documented-command"
   },
   "source": [
    "#### ¿Qué día de la semana compran víveres las personas?"
   ]
  },
  {
   "cell_type": "markdown",
   "id": "844bcf60",
   "metadata": {},
   "source": [
    "Construiremos en gráfico de pedidos por día de la semana para responder esta pregunta."
   ]
  },
  {
   "cell_type": "code",
   "execution_count": 38,
   "id": "chief-digit",
   "metadata": {
    "id": "chief-digit"
   },
   "outputs": [
    {
     "data": {
      "image/png": "[encoded data removed]",
      "text/plain": [
       "<Figure size 640x480 with 1 Axes>"
      ]
     },
     "metadata": {},
     "output_type": "display_data"
    }
   ],
   "source": [
    "od_plot = instacart_orders['order_dow'].value_counts(sort=False)\n",
    "od_plot.plot(kind='bar', ylabel='Pedidos', xlabel='Día de la semana', title='Distribución semanal de pedidos', rot=0);"
   ]
  },
  {
   "cell_type": "markdown",
   "id": "dominant-lightning",
   "metadata": {
    "id": "dominant-lightning"
   },
   "source": [
    "Se puede apreciar que __los días con mas pedidos son los domingos y los lunes__, rondando los 80.000, mientras que el resto de la semana los pedidos se mantienen estables alrededor de los 60.000 por día (en total)."
   ]
  },
  {
   "cell_type": "markdown",
   "id": "cutting-concert",
   "metadata": {
    "id": "cutting-concert"
   },
   "source": [
    "#### ¿Cuánto tiempo esperan las personas hasta hacer otro pedido? "
   ]
  },
  {
   "cell_type": "markdown",
   "id": "caaa5fc2",
   "metadata": {},
   "source": [
    "Para respodner esta pregunta, se construirá un histograma basado en la columna `days_since_prior_order`."
   ]
  },
  {
   "cell_type": "code",
   "execution_count": 39,
   "id": "5003a06e",
   "metadata": {},
   "outputs": [
    {
     "data": {
      "image/png": "[encoded data removed]",
      "text/plain": [
       "<Figure size 640x480 with 1 Axes>"
      ]
     },
     "metadata": {},
     "output_type": "display_data"
    }
   ],
   "source": [
    "instacart_orders['days_since_prior_order'].plot(kind='hist', grid='on', bins=30, xlim=[0, 30], title='Días de espera para hacer otro pedido')\n",
    "plt.xlabel('Días')\n",
    "plt.ylabel('Pedidos');"
   ]
  },
  {
   "cell_type": "markdown",
   "id": "065e1c42",
   "metadata": {},
   "source": [
    "__Los clientes demoran entre 0 y 30 días en realizar un nuevo pedido__, con un tiempo promedio de 11.1 días y una mediana de 7 días, los \"días entre compra\" mas prósperos (entre 40.000 y 50.000 pedidos) son: 7 y 30 días, es decir, una semana, y un mes desde la última compra, respectivamente."
   ]
  },
  {
   "cell_type": "markdown",
   "id": "tight-staff",
   "metadata": {
    "id": "tight-staff"
   },
   "source": [
    "### Análisis Intermedio"
   ]
  },
  {
   "cell_type": "markdown",
   "id": "cfe26b23",
   "metadata": {},
   "source": [
    "Tratará sobre resolver las siguientes preguntas y tareas.\n",
    "\n",
    "1. ¿Existe alguna diferencia entre las distribuciones `'order_hour_of_day'` de los miércoles y los sábados? \n",
    "2. Graficar la distribución para el número de órdenes que hacen los clientes \n",
    "3. ¿Cuáles son los 20 principales productos que se piden con más frecuencia?"
   ]
  },
  {
   "cell_type": "markdown",
   "id": "packed-classic",
   "metadata": {
    "id": "packed-classic"
   },
   "source": [
    "#### Diferencia entre miércoles y sábados para  `'order_hour_of_day'`"
   ]
  },
  {
   "cell_type": "markdown",
   "id": "17ad90ae",
   "metadata": {},
   "source": [
    "Para responder esta pregunta, construiremos un gráfico de barras de las ventas realizadas los sábados y los miércoles, por hora."
   ]
  },
  {
   "cell_type": "code",
   "execution_count": 40,
   "id": "769d004b",
   "metadata": {},
   "outputs": [
    {
     "data": {
      "image/png": "[encoded data removed]",
      "text/plain": [
       "<Figure size 640x480 with 1 Axes>"
      ]
     },
     "metadata": {},
     "output_type": "display_data"
    }
   ],
   "source": [
    "wed_io = instacart_orders[instacart_orders['order_dow'] == 3]\n",
    "wed_plot = wed_io['order_hour_of_day'].value_counts(sort=False)\n",
    "sat_io = instacart_orders[instacart_orders['order_dow'] == 6]\n",
    "sat_plot = sat_io['order_hour_of_day'].value_counts(sort=False)\n",
    "concat = pd.concat([sat_plot,wed_plot],axis='columns')\n",
    "concat.plot(kind='bar', ylabel='Pedidos', xlabel='Hora', title='Distribución horaria de pedidos realizados los sábados y los miércoles', grid='on', rot=0)\n",
    "plt.legend(['Sábado','Miércoles']);"
   ]
  },
  {
   "cell_type": "markdown",
   "id": "charitable-congo",
   "metadata": {
    "id": "charitable-congo"
   },
   "source": [
    "__Son distribuciones similares__, la principal diferencia se puede observar entre las 12 y las 14 horas, ya que en los miércoles, en este rango horario tienden a bajar los pedidos (en comparación a las dos horas anteriores) en cambio, en los sábados, este rango horario es el mas productivo llegando al peak del día."
   ]
  },
  {
   "cell_type": "markdown",
   "id": "e3891143",
   "metadata": {
    "id": "e3891143"
   },
   "source": [
    "#### ¿Cuál es la distribución para el número de pedidos por cliente?"
   ]
  },
  {
   "cell_type": "markdown",
   "id": "9f27b77c",
   "metadata": {},
   "source": [
    "Para resolver esta pregunta visualizaremos mediante un histograma la distribución solicitada."
   ]
  },
  {
   "cell_type": "code",
   "execution_count": 41,
   "id": "d8c26c23",
   "metadata": {
    "id": "d8c26c23",
    "scrolled": false
   },
   "outputs": [
    {
     "data": {
      "image/png": "[encoded data removed]",
      "text/plain": [
       "<Figure size 640x480 with 1 Axes>"
      ]
     },
     "metadata": {},
     "output_type": "display_data"
    }
   ],
   "source": [
    "on_io = instacart_orders.groupby('user_id')['order_id'].count()\n",
    "on_io.plot(kind='hist', xlim=[0,16], bins=[0, 1, 2, 3, 4, 5, 6, 7, 8, 9, 10, 11, 12, 13, 14, 15, 16], grid='on', title='Distribución del número de pedidos por cliente')\n",
    "plt.xlabel('Pedidos')\n",
    "plt.ylabel('Clientes');"
   ]
  },
  {
   "cell_type": "markdown",
   "id": "d2eff7d5",
   "metadata": {
    "id": "d2eff7d5"
   },
   "source": [
    "Se puede apreciar que __el grueso de clientes estudiados ha hecho entre 1 a 4 pedidos en la compañia__, a partir de los 4 pedidos en adelante hay una relación inversamente proporcional entre el numero de pedidos por cliente, y la cantidad de clientes que hacen estos pedidos."
   ]
  },
  {
   "cell_type": "markdown",
   "id": "54a0319c",
   "metadata": {
    "id": "54a0319c"
   },
   "source": [
    "#### ¿Cuáles son los 20 productos más populares?"
   ]
  },
  {
   "cell_type": "markdown",
   "id": "e66e77f0",
   "metadata": {},
   "source": [
    "Visualizaremos en un gráfico de barras los 20 productos con más ventas y sus respectivos ID."
   ]
  },
  {
   "cell_type": "code",
   "execution_count": 42,
   "id": "exterior-arizona",
   "metadata": {
    "id": "exterior-arizona",
    "scrolled": false
   },
   "outputs": [
    {
     "data": {
      "image/png": "[encoded data removed]",
      "text/plain": [
       "<Figure size 640x480 with 1 Axes>"
      ]
     },
     "metadata": {},
     "output_type": "display_data"
    }
   ],
   "source": [
    "popular = products.merge(order_products,on='product_id')\n",
    "popular = popular.groupby(['product_name','product_id'])['product_id'].count()\n",
    "popular = popular.sort_values(ascending=False)\n",
    "popular = popular.head(20)\n",
    "popular.plot(kind='bar', xlabel='Producto', ylabel='Ventas totales', title='Los 20 productos más vendidos', rot=85);"
   ]
  },
  {
   "cell_type": "markdown",
   "id": "7df00f47",
   "metadata": {
    "id": "7df00f47"
   },
   "source": [
    "En el DataFrame impreso se puede apreciar la lista de los 20 productos más vendidos, siendo __la banana, el racimo de bananas y las frutillas orgánicas el primer, segundo y tercer lugar de la lista respectivamente__. Podemos observar también que son en su totalidad __productos naturales y orgánicos__."
   ]
  },
  {
   "cell_type": "markdown",
   "id": "gross-theme",
   "metadata": {
    "id": "gross-theme"
   },
   "source": [
    "### Análisis avanzado"
   ]
  },
  {
   "cell_type": "markdown",
   "id": "de5545a9",
   "metadata": {},
   "source": [
    "Consistirá en responder las siguientes preguntas.\n",
    "\n",
    "1. ¿Cuántos artículos suelen comprar las personas en un pedido? ¿Cómo es la distribución?\n",
    "2. ¿Cuáles son los 20 principales artículos que vuelven a pedirse con mayor frecuencia?\n",
    "3. Para cada producto, ¿cuál es la tasa de repetición del pedido?\n",
    "4. Para cada cliente, ¿qué proporción de los productos que pidió ya los había pedido?\n",
    "5. ¿Cuáles son los 20 principales artículos que la gente pone primero en sus carritos?"
   ]
  },
  {
   "cell_type": "markdown",
   "id": "romantic-deposit",
   "metadata": {
    "id": "romantic-deposit"
   },
   "source": [
    "#### ¿Cuántos artículos compran normalmente las personas en un pedido? ¿Cómo es la distribución?"
   ]
  },
  {
   "cell_type": "markdown",
   "id": "d33debd2",
   "metadata": {},
   "source": [
    "Visualizaremos la distribución de artículos por pedido en un histograma."
   ]
  },
  {
   "cell_type": "code",
   "execution_count": 50,
   "id": "virtual-punch",
   "metadata": {
    "id": "virtual-punch"
   },
   "outputs": [
    {
     "data": {
      "image/png": "[encoded data removed]",
      "text/plain": [
       "<Figure size 640x480 with 1 Axes>"
      ]
     },
     "metadata": {},
     "output_type": "display_data"
    }
   ],
   "source": [
    "apo = order_products.groupby('order_id')['product_id'].count()\n",
    "apo.plot(kind='hist', grid='on', xlim=[0,40], title='Distribución de artículos por pedido', bins=[0,5,10,15,20,25,30,35,40])\n",
    "plt.xlabel('Artículos')\n",
    "plt.ylabel('Pedidos');"
   ]
  },
  {
   "cell_type": "markdown",
   "id": "designed-mortality",
   "metadata": {
    "id": "designed-mortality"
   },
   "source": [
    "Se puede apreciar que __el grueso de artículos por pedido son entre 5 y 10 unidades__, y que se produce una caída drástica en la cantidad de pedidos con 10 a 15 artículos, y la cantidad de pedidos con 15 a 20 artículos."
   ]
  },
  {
   "cell_type": "markdown",
   "id": "5e6b5537",
   "metadata": {
    "id": "5e6b5537"
   },
   "source": [
    "#### ¿Cuáles son los 20 principales artículos que vuelven a pedirse con mayor frecuencia?"
   ]
  },
  {
   "cell_type": "markdown",
   "id": "396a71b2",
   "metadata": {},
   "source": [
    "Usando la columna `reordered` construiremos un gráfico de barras con los 20 productos que vuelven a pedirse con mayor frecuencia."
   ]
  },
  {
   "cell_type": "code",
   "execution_count": 44,
   "id": "9374e55a",
   "metadata": {
    "id": "9374e55a"
   },
   "outputs": [
    {
     "data": {
      "image/png": "[encoded data removed]",
      "text/plain": [
       "<Figure size 640x480 with 1 Axes>"
      ]
     },
     "metadata": {},
     "output_type": "display_data"
    }
   ],
   "source": [
    "reor = order_products[(order_products['reordered'] == 1)]\n",
    "popular_reor = products.merge(reor,on='product_id')\n",
    "popular_reor = popular_reor.groupby(['product_name','product_id'])['product_id'].count()\n",
    "popular_reor = popular_reor.sort_values(ascending=False)\n",
    "popular_reor = popular_reor.head(20)\n",
    "popular_reor.plot(title='Los 20 principales artículos que vuelven a pedirse con mayor frecuencia', kind='bar', xlabel='Producto', ylabel='Veces que se volvió a pedir', rot=85);"
   ]
  },
  {
   "cell_type": "markdown",
   "id": "80e70c74",
   "metadata": {
    "id": "80e70c74"
   },
   "source": [
    "En el DataFrame impreso se puede apreciar la lista de los 20 productos que vuelven a pedirse con mayor frecuencia en este negocio, se puede apreciar que es muy parecida a la tabla de los 20 productos más vendidos, lo cual es indicio de que __el negocio cuenta con una clientela fiel__."
   ]
  },
  {
   "cell_type": "markdown",
   "id": "9d312b14",
   "metadata": {
    "id": "9d312b14"
   },
   "source": [
    "#### Para cada producto, ¿cuál es la proporción de las veces que se pide y que se vuelve a pedir?"
   ]
  },
  {
   "cell_type": "markdown",
   "id": "0f15378d",
   "metadata": {},
   "source": [
    "Para resolver esta pregunta, construiremos un dataset agrupado por productos donde se mostrará el promedio de `reordered` que oscilará en valores entre 0 y 1, dependiendo de cuántas veces se \"re-ordene\" el producto en cuestión."
   ]
  },
  {
   "cell_type": "code",
   "execution_count": 45,
   "id": "8ae9f4b1",
   "metadata": {
    "id": "8ae9f4b1"
   },
   "outputs": [
    {
     "data": {
      "text/html": [
       "<div>\n",
       "<style scoped>\n",
       "    .dataframe tbody tr th:only-of-type {\n",
       "        vertical-align: middle;\n",
       "    }\n",
       "\n",
       "    .dataframe tbody tr th {\n",
       "        vertical-align: top;\n",
       "    }\n",
       "\n",
       "    .dataframe thead th {\n",
       "        text-align: right;\n",
       "    }\n",
       "</style>\n",
       "<table border=\"1\" class=\"dataframe\">\n",
       "  <thead>\n",
       "    <tr style=\"text-align: right;\">\n",
       "      <th></th>\n",
       "      <th>product_name</th>\n",
       "      <th>product_id</th>\n",
       "      <th>reordered</th>\n",
       "    </tr>\n",
       "  </thead>\n",
       "  <tbody>\n",
       "    <tr>\n",
       "      <th>0</th>\n",
       "      <td>#2 coffee filters</td>\n",
       "      <td>25773</td>\n",
       "      <td>0.254545</td>\n",
       "    </tr>\n",
       "    <tr>\n",
       "      <th>1</th>\n",
       "      <td>#2 cone white coffee filters</td>\n",
       "      <td>2158</td>\n",
       "      <td>0.000000</td>\n",
       "    </tr>\n",
       "    <tr>\n",
       "      <th>2</th>\n",
       "      <td>#2 mechanical pencils</td>\n",
       "      <td>26685</td>\n",
       "      <td>0.000000</td>\n",
       "    </tr>\n",
       "    <tr>\n",
       "      <th>3</th>\n",
       "      <td>#4 natural brown coffee filters</td>\n",
       "      <td>26381</td>\n",
       "      <td>0.358974</td>\n",
       "    </tr>\n",
       "    <tr>\n",
       "      <th>4</th>\n",
       "      <td>&amp; go! hazelnut spread + pretzel sticks</td>\n",
       "      <td>20604</td>\n",
       "      <td>0.466667</td>\n",
       "    </tr>\n",
       "  </tbody>\n",
       "</table>\n",
       "</div>"
      ],
      "text/plain": [
       "                             product_name  product_id  reordered\n",
       "0                       #2 coffee filters       25773   0.254545\n",
       "1            #2 cone white coffee filters        2158   0.000000\n",
       "2                   #2 mechanical pencils       26685   0.000000\n",
       "3         #4 natural brown coffee filters       26381   0.358974\n",
       "4  & go! hazelnut spread + pretzel sticks       20604   0.466667"
      ]
     },
     "execution_count": 45,
     "metadata": {},
     "output_type": "execute_result"
    }
   ],
   "source": [
    "propor = order_products.merge(products,on='product_id')\n",
    "propor = propor.groupby(['product_name','product_id'])['reordered'].mean().reset_index()\n",
    "propor.head()"
   ]
  },
  {
   "cell_type": "markdown",
   "id": "I10dEIAyldcO",
   "metadata": {
    "id": "I10dEIAyldcO"
   },
   "source": [
    "El dataset solicitado se guardó en la variable `propor`. "
   ]
  },
  {
   "cell_type": "markdown",
   "id": "subject-boxing",
   "metadata": {
    "id": "subject-boxing"
   },
   "source": [
    "#### Para cada cliente, ¿qué proporción de sus productos ya los había pedido?"
   ]
  },
  {
   "cell_type": "markdown",
   "id": "9b278541",
   "metadata": {},
   "source": [
    "De un modo muy parecido al del punto anterior, se calculará la tasa de \"re-ordenación\" para cada cliente. La única diferencia es que ahora se agrupará el dataset por cliente en vez de por producto."
   ]
  },
  {
   "cell_type": "code",
   "execution_count": 46,
   "id": "medical-couple",
   "metadata": {
    "id": "medical-couple",
    "scrolled": true
   },
   "outputs": [
    {
     "data": {
      "text/html": [
       "<div>\n",
       "<style scoped>\n",
       "    .dataframe tbody tr th:only-of-type {\n",
       "        vertical-align: middle;\n",
       "    }\n",
       "\n",
       "    .dataframe tbody tr th {\n",
       "        vertical-align: top;\n",
       "    }\n",
       "\n",
       "    .dataframe thead th {\n",
       "        text-align: right;\n",
       "    }\n",
       "</style>\n",
       "<table border=\"1\" class=\"dataframe\">\n",
       "  <thead>\n",
       "    <tr style=\"text-align: right;\">\n",
       "      <th></th>\n",
       "      <th>user_id</th>\n",
       "      <th>reordered</th>\n",
       "    </tr>\n",
       "  </thead>\n",
       "  <tbody>\n",
       "    <tr>\n",
       "      <th>0</th>\n",
       "      <td>2</td>\n",
       "      <td>0.038462</td>\n",
       "    </tr>\n",
       "    <tr>\n",
       "      <th>1</th>\n",
       "      <td>4</td>\n",
       "      <td>0.000000</td>\n",
       "    </tr>\n",
       "    <tr>\n",
       "      <th>2</th>\n",
       "      <td>5</td>\n",
       "      <td>0.666667</td>\n",
       "    </tr>\n",
       "    <tr>\n",
       "      <th>3</th>\n",
       "      <td>6</td>\n",
       "      <td>0.000000</td>\n",
       "    </tr>\n",
       "    <tr>\n",
       "      <th>4</th>\n",
       "      <td>7</td>\n",
       "      <td>0.928571</td>\n",
       "    </tr>\n",
       "  </tbody>\n",
       "</table>\n",
       "</div>"
      ],
      "text/plain": [
       "   user_id  reordered\n",
       "0        2   0.038462\n",
       "1        4   0.000000\n",
       "2        5   0.666667\n",
       "3        6   0.000000\n",
       "4        7   0.928571"
      ]
     },
     "execution_count": 46,
     "metadata": {},
     "output_type": "execute_result"
    }
   ],
   "source": [
    "client_prop = order_products.merge(instacart_orders,on='order_id')\n",
    "client_prop = client_prop.groupby(by='user_id')['reordered'].mean().reset_index()\n",
    "client_prop.head()"
   ]
  },
  {
   "cell_type": "markdown",
   "id": "BgJSvXDsleXz",
   "metadata": {
    "id": "BgJSvXDsleXz"
   },
   "source": [
    "La información solicitada se guardó en `client_prop`."
   ]
  },
  {
   "cell_type": "markdown",
   "id": "92d35137",
   "metadata": {
    "id": "92d35137"
   },
   "source": [
    "#### ¿Cuáles son los 20 principales artículos que las personas ponen primero en sus carritos?"
   ]
  },
  {
   "cell_type": "markdown",
   "id": "8cb53475",
   "metadata": {},
   "source": [
    "Filtrando los valores de la columna `add_to_cart_order` en `1` obtenemos todas las veces que un producto fue agregado primero al carrito, usando esta información construiremos un gráfico de barras con los nombres e ID's de los productos."
   ]
  },
  {
   "cell_type": "code",
   "execution_count": 49,
   "id": "0ae57274",
   "metadata": {
    "id": "0ae57274",
    "scrolled": false
   },
   "outputs": [
    {
     "data": {
      "image/png": "[encoded data removed]",
      "text/plain": [
       "<Figure size 640x480 with 1 Axes>"
      ]
     },
     "metadata": {},
     "output_type": "display_data"
    }
   ],
   "source": [
    "first_order = order_products.merge(products,on='product_id')\n",
    "first_order = first_order[first_order['add_to_cart_order'] == 1]\n",
    "first_order = first_order.groupby(['product_name','product_id'])['product_name'].count()\n",
    "first_order = first_order.sort_values(ascending=False)\n",
    "first_order = first_order.head(20)\n",
    "first_order.plot(title='Los 20 principales artículos que las personas ponen primero en sus carritos', kind='bar', xlabel='Producto', ylabel='Veces que fue puesto primero en un carrito', rot=85);"
   ]
  },
  {
   "cell_type": "markdown",
   "id": "28ce9872",
   "metadata": {
    "id": "28ce9872"
   },
   "source": [
    "En el DataFrame impreso se puede apreciar la lista de los 20 que las personas ponen primero en sus carritos, se puede apreciar que el primer y segundo lugar son nuevamente las bananas y el racimo de bananas respectivamente, lo cual nos puede hacer concluir (tomando en cuenta los análisis anteriores) que __las bananas de este negocio son un producto muy requerido por su clientela__, y, que en general __los alimentos naturales y orgánicos__ (frutas, verduras, leche) son los más vendidos, los que más vuelven a ser comprados por los clientes y los primeros en ser agregados al carrito."
   ]
  },
  {
   "cell_type": "markdown",
   "id": "uITbFCEoDosC",
   "metadata": {
    "id": "uITbFCEoDosC"
   },
   "source": [
    "## Conclusion general del proyecto:"
   ]
  },
  {
   "cell_type": "markdown",
   "id": "d6c0ec0d",
   "metadata": {},
   "source": [
    "__1 Importación de los datos:__\n",
    "\n",
    "En esta fase, y después de haber leído el diccionario de datos, se importan las librerías (pandas y matplotlib, analizar la información y crear gráficas respectivamente) y posteriormente se importan los datos, haciendo correcciones para asegurar que los datasets puedan verse perfectamente y dando una primera vista a estos, se puede observar el tipo de datos que python asignó automáticamente y la cantidad de datos ausentes en cada columna.\n",
    "\n",
    "__2 Pre-procesamiento de los datos:__\n",
    "\n",
    "Con la información recopilada en la fase anterior, se puede pasar a hacer la limpieza de los datos, eliminando o corrigiendo duplicados corresponda, tratando los valores ausentes y corrigiendo los tipos de datos que se asignaron erróneamente, para que estos queden listos para ser analizados.\n",
    "\n",
    "__3 Análisis de los datos:__\n",
    "\n",
    "En la fase final se comienza a responder las preguntas solicitadas, usando diferentes gráficos segun corresponda, se responden preguntas de importancia para el negocio en cuestión, como tasa de reorden, productos más pedidos, y comportamiento de los clientes, (entre otros). Algunas de las solicitudes requisieron combinar mas de un dataframe, para así aumentar drásticamente la cantidad de información valiosa que se puede extraer, cada gráfico o bloque de código en esta fase va acompañado de una breve explicación del proceso y los resultados obtenidos.\n",
    "\n",
    "En cuanto a conclusiones generales, se puede rescatar que: \n",
    "- La fuerte preferencia de la clientela por los __productos naturales y saludables y particularmente por las bananas__.\n",
    "- El que los productos mas vendidos, los más reordenados y los primeros en agregarse a los carritos sean parecidos, indica que __una parte importante de las compras vienen de clientes que conocen el negocio__, probablemente son clientes frecuentes y son gente que come sanamente.\n",
    "- Existe otro grupo que también debe considerarse como importante, que son las compras que vienen de clientes que compran cosas  por una sola vez, como se puede apreciar en B2 son una enorme cantidad. __Hay una enorme cantidad de clientes que ha comprado solo una vez en el sitio__, esto, sin embargo no contradice al punto anterior, puede deberse a que son clientes que hacen llevan pocos artículos, a que __compran los mismos artículos que los clientes regulares__ (lo más probable) o a cualquier otro motivo que se puede seguir investigando.\n",
    "- __Los domingos y los lunes son los días de mayor venta, y entre las 09:00 y las 16:00 se registra la mayor cantidad de pedidos__.\n",
    "- __La clientela suele comprar entre 5 y 10 artículos por pedido__."
   ]
  }
 ],
 "metadata": {
  "ExecuteTimeLog": [
   {
    "duration": 4295,
    "start_time": "2024-07-25T21:36:48.711Z"
   },
   {
    "duration": 1692,
    "start_time": "2024-07-25T21:36:53.009Z"
   },
   {
    "duration": 29,
    "start_time": "2024-07-25T21:36:54.705Z"
   },
   {
    "duration": 25,
    "start_time": "2024-07-25T21:36:54.739Z"
   },
   {
    "duration": 36,
    "start_time": "2024-07-25T21:36:54.791Z"
   },
   {
    "duration": 17,
    "start_time": "2024-07-25T21:36:54.831Z"
   },
   {
    "duration": 62,
    "start_time": "2024-07-25T21:36:54.851Z"
   },
   {
    "duration": 347,
    "start_time": "2024-07-25T21:36:54.916Z"
   },
   {
    "duration": 35,
    "start_time": "2024-07-25T21:36:55.266Z"
   },
   {
    "duration": 175,
    "start_time": "2024-07-25T21:36:55.307Z"
   },
   {
    "duration": 171,
    "start_time": "2024-07-25T21:36:55.484Z"
   },
   {
    "duration": 142,
    "start_time": "2024-07-25T21:36:55.658Z"
   },
   {
    "duration": 29,
    "start_time": "2024-07-25T21:36:55.804Z"
   },
   {
    "duration": 11,
    "start_time": "2024-07-25T21:36:55.837Z"
   },
   {
    "duration": 65,
    "start_time": "2024-07-25T21:36:55.851Z"
   },
   {
    "duration": 15,
    "start_time": "2024-07-25T21:36:55.918Z"
   },
   {
    "duration": 7,
    "start_time": "2024-07-25T21:36:55.936Z"
   },
   {
    "duration": 5,
    "start_time": "2024-07-25T21:36:55.947Z"
   },
   {
    "duration": 6,
    "start_time": "2024-07-25T21:36:55.992Z"
   },
   {
    "duration": 6,
    "start_time": "2024-07-25T21:36:56.001Z"
   },
   {
    "duration": 1374,
    "start_time": "2024-07-25T21:36:56.010Z"
   },
   {
    "duration": 329,
    "start_time": "2024-07-25T21:36:57.390Z"
   },
   {
    "duration": 13,
    "start_time": "2024-07-25T21:36:57.722Z"
   },
   {
    "duration": 16,
    "start_time": "2024-07-25T21:36:57.739Z"
   },
   {
    "duration": 40,
    "start_time": "2024-07-25T21:36:57.758Z"
   },
   {
    "duration": 14,
    "start_time": "2024-07-25T21:36:57.801Z"
   },
   {
    "duration": 12,
    "start_time": "2024-07-25T21:36:57.818Z"
   },
   {
    "duration": 55,
    "start_time": "2024-07-25T21:36:57.838Z"
   },
   {
    "duration": 17,
    "start_time": "2024-07-25T21:36:57.897Z"
   },
   {
    "duration": 13,
    "start_time": "2024-07-25T21:36:57.919Z"
   },
   {
    "duration": 99,
    "start_time": "2024-07-25T21:36:57.934Z"
   },
   {
    "duration": 29,
    "start_time": "2024-07-25T21:36:58.036Z"
   },
   {
    "duration": 83,
    "start_time": "2024-07-25T21:36:58.067Z"
   },
   {
    "duration": 64,
    "start_time": "2024-07-25T21:36:58.153Z"
   },
   {
    "duration": 24,
    "start_time": "2024-07-25T21:36:58.221Z"
   },
   {
    "duration": 51,
    "start_time": "2024-07-25T21:36:58.247Z"
   },
   {
    "duration": 423,
    "start_time": "2024-07-25T21:36:58.301Z"
   },
   {
    "duration": 243,
    "start_time": "2024-07-25T21:36:58.728Z"
   },
   {
    "duration": 416,
    "start_time": "2024-07-25T21:36:58.974Z"
   },
   {
    "duration": 0,
    "start_time": "2024-07-25T21:36:59.394Z"
   },
   {
    "duration": 0,
    "start_time": "2024-07-25T21:36:59.397Z"
   },
   {
    "duration": 0,
    "start_time": "2024-07-25T21:36:59.400Z"
   },
   {
    "duration": 0,
    "start_time": "2024-07-25T21:36:59.403Z"
   },
   {
    "duration": 0,
    "start_time": "2024-07-25T21:36:59.405Z"
   },
   {
    "duration": 0,
    "start_time": "2024-07-25T21:36:59.409Z"
   },
   {
    "duration": 0,
    "start_time": "2024-07-25T21:36:59.412Z"
   },
   {
    "duration": 0,
    "start_time": "2024-07-25T21:36:59.415Z"
   },
   {
    "duration": 0,
    "start_time": "2024-07-25T21:36:59.418Z"
   },
   {
    "duration": 687,
    "start_time": "2024-07-25T21:37:38.516Z"
   },
   {
    "duration": 1550,
    "start_time": "2024-07-25T21:37:39.207Z"
   },
   {
    "duration": 31,
    "start_time": "2024-07-25T21:37:40.760Z"
   },
   {
    "duration": 19,
    "start_time": "2024-07-25T21:37:40.795Z"
   },
   {
    "duration": 18,
    "start_time": "2024-07-25T21:37:40.816Z"
   },
   {
    "duration": 56,
    "start_time": "2024-07-25T21:37:40.838Z"
   },
   {
    "duration": 44,
    "start_time": "2024-07-25T21:37:40.897Z"
   },
   {
    "duration": 357,
    "start_time": "2024-07-25T21:37:40.945Z"
   },
   {
    "duration": 20,
    "start_time": "2024-07-25T21:37:41.305Z"
   },
   {
    "duration": 202,
    "start_time": "2024-07-25T21:37:41.330Z"
   },
   {
    "duration": 199,
    "start_time": "2024-07-25T21:37:41.535Z"
   },
   {
    "duration": 144,
    "start_time": "2024-07-25T21:37:41.738Z"
   },
   {
    "duration": 22,
    "start_time": "2024-07-25T21:37:41.892Z"
   },
   {
    "duration": 6,
    "start_time": "2024-07-25T21:37:41.916Z"
   },
   {
    "duration": 65,
    "start_time": "2024-07-25T21:37:41.927Z"
   },
   {
    "duration": 16,
    "start_time": "2024-07-25T21:37:41.995Z"
   },
   {
    "duration": 5,
    "start_time": "2024-07-25T21:37:42.014Z"
   },
   {
    "duration": 5,
    "start_time": "2024-07-25T21:37:42.022Z"
   },
   {
    "duration": 6,
    "start_time": "2024-07-25T21:37:42.030Z"
   },
   {
    "duration": 56,
    "start_time": "2024-07-25T21:37:42.039Z"
   },
   {
    "duration": 1374,
    "start_time": "2024-07-25T21:37:42.098Z"
   },
   {
    "duration": 347,
    "start_time": "2024-07-25T21:37:43.475Z"
   },
   {
    "duration": 14,
    "start_time": "2024-07-25T21:37:43.825Z"
   },
   {
    "duration": 17,
    "start_time": "2024-07-25T21:37:43.846Z"
   },
   {
    "duration": 11,
    "start_time": "2024-07-25T21:37:43.891Z"
   },
   {
    "duration": 12,
    "start_time": "2024-07-25T21:37:43.905Z"
   },
   {
    "duration": 10,
    "start_time": "2024-07-25T21:37:43.920Z"
   },
   {
    "duration": 53,
    "start_time": "2024-07-25T21:37:43.940Z"
   },
   {
    "duration": 16,
    "start_time": "2024-07-25T21:37:43.996Z"
   },
   {
    "duration": 13,
    "start_time": "2024-07-25T21:37:44.014Z"
   },
   {
    "duration": 92,
    "start_time": "2024-07-25T21:37:44.030Z"
   },
   {
    "duration": 24,
    "start_time": "2024-07-25T21:37:44.125Z"
   },
   {
    "duration": 88,
    "start_time": "2024-07-25T21:37:44.152Z"
   },
   {
    "duration": 62,
    "start_time": "2024-07-25T21:37:44.243Z"
   },
   {
    "duration": 24,
    "start_time": "2024-07-25T21:37:44.308Z"
   },
   {
    "duration": 22,
    "start_time": "2024-07-25T21:37:44.334Z"
   },
   {
    "duration": 404,
    "start_time": "2024-07-25T21:37:44.359Z"
   },
   {
    "duration": 253,
    "start_time": "2024-07-25T21:37:44.766Z"
   },
   {
    "duration": 408,
    "start_time": "2024-07-25T21:37:45.022Z"
   },
   {
    "duration": 0,
    "start_time": "2024-07-25T21:37:45.432Z"
   },
   {
    "duration": 0,
    "start_time": "2024-07-25T21:37:45.434Z"
   },
   {
    "duration": 0,
    "start_time": "2024-07-25T21:37:45.436Z"
   },
   {
    "duration": 0,
    "start_time": "2024-07-25T21:37:45.438Z"
   },
   {
    "duration": 0,
    "start_time": "2024-07-25T21:37:45.440Z"
   },
   {
    "duration": 0,
    "start_time": "2024-07-25T21:37:45.441Z"
   },
   {
    "duration": 0,
    "start_time": "2024-07-25T21:37:45.443Z"
   },
   {
    "duration": 0,
    "start_time": "2024-07-25T21:37:45.445Z"
   },
   {
    "duration": 0,
    "start_time": "2024-07-25T21:37:45.447Z"
   },
   {
    "duration": 240,
    "start_time": "2024-07-25T21:41:29.860Z"
   },
   {
    "duration": 190,
    "start_time": "2024-07-25T21:42:14.113Z"
   },
   {
    "duration": 713,
    "start_time": "2024-07-25T21:42:19.170Z"
   },
   {
    "duration": 1552,
    "start_time": "2024-07-25T21:42:19.890Z"
   },
   {
    "duration": 23,
    "start_time": "2024-07-25T21:42:21.444Z"
   },
   {
    "duration": 35,
    "start_time": "2024-07-25T21:42:21.471Z"
   },
   {
    "duration": 15,
    "start_time": "2024-07-25T21:42:21.511Z"
   },
   {
    "duration": 17,
    "start_time": "2024-07-25T21:42:21.529Z"
   },
   {
    "duration": 79,
    "start_time": "2024-07-25T21:42:21.549Z"
   },
   {
    "duration": 378,
    "start_time": "2024-07-25T21:42:21.631Z"
   },
   {
    "duration": 20,
    "start_time": "2024-07-25T21:42:22.013Z"
   },
   {
    "duration": 218,
    "start_time": "2024-07-25T21:42:22.037Z"
   },
   {
    "duration": 168,
    "start_time": "2024-07-25T21:42:22.259Z"
   },
   {
    "duration": 145,
    "start_time": "2024-07-25T21:42:22.430Z"
   },
   {
    "duration": 37,
    "start_time": "2024-07-25T21:42:22.579Z"
   },
   {
    "duration": 5,
    "start_time": "2024-07-25T21:42:22.623Z"
   },
   {
    "duration": 70,
    "start_time": "2024-07-25T21:42:22.631Z"
   },
   {
    "duration": 16,
    "start_time": "2024-07-25T21:42:22.704Z"
   },
   {
    "duration": 5,
    "start_time": "2024-07-25T21:42:22.723Z"
   },
   {
    "duration": 6,
    "start_time": "2024-07-25T21:42:22.733Z"
   },
   {
    "duration": 49,
    "start_time": "2024-07-25T21:42:22.742Z"
   },
   {
    "duration": 7,
    "start_time": "2024-07-25T21:42:22.798Z"
   },
   {
    "duration": 1410,
    "start_time": "2024-07-25T21:42:22.809Z"
   },
   {
    "duration": 341,
    "start_time": "2024-07-25T21:42:24.222Z"
   },
   {
    "duration": 29,
    "start_time": "2024-07-25T21:42:24.567Z"
   },
   {
    "duration": 18,
    "start_time": "2024-07-25T21:42:24.599Z"
   },
   {
    "duration": 13,
    "start_time": "2024-07-25T21:42:24.620Z"
   },
   {
    "duration": 13,
    "start_time": "2024-07-25T21:42:24.636Z"
   },
   {
    "duration": 12,
    "start_time": "2024-07-25T21:42:24.692Z"
   },
   {
    "duration": 13,
    "start_time": "2024-07-25T21:42:24.708Z"
   },
   {
    "duration": 16,
    "start_time": "2024-07-25T21:42:24.724Z"
   },
   {
    "duration": 60,
    "start_time": "2024-07-25T21:42:24.744Z"
   },
   {
    "duration": 62,
    "start_time": "2024-07-25T21:42:24.807Z"
   },
   {
    "duration": 39,
    "start_time": "2024-07-25T21:42:24.873Z"
   },
   {
    "duration": 90,
    "start_time": "2024-07-25T21:42:24.914Z"
   },
   {
    "duration": 42,
    "start_time": "2024-07-25T21:42:25.008Z"
   },
   {
    "duration": 49,
    "start_time": "2024-07-25T21:42:25.053Z"
   },
   {
    "duration": 24,
    "start_time": "2024-07-25T21:42:25.105Z"
   },
   {
    "duration": 416,
    "start_time": "2024-07-25T21:42:25.133Z"
   },
   {
    "duration": 229,
    "start_time": "2024-07-25T21:42:25.551Z"
   },
   {
    "duration": 231,
    "start_time": "2024-07-25T21:42:25.784Z"
   },
   {
    "duration": 264,
    "start_time": "2024-07-25T21:42:26.018Z"
   },
   {
    "duration": 450,
    "start_time": "2024-07-25T21:42:26.295Z"
   },
   {
    "duration": 374,
    "start_time": "2024-07-25T21:42:26.749Z"
   },
   {
    "duration": 2157,
    "start_time": "2024-07-25T21:42:27.126Z"
   },
   {
    "duration": 846,
    "start_time": "2024-07-25T21:42:29.287Z"
   },
   {
    "duration": 1698,
    "start_time": "2024-07-25T21:42:30.136Z"
   },
   {
    "duration": 1981,
    "start_time": "2024-07-25T21:42:31.838Z"
   },
   {
    "duration": 2260,
    "start_time": "2024-07-25T21:42:33.822Z"
   },
   {
    "duration": 1618,
    "start_time": "2024-07-25T21:42:36.091Z"
   },
   {
    "duration": 3,
    "start_time": "2024-07-25T21:43:49.125Z"
   },
   {
    "duration": 748,
    "start_time": "2024-07-25T21:43:55.383Z"
   },
   {
    "duration": 4,
    "start_time": "2024-07-25T21:43:56.134Z"
   },
   {
    "duration": 1589,
    "start_time": "2024-07-25T21:43:56.141Z"
   },
   {
    "duration": 23,
    "start_time": "2024-07-25T21:43:57.734Z"
   },
   {
    "duration": 35,
    "start_time": "2024-07-25T21:43:57.760Z"
   },
   {
    "duration": 15,
    "start_time": "2024-07-25T21:43:57.799Z"
   },
   {
    "duration": 16,
    "start_time": "2024-07-25T21:43:57.817Z"
   },
   {
    "duration": 83,
    "start_time": "2024-07-25T21:43:57.836Z"
   },
   {
    "duration": 351,
    "start_time": "2024-07-25T21:43:57.922Z"
   },
   {
    "duration": 27,
    "start_time": "2024-07-25T21:43:58.279Z"
   },
   {
    "duration": 185,
    "start_time": "2024-07-25T21:43:58.309Z"
   },
   {
    "duration": 170,
    "start_time": "2024-07-25T21:43:58.497Z"
   },
   {
    "duration": 134,
    "start_time": "2024-07-25T21:43:58.671Z"
   },
   {
    "duration": 21,
    "start_time": "2024-07-25T21:43:58.808Z"
   },
   {
    "duration": 6,
    "start_time": "2024-07-25T21:43:58.832Z"
   },
   {
    "duration": 64,
    "start_time": "2024-07-25T21:43:58.841Z"
   },
   {
    "duration": 16,
    "start_time": "2024-07-25T21:43:58.908Z"
   },
   {
    "duration": 6,
    "start_time": "2024-07-25T21:43:58.926Z"
   },
   {
    "duration": 5,
    "start_time": "2024-07-25T21:43:58.935Z"
   },
   {
    "duration": 5,
    "start_time": "2024-07-25T21:43:58.991Z"
   },
   {
    "duration": 5,
    "start_time": "2024-07-25T21:43:58.999Z"
   },
   {
    "duration": 1374,
    "start_time": "2024-07-25T21:43:59.006Z"
   },
   {
    "duration": 331,
    "start_time": "2024-07-25T21:44:00.392Z"
   },
   {
    "duration": 16,
    "start_time": "2024-07-25T21:44:00.726Z"
   },
   {
    "duration": 17,
    "start_time": "2024-07-25T21:44:00.745Z"
   },
   {
    "duration": 15,
    "start_time": "2024-07-25T21:44:00.790Z"
   },
   {
    "duration": 13,
    "start_time": "2024-07-25T21:44:00.808Z"
   },
   {
    "duration": 11,
    "start_time": "2024-07-25T21:44:00.829Z"
   },
   {
    "duration": 54,
    "start_time": "2024-07-25T21:44:00.843Z"
   },
   {
    "duration": 17,
    "start_time": "2024-07-25T21:44:00.899Z"
   },
   {
    "duration": 12,
    "start_time": "2024-07-25T21:44:00.918Z"
   },
   {
    "duration": 90,
    "start_time": "2024-07-25T21:44:00.933Z"
   },
   {
    "duration": 24,
    "start_time": "2024-07-25T21:44:01.026Z"
   },
   {
    "duration": 93,
    "start_time": "2024-07-25T21:44:01.054Z"
   },
   {
    "duration": 55,
    "start_time": "2024-07-25T21:44:01.150Z"
   },
   {
    "duration": 24,
    "start_time": "2024-07-25T21:44:01.208Z"
   },
   {
    "duration": 23,
    "start_time": "2024-07-25T21:44:01.234Z"
   },
   {
    "duration": 420,
    "start_time": "2024-07-25T21:44:01.261Z"
   },
   {
    "duration": 245,
    "start_time": "2024-07-25T21:44:01.684Z"
   },
   {
    "duration": 264,
    "start_time": "2024-07-25T21:44:01.932Z"
   },
   {
    "duration": 463,
    "start_time": "2024-07-25T21:44:02.199Z"
   },
   {
    "duration": 375,
    "start_time": "2024-07-25T21:44:02.666Z"
   },
   {
    "duration": 2182,
    "start_time": "2024-07-25T21:44:03.045Z"
   },
   {
    "duration": 769,
    "start_time": "2024-07-25T21:44:05.231Z"
   },
   {
    "duration": 1564,
    "start_time": "2024-07-25T21:44:06.003Z"
   },
   {
    "duration": 1950,
    "start_time": "2024-07-25T21:44:07.570Z"
   },
   {
    "duration": 1919,
    "start_time": "2024-07-25T21:44:09.523Z"
   },
   {
    "duration": 1546,
    "start_time": "2024-07-25T21:44:11.445Z"
   },
   {
    "duration": 670,
    "start_time": "2024-07-25T21:46:04.652Z"
   },
   {
    "duration": 4,
    "start_time": "2024-07-25T21:46:05.326Z"
   },
   {
    "duration": 1542,
    "start_time": "2024-07-25T21:46:05.334Z"
   },
   {
    "duration": 34,
    "start_time": "2024-07-25T21:46:06.882Z"
   },
   {
    "duration": 20,
    "start_time": "2024-07-25T21:46:06.922Z"
   },
   {
    "duration": 45,
    "start_time": "2024-07-25T21:46:06.945Z"
   },
   {
    "duration": 15,
    "start_time": "2024-07-25T21:46:06.994Z"
   },
   {
    "duration": 41,
    "start_time": "2024-07-25T21:46:07.011Z"
   },
   {
    "duration": 355,
    "start_time": "2024-07-25T21:46:07.056Z"
   },
   {
    "duration": 19,
    "start_time": "2024-07-25T21:46:07.417Z"
   },
   {
    "duration": 200,
    "start_time": "2024-07-25T21:46:07.440Z"
   },
   {
    "duration": 175,
    "start_time": "2024-07-25T21:46:07.643Z"
   },
   {
    "duration": 133,
    "start_time": "2024-07-25T21:46:07.820Z"
   },
   {
    "duration": 38,
    "start_time": "2024-07-25T21:46:07.956Z"
   },
   {
    "duration": 6,
    "start_time": "2024-07-25T21:46:07.997Z"
   },
   {
    "duration": 35,
    "start_time": "2024-07-25T21:46:08.007Z"
   },
   {
    "duration": 48,
    "start_time": "2024-07-25T21:46:08.045Z"
   },
   {
    "duration": 7,
    "start_time": "2024-07-25T21:46:08.096Z"
   },
   {
    "duration": 5,
    "start_time": "2024-07-25T21:46:08.106Z"
   },
   {
    "duration": 6,
    "start_time": "2024-07-25T21:46:08.115Z"
   },
   {
    "duration": 5,
    "start_time": "2024-07-25T21:46:08.124Z"
   },
   {
    "duration": 1379,
    "start_time": "2024-07-25T21:46:08.132Z"
   },
   {
    "duration": 340,
    "start_time": "2024-07-25T21:46:09.514Z"
   },
   {
    "duration": 15,
    "start_time": "2024-07-25T21:46:09.857Z"
   },
   {
    "duration": 16,
    "start_time": "2024-07-25T21:46:09.892Z"
   },
   {
    "duration": 13,
    "start_time": "2024-07-25T21:46:09.912Z"
   },
   {
    "duration": 11,
    "start_time": "2024-07-25T21:46:09.929Z"
   },
   {
    "duration": 50,
    "start_time": "2024-07-25T21:46:09.949Z"
   },
   {
    "duration": 13,
    "start_time": "2024-07-25T21:46:10.002Z"
   },
   {
    "duration": 15,
    "start_time": "2024-07-25T21:46:10.018Z"
   },
   {
    "duration": 54,
    "start_time": "2024-07-25T21:46:10.036Z"
   },
   {
    "duration": 53,
    "start_time": "2024-07-25T21:46:10.093Z"
   },
   {
    "duration": 54,
    "start_time": "2024-07-25T21:46:10.149Z"
   },
   {
    "duration": 85,
    "start_time": "2024-07-25T21:46:10.206Z"
   },
   {
    "duration": 40,
    "start_time": "2024-07-25T21:46:10.294Z"
   },
   {
    "duration": 23,
    "start_time": "2024-07-25T21:46:10.339Z"
   },
   {
    "duration": 22,
    "start_time": "2024-07-25T21:46:10.392Z"
   },
   {
    "duration": 385,
    "start_time": "2024-07-25T21:46:10.417Z"
   },
   {
    "duration": 239,
    "start_time": "2024-07-25T21:46:10.805Z"
   },
   {
    "duration": 272,
    "start_time": "2024-07-25T21:46:11.047Z"
   },
   {
    "duration": 421,
    "start_time": "2024-07-25T21:46:11.322Z"
   },
   {
    "duration": 356,
    "start_time": "2024-07-25T21:46:11.746Z"
   },
   {
    "duration": 2141,
    "start_time": "2024-07-25T21:46:12.106Z"
   },
   {
    "duration": 784,
    "start_time": "2024-07-25T21:46:14.250Z"
   },
   {
    "duration": 1618,
    "start_time": "2024-07-25T21:46:15.037Z"
   },
   {
    "duration": 1964,
    "start_time": "2024-07-25T21:46:16.659Z"
   },
   {
    "duration": 2269,
    "start_time": "2024-07-25T21:46:18.626Z"
   },
   {
    "duration": 1580,
    "start_time": "2024-07-25T21:46:20.899Z"
   },
   {
    "duration": 4,
    "start_time": "2024-07-25T21:47:10.174Z"
   },
   {
    "duration": 686,
    "start_time": "2024-07-25T21:47:14.628Z"
   },
   {
    "duration": 5,
    "start_time": "2024-07-25T21:47:15.318Z"
   },
   {
    "duration": 1588,
    "start_time": "2024-07-25T21:47:15.326Z"
   },
   {
    "duration": 22,
    "start_time": "2024-07-25T21:47:16.917Z"
   },
   {
    "duration": 19,
    "start_time": "2024-07-25T21:47:16.944Z"
   },
   {
    "duration": 16,
    "start_time": "2024-07-25T21:47:16.990Z"
   },
   {
    "duration": 14,
    "start_time": "2024-07-25T21:47:17.010Z"
   },
   {
    "duration": 78,
    "start_time": "2024-07-25T21:47:17.028Z"
   },
   {
    "duration": 338,
    "start_time": "2024-07-25T21:47:17.109Z"
   },
   {
    "duration": 22,
    "start_time": "2024-07-25T21:47:17.449Z"
   },
   {
    "duration": 190,
    "start_time": "2024-07-25T21:47:17.490Z"
   },
   {
    "duration": 186,
    "start_time": "2024-07-25T21:47:17.684Z"
   },
   {
    "duration": 143,
    "start_time": "2024-07-25T21:47:17.874Z"
   },
   {
    "duration": 21,
    "start_time": "2024-07-25T21:47:18.024Z"
   },
   {
    "duration": 6,
    "start_time": "2024-07-25T21:47:18.048Z"
   },
   {
    "duration": 63,
    "start_time": "2024-07-25T21:47:18.057Z"
   },
   {
    "duration": 15,
    "start_time": "2024-07-25T21:47:18.123Z"
   },
   {
    "duration": 6,
    "start_time": "2024-07-25T21:47:18.141Z"
   },
   {
    "duration": 43,
    "start_time": "2024-07-25T21:47:18.149Z"
   },
   {
    "duration": 6,
    "start_time": "2024-07-25T21:47:18.194Z"
   },
   {
    "duration": 6,
    "start_time": "2024-07-25T21:47:18.203Z"
   },
   {
    "duration": 1354,
    "start_time": "2024-07-25T21:47:18.212Z"
   },
   {
    "duration": 338,
    "start_time": "2024-07-25T21:47:19.570Z"
   },
   {
    "duration": 13,
    "start_time": "2024-07-25T21:47:19.912Z"
   },
   {
    "duration": 15,
    "start_time": "2024-07-25T21:47:19.928Z"
   },
   {
    "duration": 48,
    "start_time": "2024-07-25T21:47:19.947Z"
   },
   {
    "duration": 12,
    "start_time": "2024-07-25T21:47:19.998Z"
   },
   {
    "duration": 11,
    "start_time": "2024-07-25T21:47:20.013Z"
   },
   {
    "duration": 13,
    "start_time": "2024-07-25T21:47:20.027Z"
   },
   {
    "duration": 56,
    "start_time": "2024-07-25T21:47:20.043Z"
   },
   {
    "duration": 11,
    "start_time": "2024-07-25T21:47:20.101Z"
   },
   {
    "duration": 81,
    "start_time": "2024-07-25T21:47:20.115Z"
   },
   {
    "duration": 24,
    "start_time": "2024-07-25T21:47:20.199Z"
   },
   {
    "duration": 87,
    "start_time": "2024-07-25T21:47:20.225Z"
   },
   {
    "duration": 39,
    "start_time": "2024-07-25T21:47:20.315Z"
   },
   {
    "duration": 52,
    "start_time": "2024-07-25T21:47:20.356Z"
   },
   {
    "duration": 22,
    "start_time": "2024-07-25T21:47:20.411Z"
   },
   {
    "duration": 404,
    "start_time": "2024-07-25T21:47:20.435Z"
   },
   {
    "duration": 244,
    "start_time": "2024-07-25T21:47:20.843Z"
   },
   {
    "duration": 262,
    "start_time": "2024-07-25T21:47:21.091Z"
   },
   {
    "duration": 461,
    "start_time": "2024-07-25T21:47:21.361Z"
   },
   {
    "duration": 356,
    "start_time": "2024-07-25T21:47:21.825Z"
   },
   {
    "duration": 2159,
    "start_time": "2024-07-25T21:47:22.184Z"
   },
   {
    "duration": 794,
    "start_time": "2024-07-25T21:47:24.348Z"
   },
   {
    "duration": 1577,
    "start_time": "2024-07-25T21:47:25.145Z"
   },
   {
    "duration": 1941,
    "start_time": "2024-07-25T21:47:26.725Z"
   },
   {
    "duration": 1906,
    "start_time": "2024-07-25T21:47:28.669Z"
   },
   {
    "duration": 1516,
    "start_time": "2024-07-25T21:47:30.578Z"
   },
   {
    "duration": 5,
    "start_time": "2024-07-25T21:48:12.870Z"
   },
   {
    "duration": 694,
    "start_time": "2024-07-25T21:48:18.522Z"
   },
   {
    "duration": 5,
    "start_time": "2024-07-25T21:48:19.220Z"
   },
   {
    "duration": 1556,
    "start_time": "2024-07-25T21:48:19.229Z"
   },
   {
    "duration": 23,
    "start_time": "2024-07-25T21:48:20.790Z"
   },
   {
    "duration": 20,
    "start_time": "2024-07-25T21:48:20.816Z"
   },
   {
    "duration": 52,
    "start_time": "2024-07-25T21:48:20.839Z"
   },
   {
    "duration": 15,
    "start_time": "2024-07-25T21:48:20.894Z"
   },
   {
    "duration": 45,
    "start_time": "2024-07-25T21:48:20.912Z"
   },
   {
    "duration": 356,
    "start_time": "2024-07-25T21:48:20.991Z"
   },
   {
    "duration": 19,
    "start_time": "2024-07-25T21:48:21.353Z"
   },
   {
    "duration": 212,
    "start_time": "2024-07-25T21:48:21.392Z"
   },
   {
    "duration": 188,
    "start_time": "2024-07-25T21:48:21.607Z"
   },
   {
    "duration": 142,
    "start_time": "2024-07-25T21:48:21.798Z"
   },
   {
    "duration": 29,
    "start_time": "2024-07-25T21:48:21.944Z"
   },
   {
    "duration": 5,
    "start_time": "2024-07-25T21:48:21.992Z"
   },
   {
    "duration": 41,
    "start_time": "2024-07-25T21:48:22.001Z"
   },
   {
    "duration": 54,
    "start_time": "2024-07-25T21:48:22.045Z"
   },
   {
    "duration": 6,
    "start_time": "2024-07-25T21:48:22.101Z"
   },
   {
    "duration": 6,
    "start_time": "2024-07-25T21:48:22.110Z"
   },
   {
    "duration": 7,
    "start_time": "2024-07-25T21:48:22.120Z"
   },
   {
    "duration": 5,
    "start_time": "2024-07-25T21:48:22.131Z"
   },
   {
    "duration": 1463,
    "start_time": "2024-07-25T21:48:22.139Z"
   },
   {
    "duration": 341,
    "start_time": "2024-07-25T21:48:23.604Z"
   },
   {
    "duration": 13,
    "start_time": "2024-07-25T21:48:23.949Z"
   },
   {
    "duration": 36,
    "start_time": "2024-07-25T21:48:23.966Z"
   },
   {
    "duration": 11,
    "start_time": "2024-07-25T21:48:24.006Z"
   },
   {
    "duration": 13,
    "start_time": "2024-07-25T21:48:24.021Z"
   },
   {
    "duration": 48,
    "start_time": "2024-07-25T21:48:24.044Z"
   },
   {
    "duration": 14,
    "start_time": "2024-07-25T21:48:24.097Z"
   },
   {
    "duration": 17,
    "start_time": "2024-07-25T21:48:24.115Z"
   },
   {
    "duration": 57,
    "start_time": "2024-07-25T21:48:24.136Z"
   },
   {
    "duration": 49,
    "start_time": "2024-07-25T21:48:24.196Z"
   },
   {
    "duration": 57,
    "start_time": "2024-07-25T21:48:24.248Z"
   },
   {
    "duration": 82,
    "start_time": "2024-07-25T21:48:24.308Z"
   },
   {
    "duration": 39,
    "start_time": "2024-07-25T21:48:24.393Z"
   },
   {
    "duration": 24,
    "start_time": "2024-07-25T21:48:24.434Z"
   },
   {
    "duration": 50,
    "start_time": "2024-07-25T21:48:24.461Z"
   },
   {
    "duration": 404,
    "start_time": "2024-07-25T21:48:24.514Z"
   },
   {
    "duration": 246,
    "start_time": "2024-07-25T21:48:24.921Z"
   },
   {
    "duration": 260,
    "start_time": "2024-07-25T21:48:25.170Z"
   },
   {
    "duration": 440,
    "start_time": "2024-07-25T21:48:25.432Z"
   },
   {
    "duration": 362,
    "start_time": "2024-07-25T21:48:25.875Z"
   },
   {
    "duration": 2178,
    "start_time": "2024-07-25T21:48:26.241Z"
   },
   {
    "duration": 809,
    "start_time": "2024-07-25T21:48:28.423Z"
   },
   {
    "duration": 1584,
    "start_time": "2024-07-25T21:48:29.235Z"
   },
   {
    "duration": 1935,
    "start_time": "2024-07-25T21:48:30.822Z"
   },
   {
    "duration": 2322,
    "start_time": "2024-07-25T21:48:32.760Z"
   },
   {
    "duration": 1607,
    "start_time": "2024-07-25T21:48:35.090Z"
   },
   {
    "duration": 4,
    "start_time": "2024-07-25T21:49:06.052Z"
   },
   {
    "duration": 750,
    "start_time": "2024-07-25T21:49:11.379Z"
   },
   {
    "duration": 4,
    "start_time": "2024-07-25T21:49:12.133Z"
   },
   {
    "duration": 1584,
    "start_time": "2024-07-25T21:49:12.140Z"
   },
   {
    "duration": 23,
    "start_time": "2024-07-25T21:49:13.727Z"
   },
   {
    "duration": 46,
    "start_time": "2024-07-25T21:49:13.755Z"
   },
   {
    "duration": 16,
    "start_time": "2024-07-25T21:49:13.805Z"
   },
   {
    "duration": 17,
    "start_time": "2024-07-25T21:49:13.824Z"
   },
   {
    "duration": 76,
    "start_time": "2024-07-25T21:49:13.844Z"
   },
   {
    "duration": 367,
    "start_time": "2024-07-25T21:49:13.923Z"
   },
   {
    "duration": 19,
    "start_time": "2024-07-25T21:49:14.293Z"
   },
   {
    "duration": 193,
    "start_time": "2024-07-25T21:49:14.315Z"
   },
   {
    "duration": 177,
    "start_time": "2024-07-25T21:49:14.511Z"
   },
   {
    "duration": 151,
    "start_time": "2024-07-25T21:49:14.691Z"
   },
   {
    "duration": 21,
    "start_time": "2024-07-25T21:49:14.850Z"
   },
   {
    "duration": 4,
    "start_time": "2024-07-25T21:49:14.890Z"
   },
   {
    "duration": 32,
    "start_time": "2024-07-25T21:49:14.898Z"
   },
   {
    "duration": 15,
    "start_time": "2024-07-25T21:49:14.934Z"
   },
   {
    "duration": 41,
    "start_time": "2024-07-25T21:49:14.952Z"
   },
   {
    "duration": 6,
    "start_time": "2024-07-25T21:49:14.996Z"
   },
   {
    "duration": 6,
    "start_time": "2024-07-25T21:49:15.004Z"
   },
   {
    "duration": 5,
    "start_time": "2024-07-25T21:49:15.014Z"
   },
   {
    "duration": 1400,
    "start_time": "2024-07-25T21:49:15.022Z"
   },
   {
    "duration": 349,
    "start_time": "2024-07-25T21:49:16.426Z"
   },
   {
    "duration": 21,
    "start_time": "2024-07-25T21:49:16.778Z"
   },
   {
    "duration": 18,
    "start_time": "2024-07-25T21:49:16.802Z"
   },
   {
    "duration": 12,
    "start_time": "2024-07-25T21:49:16.825Z"
   },
   {
    "duration": 11,
    "start_time": "2024-07-25T21:49:16.841Z"
   },
   {
    "duration": 13,
    "start_time": "2024-07-25T21:49:16.893Z"
   },
   {
    "duration": 13,
    "start_time": "2024-07-25T21:49:16.909Z"
   },
   {
    "duration": 16,
    "start_time": "2024-07-25T21:49:16.925Z"
   },
   {
    "duration": 51,
    "start_time": "2024-07-25T21:49:16.945Z"
   },
   {
    "duration": 50,
    "start_time": "2024-07-25T21:49:16.999Z"
   },
   {
    "duration": 57,
    "start_time": "2024-07-25T21:49:17.051Z"
   },
   {
    "duration": 95,
    "start_time": "2024-07-25T21:49:17.111Z"
   },
   {
    "duration": 44,
    "start_time": "2024-07-25T21:49:17.209Z"
   },
   {
    "duration": 50,
    "start_time": "2024-07-25T21:49:17.257Z"
   },
   {
    "duration": 23,
    "start_time": "2024-07-25T21:49:17.310Z"
   },
   {
    "duration": 399,
    "start_time": "2024-07-25T21:49:17.336Z"
   },
   {
    "duration": 254,
    "start_time": "2024-07-25T21:49:17.738Z"
   },
   {
    "duration": 283,
    "start_time": "2024-07-25T21:49:17.995Z"
   },
   {
    "duration": 440,
    "start_time": "2024-07-25T21:49:18.287Z"
   },
   {
    "duration": 362,
    "start_time": "2024-07-25T21:49:18.730Z"
   },
   {
    "duration": 2128,
    "start_time": "2024-07-25T21:49:19.095Z"
   },
   {
    "duration": 767,
    "start_time": "2024-07-25T21:49:21.226Z"
   },
   {
    "duration": 1579,
    "start_time": "2024-07-25T21:49:21.998Z"
   },
   {
    "duration": 1943,
    "start_time": "2024-07-25T21:49:23.590Z"
   },
   {
    "duration": 1915,
    "start_time": "2024-07-25T21:49:25.535Z"
   },
   {
    "duration": 1518,
    "start_time": "2024-07-25T21:49:27.453Z"
   },
   {
    "duration": 3,
    "start_time": "2024-07-25T21:49:59.387Z"
   },
   {
    "duration": 5,
    "start_time": "2024-07-25T21:50:04.816Z"
   },
   {
    "duration": 718,
    "start_time": "2024-07-25T21:50:13.605Z"
   },
   {
    "duration": 4,
    "start_time": "2024-07-25T21:50:14.327Z"
   },
   {
    "duration": 1606,
    "start_time": "2024-07-25T21:50:14.335Z"
   },
   {
    "duration": 25,
    "start_time": "2024-07-25T21:50:15.945Z"
   },
   {
    "duration": 35,
    "start_time": "2024-07-25T21:50:15.973Z"
   },
   {
    "duration": 17,
    "start_time": "2024-07-25T21:50:16.012Z"
   },
   {
    "duration": 17,
    "start_time": "2024-07-25T21:50:16.034Z"
   },
   {
    "duration": 43,
    "start_time": "2024-07-25T21:50:16.092Z"
   },
   {
    "duration": 369,
    "start_time": "2024-07-25T21:50:16.139Z"
   },
   {
    "duration": 20,
    "start_time": "2024-07-25T21:50:16.515Z"
   },
   {
    "duration": 213,
    "start_time": "2024-07-25T21:50:16.538Z"
   },
   {
    "duration": 189,
    "start_time": "2024-07-25T21:50:16.754Z"
   },
   {
    "duration": 151,
    "start_time": "2024-07-25T21:50:16.946Z"
   },
   {
    "duration": 24,
    "start_time": "2024-07-25T21:50:17.100Z"
   },
   {
    "duration": 6,
    "start_time": "2024-07-25T21:50:17.127Z"
   },
   {
    "duration": 67,
    "start_time": "2024-07-25T21:50:17.137Z"
   },
   {
    "duration": 16,
    "start_time": "2024-07-25T21:50:17.208Z"
   },
   {
    "duration": 6,
    "start_time": "2024-07-25T21:50:17.226Z"
   },
   {
    "duration": 6,
    "start_time": "2024-07-25T21:50:17.235Z"
   },
   {
    "duration": 49,
    "start_time": "2024-07-25T21:50:17.245Z"
   },
   {
    "duration": 6,
    "start_time": "2024-07-25T21:50:17.297Z"
   },
   {
    "duration": 1385,
    "start_time": "2024-07-25T21:50:17.305Z"
   },
   {
    "duration": 362,
    "start_time": "2024-07-25T21:50:18.693Z"
   },
   {
    "duration": 13,
    "start_time": "2024-07-25T21:50:19.058Z"
   },
   {
    "duration": 15,
    "start_time": "2024-07-25T21:50:19.091Z"
   },
   {
    "duration": 13,
    "start_time": "2024-07-25T21:50:19.110Z"
   },
   {
    "duration": 15,
    "start_time": "2024-07-25T21:50:19.126Z"
   },
   {
    "duration": 10,
    "start_time": "2024-07-25T21:50:19.192Z"
   },
   {
    "duration": 13,
    "start_time": "2024-07-25T21:50:19.206Z"
   },
   {
    "duration": 18,
    "start_time": "2024-07-25T21:50:19.223Z"
   },
   {
    "duration": 48,
    "start_time": "2024-07-25T21:50:19.244Z"
   },
   {
    "duration": 50,
    "start_time": "2024-07-25T21:50:19.295Z"
   },
   {
    "duration": 57,
    "start_time": "2024-07-25T21:50:19.348Z"
   },
   {
    "duration": 86,
    "start_time": "2024-07-25T21:50:19.409Z"
   },
   {
    "duration": 42,
    "start_time": "2024-07-25T21:50:19.501Z"
   },
   {
    "duration": 43,
    "start_time": "2024-07-25T21:50:19.546Z"
   },
   {
    "duration": 23,
    "start_time": "2024-07-25T21:50:19.592Z"
   },
   {
    "duration": 480,
    "start_time": "2024-07-25T21:50:19.618Z"
   },
   {
    "duration": 328,
    "start_time": "2024-07-25T21:50:20.102Z"
   },
   {
    "duration": 349,
    "start_time": "2024-07-25T21:50:20.434Z"
   },
   {
    "duration": 536,
    "start_time": "2024-07-25T21:50:20.791Z"
   },
   {
    "duration": 431,
    "start_time": "2024-07-25T21:50:21.329Z"
   },
   {
    "duration": 2364,
    "start_time": "2024-07-25T21:50:21.763Z"
   },
   {
    "duration": 865,
    "start_time": "2024-07-25T21:50:24.131Z"
   },
   {
    "duration": 1759,
    "start_time": "2024-07-25T21:50:25.000Z"
   },
   {
    "duration": 2025,
    "start_time": "2024-07-25T21:50:26.762Z"
   },
   {
    "duration": 2176,
    "start_time": "2024-07-25T21:50:28.792Z"
   },
   {
    "duration": 1720,
    "start_time": "2024-07-25T21:50:30.971Z"
   },
   {
    "duration": 4,
    "start_time": "2024-07-25T21:50:55.398Z"
   },
   {
    "duration": 717,
    "start_time": "2024-07-25T21:51:01.492Z"
   },
   {
    "duration": 4,
    "start_time": "2024-07-25T21:51:02.212Z"
   },
   {
    "duration": 1609,
    "start_time": "2024-07-25T21:51:02.220Z"
   },
   {
    "duration": 24,
    "start_time": "2024-07-25T21:51:03.832Z"
   },
   {
    "duration": 38,
    "start_time": "2024-07-25T21:51:03.861Z"
   },
   {
    "duration": 16,
    "start_time": "2024-07-25T21:51:03.902Z"
   },
   {
    "duration": 18,
    "start_time": "2024-07-25T21:51:03.921Z"
   },
   {
    "duration": 83,
    "start_time": "2024-07-25T21:51:03.944Z"
   },
   {
    "duration": 323,
    "start_time": "2024-07-25T21:51:04.031Z"
   },
   {
    "duration": 36,
    "start_time": "2024-07-25T21:51:04.356Z"
   },
   {
    "duration": 187,
    "start_time": "2024-07-25T21:51:04.395Z"
   },
   {
    "duration": 197,
    "start_time": "2024-07-25T21:51:04.590Z"
   },
   {
    "duration": 139,
    "start_time": "2024-07-25T21:51:04.790Z"
   },
   {
    "duration": 23,
    "start_time": "2024-07-25T21:51:04.936Z"
   },
   {
    "duration": 28,
    "start_time": "2024-07-25T21:51:04.962Z"
   },
   {
    "duration": 34,
    "start_time": "2024-07-25T21:51:04.993Z"
   },
   {
    "duration": 15,
    "start_time": "2024-07-25T21:51:05.030Z"
   },
   {
    "duration": 42,
    "start_time": "2024-07-25T21:51:05.048Z"
   },
   {
    "duration": 5,
    "start_time": "2024-07-25T21:51:05.094Z"
   },
   {
    "duration": 8,
    "start_time": "2024-07-25T21:51:05.103Z"
   },
   {
    "duration": 6,
    "start_time": "2024-07-25T21:51:05.114Z"
   },
   {
    "duration": 1359,
    "start_time": "2024-07-25T21:51:05.123Z"
   },
   {
    "duration": 342,
    "start_time": "2024-07-25T21:51:06.492Z"
   },
   {
    "duration": 13,
    "start_time": "2024-07-25T21:51:06.838Z"
   },
   {
    "duration": 44,
    "start_time": "2024-07-25T21:51:06.855Z"
   },
   {
    "duration": 12,
    "start_time": "2024-07-25T21:51:06.901Z"
   },
   {
    "duration": 13,
    "start_time": "2024-07-25T21:51:06.916Z"
   },
   {
    "duration": 11,
    "start_time": "2024-07-25T21:51:06.932Z"
   },
   {
    "duration": 53,
    "start_time": "2024-07-25T21:51:06.946Z"
   },
   {
    "duration": 16,
    "start_time": "2024-07-25T21:51:07.001Z"
   },
   {
    "duration": 11,
    "start_time": "2024-07-25T21:51:07.019Z"
   },
   {
    "duration": 88,
    "start_time": "2024-07-25T21:51:07.033Z"
   },
   {
    "duration": 26,
    "start_time": "2024-07-25T21:51:07.124Z"
   },
   {
    "duration": 93,
    "start_time": "2024-07-25T21:51:07.153Z"
   },
   {
    "duration": 52,
    "start_time": "2024-07-25T21:51:07.252Z"
   },
   {
    "duration": 24,
    "start_time": "2024-07-25T21:51:07.307Z"
   },
   {
    "duration": 22,
    "start_time": "2024-07-25T21:51:07.334Z"
   },
   {
    "duration": 410,
    "start_time": "2024-07-25T21:51:07.359Z"
   },
   {
    "duration": 240,
    "start_time": "2024-07-25T21:51:07.772Z"
   },
   {
    "duration": 258,
    "start_time": "2024-07-25T21:51:08.014Z"
   },
   {
    "duration": 457,
    "start_time": "2024-07-25T21:51:08.280Z"
   },
   {
    "duration": 344,
    "start_time": "2024-07-25T21:51:08.740Z"
   },
   {
    "duration": 2185,
    "start_time": "2024-07-25T21:51:09.086Z"
   },
   {
    "duration": 771,
    "start_time": "2024-07-25T21:51:11.274Z"
   },
   {
    "duration": 1587,
    "start_time": "2024-07-25T21:51:12.048Z"
   },
   {
    "duration": 1973,
    "start_time": "2024-07-25T21:51:13.638Z"
   },
   {
    "duration": 1906,
    "start_time": "2024-07-25T21:51:15.614Z"
   },
   {
    "duration": 1527,
    "start_time": "2024-07-25T21:51:17.524Z"
   },
   {
    "duration": 24,
    "start_time": "2024-07-25T21:53:59.577Z"
   },
   {
    "duration": 23,
    "start_time": "2024-07-25T21:54:16.734Z"
   },
   {
    "duration": 20,
    "start_time": "2024-07-25T21:54:37.060Z"
   },
   {
    "duration": 21,
    "start_time": "2024-07-25T21:54:48.001Z"
   },
   {
    "duration": 50,
    "start_time": "2024-07-25T21:55:04.924Z"
   },
   {
    "duration": 149,
    "start_time": "2024-07-25T21:56:20.370Z"
   },
   {
    "duration": 309,
    "start_time": "2024-07-25T21:56:50.829Z"
   },
   {
    "duration": 299,
    "start_time": "2024-07-25T21:56:54.932Z"
   },
   {
    "duration": 685,
    "start_time": "2024-07-25T21:57:07.415Z"
   },
   {
    "duration": 4,
    "start_time": "2024-07-25T21:57:08.104Z"
   },
   {
    "duration": 1541,
    "start_time": "2024-07-25T21:57:08.111Z"
   },
   {
    "duration": 41,
    "start_time": "2024-07-25T21:57:09.656Z"
   },
   {
    "duration": 24,
    "start_time": "2024-07-25T21:57:09.701Z"
   },
   {
    "duration": 19,
    "start_time": "2024-07-25T21:57:09.727Z"
   },
   {
    "duration": 58,
    "start_time": "2024-07-25T21:57:09.749Z"
   },
   {
    "duration": 45,
    "start_time": "2024-07-25T21:57:09.809Z"
   },
   {
    "duration": 362,
    "start_time": "2024-07-25T21:57:09.858Z"
   },
   {
    "duration": 19,
    "start_time": "2024-07-25T21:57:10.226Z"
   },
   {
    "duration": 210,
    "start_time": "2024-07-25T21:57:10.249Z"
   },
   {
    "duration": 190,
    "start_time": "2024-07-25T21:57:10.461Z"
   },
   {
    "duration": 141,
    "start_time": "2024-07-25T21:57:10.654Z"
   },
   {
    "duration": 23,
    "start_time": "2024-07-25T21:57:10.798Z"
   },
   {
    "duration": 5,
    "start_time": "2024-07-25T21:57:10.826Z"
   },
   {
    "duration": 71,
    "start_time": "2024-07-25T21:57:10.835Z"
   },
   {
    "duration": 14,
    "start_time": "2024-07-25T21:57:10.909Z"
   },
   {
    "duration": 6,
    "start_time": "2024-07-25T21:57:10.926Z"
   },
   {
    "duration": 6,
    "start_time": "2024-07-25T21:57:10.935Z"
   },
   {
    "duration": 46,
    "start_time": "2024-07-25T21:57:10.945Z"
   },
   {
    "duration": 6,
    "start_time": "2024-07-25T21:57:10.994Z"
   },
   {
    "duration": 1352,
    "start_time": "2024-07-25T21:57:11.004Z"
   },
   {
    "duration": 365,
    "start_time": "2024-07-25T21:57:12.359Z"
   },
   {
    "duration": 12,
    "start_time": "2024-07-25T21:57:12.727Z"
   },
   {
    "duration": 18,
    "start_time": "2024-07-25T21:57:12.742Z"
   },
   {
    "duration": 12,
    "start_time": "2024-07-25T21:57:12.792Z"
   },
   {
    "duration": 14,
    "start_time": "2024-07-25T21:57:12.807Z"
   },
   {
    "duration": 13,
    "start_time": "2024-07-25T21:57:12.829Z"
   },
   {
    "duration": 54,
    "start_time": "2024-07-25T21:57:12.845Z"
   },
   {
    "duration": 17,
    "start_time": "2024-07-25T21:57:12.902Z"
   },
   {
    "duration": 12,
    "start_time": "2024-07-25T21:57:12.921Z"
   },
   {
    "duration": 87,
    "start_time": "2024-07-25T21:57:12.936Z"
   },
   {
    "duration": 26,
    "start_time": "2024-07-25T21:57:13.027Z"
   },
   {
    "duration": 91,
    "start_time": "2024-07-25T21:57:13.056Z"
   },
   {
    "duration": 55,
    "start_time": "2024-07-25T21:57:13.150Z"
   },
   {
    "duration": 25,
    "start_time": "2024-07-25T21:57:13.208Z"
   },
   {
    "duration": 28,
    "start_time": "2024-07-25T21:57:13.235Z"
   },
   {
    "duration": 387,
    "start_time": "2024-07-25T21:57:13.292Z"
   },
   {
    "duration": 257,
    "start_time": "2024-07-25T21:57:13.682Z"
   },
   {
    "duration": 266,
    "start_time": "2024-07-25T21:57:13.942Z"
   },
   {
    "duration": 440,
    "start_time": "2024-07-25T21:57:14.212Z"
   },
   {
    "duration": 371,
    "start_time": "2024-07-25T21:57:14.656Z"
   },
   {
    "duration": 2184,
    "start_time": "2024-07-25T21:57:15.031Z"
   },
   {
    "duration": 764,
    "start_time": "2024-07-25T21:57:17.218Z"
   },
   {
    "duration": 1539,
    "start_time": "2024-07-25T21:57:17.985Z"
   },
   {
    "duration": 1956,
    "start_time": "2024-07-25T21:57:19.527Z"
   },
   {
    "duration": 1917,
    "start_time": "2024-07-25T21:57:21.489Z"
   },
   {
    "duration": 1556,
    "start_time": "2024-07-25T21:57:23.409Z"
   },
   {
    "duration": 355,
    "start_time": "2024-07-25T21:58:07.217Z"
   },
   {
    "duration": 19,
    "start_time": "2024-07-25T21:58:19.626Z"
   },
   {
    "duration": 9,
    "start_time": "2024-07-25T21:58:44.703Z"
   },
   {
    "duration": 24,
    "start_time": "2024-07-25T21:59:02.507Z"
   },
   {
    "duration": 3,
    "start_time": "2024-07-25T21:59:30.977Z"
   },
   {
    "duration": 793,
    "start_time": "2024-07-25T21:59:36.797Z"
   },
   {
    "duration": 8,
    "start_time": "2024-07-25T21:59:37.600Z"
   },
   {
    "duration": 1605,
    "start_time": "2024-07-25T21:59:37.618Z"
   },
   {
    "duration": 39,
    "start_time": "2024-07-25T21:59:39.226Z"
   },
   {
    "duration": 24,
    "start_time": "2024-07-25T21:59:39.290Z"
   },
   {
    "duration": 21,
    "start_time": "2024-07-25T21:59:39.317Z"
   },
   {
    "duration": 61,
    "start_time": "2024-07-25T21:59:39.341Z"
   },
   {
    "duration": 85,
    "start_time": "2024-07-25T21:59:39.406Z"
   },
   {
    "duration": 424,
    "start_time": "2024-07-25T21:59:39.495Z"
   },
   {
    "duration": 25,
    "start_time": "2024-07-25T21:59:39.922Z"
   },
   {
    "duration": 276,
    "start_time": "2024-07-25T21:59:39.950Z"
   },
   {
    "duration": 213,
    "start_time": "2024-07-25T21:59:40.229Z"
   },
   {
    "duration": 155,
    "start_time": "2024-07-25T21:59:40.445Z"
   },
   {
    "duration": 29,
    "start_time": "2024-07-25T21:59:40.608Z"
   },
   {
    "duration": 7,
    "start_time": "2024-07-25T21:59:40.640Z"
   },
   {
    "duration": 70,
    "start_time": "2024-07-25T21:59:40.651Z"
   },
   {
    "duration": 17,
    "start_time": "2024-07-25T21:59:40.724Z"
   },
   {
    "duration": 8,
    "start_time": "2024-07-25T21:59:40.745Z"
   },
   {
    "duration": 39,
    "start_time": "2024-07-25T21:59:40.756Z"
   },
   {
    "duration": 7,
    "start_time": "2024-07-25T21:59:40.798Z"
   },
   {
    "duration": 5,
    "start_time": "2024-07-25T21:59:40.808Z"
   },
   {
    "duration": 1546,
    "start_time": "2024-07-25T21:59:40.817Z"
   },
   {
    "duration": 420,
    "start_time": "2024-07-25T21:59:42.365Z"
   },
   {
    "duration": 21,
    "start_time": "2024-07-25T21:59:42.793Z"
   },
   {
    "duration": 19,
    "start_time": "2024-07-25T21:59:42.817Z"
   },
   {
    "duration": 12,
    "start_time": "2024-07-25T21:59:42.841Z"
   },
   {
    "duration": 14,
    "start_time": "2024-07-25T21:59:42.892Z"
   },
   {
    "duration": 13,
    "start_time": "2024-07-25T21:59:42.911Z"
   },
   {
    "duration": 15,
    "start_time": "2024-07-25T21:59:42.928Z"
   },
   {
    "duration": 19,
    "start_time": "2024-07-25T21:59:42.991Z"
   },
   {
    "duration": 12,
    "start_time": "2024-07-25T21:59:43.012Z"
   },
   {
    "duration": 92,
    "start_time": "2024-07-25T21:59:43.028Z"
   },
   {
    "duration": 27,
    "start_time": "2024-07-25T21:59:43.123Z"
   },
   {
    "duration": 92,
    "start_time": "2024-07-25T21:59:43.153Z"
   },
   {
    "duration": 62,
    "start_time": "2024-07-25T21:59:43.249Z"
   },
   {
    "duration": 23,
    "start_time": "2024-07-25T21:59:43.314Z"
   },
   {
    "duration": 51,
    "start_time": "2024-07-25T21:59:43.340Z"
   },
   {
    "duration": 412,
    "start_time": "2024-07-25T21:59:43.393Z"
   },
   {
    "duration": 244,
    "start_time": "2024-07-25T21:59:43.809Z"
   },
   {
    "duration": 260,
    "start_time": "2024-07-25T21:59:44.056Z"
   },
   {
    "duration": 440,
    "start_time": "2024-07-25T21:59:44.325Z"
   },
   {
    "duration": 379,
    "start_time": "2024-07-25T21:59:44.768Z"
   },
   {
    "duration": 2185,
    "start_time": "2024-07-25T21:59:45.150Z"
   },
   {
    "duration": 788,
    "start_time": "2024-07-25T21:59:47.338Z"
   },
   {
    "duration": 1554,
    "start_time": "2024-07-25T21:59:48.128Z"
   },
   {
    "duration": 1936,
    "start_time": "2024-07-25T21:59:49.690Z"
   },
   {
    "duration": 1916,
    "start_time": "2024-07-25T21:59:51.629Z"
   },
   {
    "duration": 1552,
    "start_time": "2024-07-25T21:59:53.549Z"
   },
   {
    "duration": 378,
    "start_time": "2024-07-25T22:00:08.466Z"
   },
   {
    "duration": 9,
    "start_time": "2024-07-25T22:00:42.163Z"
   },
   {
    "duration": 21,
    "start_time": "2024-07-25T22:00:49.013Z"
   },
   {
    "duration": 9,
    "start_time": "2024-07-25T22:01:00.072Z"
   },
   {
    "duration": 4,
    "start_time": "2024-07-25T22:01:09.544Z"
   },
   {
    "duration": 706,
    "start_time": "2024-07-25T22:05:51.315Z"
   },
   {
    "duration": 4,
    "start_time": "2024-07-25T22:05:52.025Z"
   },
   {
    "duration": 1589,
    "start_time": "2024-07-25T22:05:52.032Z"
   },
   {
    "duration": 37,
    "start_time": "2024-07-25T22:05:53.626Z"
   },
   {
    "duration": 49,
    "start_time": "2024-07-25T22:05:53.666Z"
   },
   {
    "duration": 26,
    "start_time": "2024-07-25T22:05:53.718Z"
   },
   {
    "duration": 51,
    "start_time": "2024-07-25T22:05:53.748Z"
   },
   {
    "duration": 47,
    "start_time": "2024-07-25T22:05:53.802Z"
   },
   {
    "duration": 355,
    "start_time": "2024-07-25T22:05:53.852Z"
   },
   {
    "duration": 11,
    "start_time": "2024-07-25T22:05:54.214Z"
   },
   {
    "duration": 198,
    "start_time": "2024-07-25T22:05:54.228Z"
   },
   {
    "duration": 177,
    "start_time": "2024-07-25T22:05:54.430Z"
   },
   {
    "duration": 145,
    "start_time": "2024-07-25T22:05:54.610Z"
   },
   {
    "duration": 43,
    "start_time": "2024-07-25T22:05:54.758Z"
   },
   {
    "duration": 7,
    "start_time": "2024-07-25T22:05:54.804Z"
   },
   {
    "duration": 41,
    "start_time": "2024-07-25T22:05:54.814Z"
   },
   {
    "duration": 41,
    "start_time": "2024-07-25T22:05:54.858Z"
   },
   {
    "duration": 6,
    "start_time": "2024-07-25T22:05:54.901Z"
   },
   {
    "duration": 6,
    "start_time": "2024-07-25T22:05:54.911Z"
   },
   {
    "duration": 5,
    "start_time": "2024-07-25T22:05:54.922Z"
   },
   {
    "duration": 6,
    "start_time": "2024-07-25T22:05:54.931Z"
   },
   {
    "duration": 1345,
    "start_time": "2024-07-25T22:05:54.991Z"
   },
   {
    "duration": 345,
    "start_time": "2024-07-25T22:05:56.338Z"
   },
   {
    "duration": 14,
    "start_time": "2024-07-25T22:05:56.686Z"
   },
   {
    "duration": 17,
    "start_time": "2024-07-25T22:05:56.703Z"
   },
   {
    "duration": 12,
    "start_time": "2024-07-25T22:05:56.723Z"
   },
   {
    "duration": 55,
    "start_time": "2024-07-25T22:05:56.739Z"
   },
   {
    "duration": 12,
    "start_time": "2024-07-25T22:05:56.804Z"
   },
   {
    "duration": 15,
    "start_time": "2024-07-25T22:05:56.819Z"
   },
   {
    "duration": 63,
    "start_time": "2024-07-25T22:05:56.838Z"
   },
   {
    "duration": 15,
    "start_time": "2024-07-25T22:05:56.908Z"
   },
   {
    "duration": 81,
    "start_time": "2024-07-25T22:05:56.926Z"
   },
   {
    "duration": 24,
    "start_time": "2024-07-25T22:05:57.010Z"
   },
   {
    "duration": 92,
    "start_time": "2024-07-25T22:05:57.037Z"
   },
   {
    "duration": 38,
    "start_time": "2024-07-25T22:05:57.132Z"
   },
   {
    "duration": 40,
    "start_time": "2024-07-25T22:05:57.172Z"
   },
   {
    "duration": 22,
    "start_time": "2024-07-25T22:05:57.215Z"
   },
   {
    "duration": 405,
    "start_time": "2024-07-25T22:05:57.239Z"
   },
   {
    "duration": 238,
    "start_time": "2024-07-25T22:05:57.646Z"
   },
   {
    "duration": 270,
    "start_time": "2024-07-25T22:05:57.892Z"
   },
   {
    "duration": 436,
    "start_time": "2024-07-25T22:05:58.165Z"
   },
   {
    "duration": 361,
    "start_time": "2024-07-25T22:05:58.604Z"
   },
   {
    "duration": 2195,
    "start_time": "2024-07-25T22:05:58.968Z"
   },
   {
    "duration": 768,
    "start_time": "2024-07-25T22:06:01.166Z"
   },
   {
    "duration": 1586,
    "start_time": "2024-07-25T22:06:01.937Z"
   },
   {
    "duration": 1950,
    "start_time": "2024-07-25T22:06:03.526Z"
   },
   {
    "duration": 1873,
    "start_time": "2024-07-25T22:06:05.490Z"
   },
   {
    "duration": 1529,
    "start_time": "2024-07-25T22:06:07.366Z"
   },
   {
    "duration": 11,
    "start_time": "2024-07-25T22:47:31.397Z"
   },
   {
    "duration": 17,
    "start_time": "2024-07-25T22:48:21.536Z"
   },
   {
    "duration": 17,
    "start_time": "2024-07-25T22:49:28.273Z"
   },
   {
    "duration": 11,
    "start_time": "2024-07-25T22:53:52.699Z"
   },
   {
    "duration": 5,
    "start_time": "2024-07-25T22:54:00.261Z"
   },
   {
    "duration": 11,
    "start_time": "2024-07-25T22:54:25.386Z"
   },
   {
    "duration": 8,
    "start_time": "2024-07-25T22:54:38.485Z"
   },
   {
    "duration": 16,
    "start_time": "2024-07-25T22:58:24.546Z"
   },
   {
    "duration": 13,
    "start_time": "2024-07-25T22:58:49.992Z"
   },
   {
    "duration": 12,
    "start_time": "2024-07-25T22:59:08.812Z"
   },
   {
    "duration": 14,
    "start_time": "2024-07-25T22:59:31.853Z"
   },
   {
    "duration": 63,
    "start_time": "2024-07-25T23:01:09.360Z"
   },
   {
    "duration": 60,
    "start_time": "2024-07-25T23:02:45.334Z"
   },
   {
    "duration": 59,
    "start_time": "2024-07-25T23:03:32.410Z"
   },
   {
    "duration": 9,
    "start_time": "2024-07-25T23:04:09.520Z"
   },
   {
    "duration": 10,
    "start_time": "2024-07-25T23:04:15.521Z"
   },
   {
    "duration": 341,
    "start_time": "2024-07-25T23:05:07.004Z"
   },
   {
    "duration": 641,
    "start_time": "2024-07-25T23:08:53.722Z"
   },
   {
    "duration": 270,
    "start_time": "2024-07-25T23:09:14.311Z"
   },
   {
    "duration": 30,
    "start_time": "2024-07-25T23:09:40.615Z"
   },
   {
    "duration": 26,
    "start_time": "2024-07-25T23:10:25.920Z"
   },
   {
    "duration": 674,
    "start_time": "2024-07-25T23:10:36.433Z"
   },
   {
    "duration": 4,
    "start_time": "2024-07-25T23:10:37.110Z"
   },
   {
    "duration": 1583,
    "start_time": "2024-07-25T23:10:37.118Z"
   },
   {
    "duration": 28,
    "start_time": "2024-07-25T23:10:38.704Z"
   },
   {
    "duration": 53,
    "start_time": "2024-07-25T23:10:38.739Z"
   },
   {
    "duration": 18,
    "start_time": "2024-07-25T23:10:38.795Z"
   },
   {
    "duration": 22,
    "start_time": "2024-07-25T23:10:38.816Z"
   },
   {
    "duration": 86,
    "start_time": "2024-07-25T23:10:38.841Z"
   },
   {
    "duration": 364,
    "start_time": "2024-07-25T23:10:38.929Z"
   },
   {
    "duration": 11,
    "start_time": "2024-07-25T23:10:39.295Z"
   },
   {
    "duration": 195,
    "start_time": "2024-07-25T23:10:39.309Z"
   },
   {
    "duration": 174,
    "start_time": "2024-07-25T23:10:39.507Z"
   },
   {
    "duration": 132,
    "start_time": "2024-07-25T23:10:39.683Z"
   },
   {
    "duration": 23,
    "start_time": "2024-07-25T23:10:39.823Z"
   },
   {
    "duration": 7,
    "start_time": "2024-07-25T23:10:39.849Z"
   },
   {
    "duration": 58,
    "start_time": "2024-07-25T23:10:39.858Z"
   },
   {
    "duration": 15,
    "start_time": "2024-07-25T23:10:39.919Z"
   },
   {
    "duration": 6,
    "start_time": "2024-07-25T23:10:39.937Z"
   },
   {
    "duration": 46,
    "start_time": "2024-07-25T23:10:39.946Z"
   },
   {
    "duration": 9,
    "start_time": "2024-07-25T23:10:39.995Z"
   },
   {
    "duration": 7,
    "start_time": "2024-07-25T23:10:40.007Z"
   },
   {
    "duration": 1398,
    "start_time": "2024-07-25T23:10:40.018Z"
   },
   {
    "duration": 344,
    "start_time": "2024-07-25T23:10:41.419Z"
   },
   {
    "duration": 31,
    "start_time": "2024-07-25T23:10:41.766Z"
   },
   {
    "duration": 14,
    "start_time": "2024-07-25T23:10:41.800Z"
   },
   {
    "duration": 8,
    "start_time": "2024-07-25T23:10:41.818Z"
   },
   {
    "duration": 59,
    "start_time": "2024-07-25T23:10:41.830Z"
   },
   {
    "duration": 13,
    "start_time": "2024-07-25T23:10:41.892Z"
   },
   {
    "duration": 16,
    "start_time": "2024-07-25T23:10:41.909Z"
   },
   {
    "duration": 13,
    "start_time": "2024-07-25T23:10:41.927Z"
   },
   {
    "duration": 56,
    "start_time": "2024-07-25T23:10:41.943Z"
   },
   {
    "duration": 52,
    "start_time": "2024-07-25T23:10:42.002Z"
   },
   {
    "duration": 50,
    "start_time": "2024-07-25T23:10:42.057Z"
   },
   {
    "duration": 56,
    "start_time": "2024-07-25T23:10:42.110Z"
   },
   {
    "duration": 42,
    "start_time": "2024-07-25T23:10:42.192Z"
   },
   {
    "duration": 24,
    "start_time": "2024-07-25T23:10:42.238Z"
   },
   {
    "duration": 22,
    "start_time": "2024-07-25T23:10:42.291Z"
   },
   {
    "duration": 403,
    "start_time": "2024-07-25T23:10:42.316Z"
   },
   {
    "duration": 250,
    "start_time": "2024-07-25T23:10:42.723Z"
   },
   {
    "duration": 271,
    "start_time": "2024-07-25T23:10:42.976Z"
   },
   {
    "duration": 449,
    "start_time": "2024-07-25T23:10:43.256Z"
   },
   {
    "duration": 392,
    "start_time": "2024-07-25T23:10:43.708Z"
   },
   {
    "duration": 2268,
    "start_time": "2024-07-25T23:10:44.103Z"
   },
   {
    "duration": 793,
    "start_time": "2024-07-25T23:10:46.374Z"
   },
   {
    "duration": 1552,
    "start_time": "2024-07-25T23:10:47.170Z"
   },
   {
    "duration": 1946,
    "start_time": "2024-07-25T23:10:48.725Z"
   },
   {
    "duration": 1952,
    "start_time": "2024-07-25T23:10:50.674Z"
   },
   {
    "duration": 1549,
    "start_time": "2024-07-25T23:10:52.629Z"
   },
   {
    "duration": 336,
    "start_time": "2024-07-25T23:12:31.508Z"
   },
   {
    "duration": 340,
    "start_time": "2024-07-25T23:12:36.884Z"
   },
   {
    "duration": 233,
    "start_time": "2024-07-25T23:12:54.940Z"
   },
   {
    "duration": 354,
    "start_time": "2024-07-25T23:13:23.803Z"
   },
   {
    "duration": 226,
    "start_time": "2024-07-25T23:13:48.494Z"
   },
   {
    "duration": 222,
    "start_time": "2024-07-25T23:14:35.240Z"
   },
   {
    "duration": 344,
    "start_time": "2024-07-25T23:14:43.398Z"
   },
   {
    "duration": 294,
    "start_time": "2024-07-25T23:15:04.984Z"
   },
   {
    "duration": 399,
    "start_time": "2024-07-25T23:15:34.599Z"
   },
   {
    "duration": 295,
    "start_time": "2024-07-25T23:16:00.777Z"
   },
   {
    "duration": 451,
    "start_time": "2024-07-25T23:16:32.318Z"
   },
   {
    "duration": 466,
    "start_time": "2024-07-25T23:17:34.554Z"
   },
   {
    "duration": 425,
    "start_time": "2024-07-25T23:17:48.721Z"
   },
   {
    "duration": 467,
    "start_time": "2024-07-25T23:18:22.846Z"
   },
   {
    "duration": 441,
    "start_time": "2024-07-25T23:18:36.313Z"
   },
   {
    "duration": 442,
    "start_time": "2024-07-25T23:18:55.751Z"
   },
   {
    "duration": 321,
    "start_time": "2024-07-25T23:19:06.109Z"
   },
   {
    "duration": 288,
    "start_time": "2024-07-25T23:19:16.118Z"
   },
   {
    "duration": 302,
    "start_time": "2024-07-25T23:19:44.751Z"
   },
   {
    "duration": 278,
    "start_time": "2024-07-25T23:19:58.914Z"
   },
   {
    "duration": 292,
    "start_time": "2024-07-25T23:20:03.262Z"
   },
   {
    "duration": 287,
    "start_time": "2024-07-25T23:20:09.074Z"
   },
   {
    "duration": 286,
    "start_time": "2024-07-25T23:20:42.222Z"
   },
   {
    "duration": 276,
    "start_time": "2024-07-25T23:21:04.031Z"
   },
   {
    "duration": 284,
    "start_time": "2024-07-25T23:21:13.216Z"
   },
   {
    "duration": 288,
    "start_time": "2024-07-25T23:21:18.481Z"
   },
   {
    "duration": 296,
    "start_time": "2024-07-25T23:21:31.577Z"
   },
   {
    "duration": 278,
    "start_time": "2024-07-25T23:21:36.364Z"
   },
   {
    "duration": 298,
    "start_time": "2024-07-25T23:21:52.455Z"
   },
   {
    "duration": 298,
    "start_time": "2024-07-25T23:22:18.998Z"
   },
   {
    "duration": 293,
    "start_time": "2024-07-25T23:22:38.936Z"
   },
   {
    "duration": 2043,
    "start_time": "2024-07-25T23:22:53.129Z"
   },
   {
    "duration": 2201,
    "start_time": "2024-07-25T23:23:25.520Z"
   },
   {
    "duration": 2176,
    "start_time": "2024-07-25T23:23:42.711Z"
   },
   {
    "duration": 760,
    "start_time": "2024-07-25T23:24:04.570Z"
   },
   {
    "duration": 1449,
    "start_time": "2024-07-25T23:24:14.263Z"
   },
   {
    "duration": 803,
    "start_time": "2024-07-25T23:24:34.537Z"
   },
   {
    "duration": 2074,
    "start_time": "2024-07-25T23:24:47.451Z"
   },
   {
    "duration": 1452,
    "start_time": "2024-07-25T23:25:50.149Z"
   },
   {
    "duration": 1576,
    "start_time": "2024-07-25T23:27:02.129Z"
   },
   {
    "duration": 1679,
    "start_time": "2024-07-25T23:28:43.742Z"
   },
   {
    "duration": 1549,
    "start_time": "2024-07-25T23:28:47.742Z"
   },
   {
    "duration": 1500,
    "start_time": "2024-07-25T23:29:07.949Z"
   },
   {
    "duration": 1588,
    "start_time": "2024-07-25T23:29:51.014Z"
   },
   {
    "duration": 1455,
    "start_time": "2024-07-25T23:30:08.123Z"
   },
   {
    "duration": 325,
    "start_time": "2024-07-26T15:44:24.303Z"
   },
   {
    "duration": 4307,
    "start_time": "2024-07-26T15:44:29.810Z"
   },
   {
    "duration": 7,
    "start_time": "2024-07-26T15:44:34.120Z"
   },
   {
    "duration": 1654,
    "start_time": "2024-07-26T15:44:34.130Z"
   },
   {
    "duration": 44,
    "start_time": "2024-07-26T15:44:35.789Z"
   },
   {
    "duration": 23,
    "start_time": "2024-07-26T15:44:35.837Z"
   },
   {
    "duration": 21,
    "start_time": "2024-07-26T15:44:35.862Z"
   },
   {
    "duration": 55,
    "start_time": "2024-07-26T15:44:35.886Z"
   },
   {
    "duration": 45,
    "start_time": "2024-07-26T15:44:35.944Z"
   },
   {
    "duration": 352,
    "start_time": "2024-07-26T15:44:35.992Z"
   },
   {
    "duration": 10,
    "start_time": "2024-07-26T15:44:36.350Z"
   },
   {
    "duration": 191,
    "start_time": "2024-07-26T15:44:36.363Z"
   },
   {
    "duration": 194,
    "start_time": "2024-07-26T15:44:36.557Z"
   },
   {
    "duration": 140,
    "start_time": "2024-07-26T15:44:36.754Z"
   },
   {
    "duration": 34,
    "start_time": "2024-07-26T15:44:36.897Z"
   },
   {
    "duration": 5,
    "start_time": "2024-07-26T15:44:36.934Z"
   },
   {
    "duration": 34,
    "start_time": "2024-07-26T15:44:36.942Z"
   },
   {
    "duration": 47,
    "start_time": "2024-07-26T15:44:36.979Z"
   },
   {
    "duration": 6,
    "start_time": "2024-07-26T15:44:37.029Z"
   },
   {
    "duration": 5,
    "start_time": "2024-07-26T15:44:37.038Z"
   },
   {
    "duration": 5,
    "start_time": "2024-07-26T15:44:37.047Z"
   },
   {
    "duration": 5,
    "start_time": "2024-07-26T15:44:37.056Z"
   },
   {
    "duration": 1436,
    "start_time": "2024-07-26T15:44:37.064Z"
   },
   {
    "duration": 344,
    "start_time": "2024-07-26T15:44:38.503Z"
   },
   {
    "duration": 17,
    "start_time": "2024-07-26T15:44:38.850Z"
   },
   {
    "duration": 12,
    "start_time": "2024-07-26T15:44:38.871Z"
   },
   {
    "duration": 41,
    "start_time": "2024-07-26T15:44:38.885Z"
   },
   {
    "duration": 13,
    "start_time": "2024-07-26T15:44:38.929Z"
   },
   {
    "duration": 11,
    "start_time": "2024-07-26T15:44:38.950Z"
   },
   {
    "duration": 61,
    "start_time": "2024-07-26T15:44:38.965Z"
   },
   {
    "duration": 12,
    "start_time": "2024-07-26T15:44:39.028Z"
   },
   {
    "duration": 12,
    "start_time": "2024-07-26T15:44:39.043Z"
   },
   {
    "duration": 86,
    "start_time": "2024-07-26T15:44:39.057Z"
   },
   {
    "duration": 22,
    "start_time": "2024-07-26T15:44:39.146Z"
   },
   {
    "duration": 83,
    "start_time": "2024-07-26T15:44:39.171Z"
   },
   {
    "duration": 39,
    "start_time": "2024-07-26T15:44:39.257Z"
   },
   {
    "duration": 42,
    "start_time": "2024-07-26T15:44:39.299Z"
   },
   {
    "duration": 27,
    "start_time": "2024-07-26T15:44:39.344Z"
   },
   {
    "duration": 397,
    "start_time": "2024-07-26T15:44:39.375Z"
   },
   {
    "duration": 256,
    "start_time": "2024-07-26T15:44:39.775Z"
   },
   {
    "duration": 357,
    "start_time": "2024-07-26T15:44:40.034Z"
   },
   {
    "duration": 458,
    "start_time": "2024-07-26T15:44:40.394Z"
   },
   {
    "duration": 315,
    "start_time": "2024-07-26T15:44:40.857Z"
   },
   {
    "duration": 2160,
    "start_time": "2024-07-26T15:44:41.175Z"
   },
   {
    "duration": 763,
    "start_time": "2024-07-26T15:44:43.338Z"
   },
   {
    "duration": 1544,
    "start_time": "2024-07-26T15:44:44.106Z"
   },
   {
    "duration": 1611,
    "start_time": "2024-07-26T15:44:45.654Z"
   },
   {
    "duration": 1595,
    "start_time": "2024-07-26T15:44:47.268Z"
   },
   {
    "duration": 1514,
    "start_time": "2024-07-26T15:44:48.866Z"
   },
   {
    "duration": 678,
    "start_time": "2024-07-26T15:51:15.582Z"
   },
   {
    "duration": 4,
    "start_time": "2024-07-26T15:58:45.071Z"
   },
   {
    "duration": 698,
    "start_time": "2024-07-26T16:00:59.336Z"
   },
   {
    "duration": 4,
    "start_time": "2024-07-26T16:01:00.037Z"
   },
   {
    "duration": 1595,
    "start_time": "2024-07-26T16:01:00.044Z"
   },
   {
    "duration": 28,
    "start_time": "2024-07-26T16:01:01.644Z"
   },
   {
    "duration": 51,
    "start_time": "2024-07-26T16:01:01.675Z"
   },
   {
    "duration": 19,
    "start_time": "2024-07-26T16:01:01.729Z"
   },
   {
    "duration": 19,
    "start_time": "2024-07-26T16:01:01.751Z"
   },
   {
    "duration": 86,
    "start_time": "2024-07-26T16:01:01.773Z"
   },
   {
    "duration": 344,
    "start_time": "2024-07-26T16:01:01.862Z"
   },
   {
    "duration": 20,
    "start_time": "2024-07-26T16:01:02.212Z"
   },
   {
    "duration": 191,
    "start_time": "2024-07-26T16:01:02.235Z"
   },
   {
    "duration": 179,
    "start_time": "2024-07-26T16:01:02.429Z"
   },
   {
    "duration": 134,
    "start_time": "2024-07-26T16:01:02.611Z"
   },
   {
    "duration": 22,
    "start_time": "2024-07-26T16:01:02.748Z"
   },
   {
    "duration": 5,
    "start_time": "2024-07-26T16:01:02.773Z"
   },
   {
    "duration": 63,
    "start_time": "2024-07-26T16:01:02.781Z"
   },
   {
    "duration": 16,
    "start_time": "2024-07-26T16:01:02.847Z"
   },
   {
    "duration": 6,
    "start_time": "2024-07-26T16:01:02.866Z"
   },
   {
    "duration": 6,
    "start_time": "2024-07-26T16:01:02.875Z"
   },
   {
    "duration": 6,
    "start_time": "2024-07-26T16:01:02.927Z"
   },
   {
    "duration": 5,
    "start_time": "2024-07-26T16:01:02.937Z"
   },
   {
    "duration": 1381,
    "start_time": "2024-07-26T16:01:02.945Z"
   },
   {
    "duration": 350,
    "start_time": "2024-07-26T16:01:04.329Z"
   },
   {
    "duration": 19,
    "start_time": "2024-07-26T16:01:04.682Z"
   },
   {
    "duration": 29,
    "start_time": "2024-07-26T16:01:04.704Z"
   },
   {
    "duration": 9,
    "start_time": "2024-07-26T16:01:04.738Z"
   },
   {
    "duration": 14,
    "start_time": "2024-07-26T16:01:04.750Z"
   },
   {
    "duration": 13,
    "start_time": "2024-07-26T16:01:04.775Z"
   },
   {
    "duration": 17,
    "start_time": "2024-07-26T16:01:04.827Z"
   },
   {
    "duration": 12,
    "start_time": "2024-07-26T16:01:04.847Z"
   },
   {
    "duration": 12,
    "start_time": "2024-07-26T16:01:04.862Z"
   },
   {
    "duration": 93,
    "start_time": "2024-07-26T16:01:04.877Z"
   },
   {
    "duration": 23,
    "start_time": "2024-07-26T16:01:04.973Z"
   },
   {
    "duration": 80,
    "start_time": "2024-07-26T16:01:04.998Z"
   },
   {
    "duration": 62,
    "start_time": "2024-07-26T16:01:05.081Z"
   },
   {
    "duration": 24,
    "start_time": "2024-07-26T16:01:05.146Z"
   },
   {
    "duration": 23,
    "start_time": "2024-07-26T16:01:05.173Z"
   },
   {
    "duration": 389,
    "start_time": "2024-07-26T16:01:05.226Z"
   },
   {
    "duration": 234,
    "start_time": "2024-07-26T16:01:05.618Z"
   },
   {
    "duration": 314,
    "start_time": "2024-07-26T16:01:05.855Z"
   },
   {
    "duration": 457,
    "start_time": "2024-07-26T16:01:06.172Z"
   },
   {
    "duration": 313,
    "start_time": "2024-07-26T16:01:06.632Z"
   },
   {
    "duration": 2171,
    "start_time": "2024-07-26T16:01:06.948Z"
   },
   {
    "duration": 786,
    "start_time": "2024-07-26T16:01:09.122Z"
   },
   {
    "duration": 1545,
    "start_time": "2024-07-26T16:01:09.911Z"
   },
   {
    "duration": 1609,
    "start_time": "2024-07-26T16:01:11.460Z"
   },
   {
    "duration": 1572,
    "start_time": "2024-07-26T16:01:13.071Z"
   },
   {
    "duration": 1559,
    "start_time": "2024-07-26T16:01:14.646Z"
   },
   {
    "duration": 312,
    "start_time": "2024-07-28T02:11:14.429Z"
   },
   {
    "duration": 25,
    "start_time": "2024-07-28T02:11:52.593Z"
   },
   {
    "duration": 673,
    "start_time": "2024-07-28T02:12:33.778Z"
   },
   {
    "duration": 3,
    "start_time": "2024-07-28T02:12:34.455Z"
   },
   {
    "duration": 1720,
    "start_time": "2024-07-28T02:12:34.462Z"
   },
   {
    "duration": 31,
    "start_time": "2024-07-28T02:12:36.185Z"
   },
   {
    "duration": 31,
    "start_time": "2024-07-28T02:12:36.218Z"
   },
   {
    "duration": 19,
    "start_time": "2024-07-28T02:12:36.252Z"
   },
   {
    "duration": 63,
    "start_time": "2024-07-28T02:12:36.274Z"
   },
   {
    "duration": 48,
    "start_time": "2024-07-28T02:12:36.340Z"
   },
   {
    "duration": 352,
    "start_time": "2024-07-28T02:12:36.391Z"
   },
   {
    "duration": 10,
    "start_time": "2024-07-28T02:12:36.751Z"
   },
   {
    "duration": 198,
    "start_time": "2024-07-28T02:12:36.764Z"
   },
   {
    "duration": 160,
    "start_time": "2024-07-28T02:12:36.965Z"
   },
   {
    "duration": 124,
    "start_time": "2024-07-28T02:12:37.132Z"
   },
   {
    "duration": 21,
    "start_time": "2024-07-28T02:12:37.259Z"
   },
   {
    "duration": 5,
    "start_time": "2024-07-28T02:12:37.283Z"
   },
   {
    "duration": 61,
    "start_time": "2024-07-28T02:12:37.291Z"
   },
   {
    "duration": 15,
    "start_time": "2024-07-28T02:12:37.355Z"
   },
   {
    "duration": 6,
    "start_time": "2024-07-28T02:12:37.373Z"
   },
   {
    "duration": 6,
    "start_time": "2024-07-28T02:12:37.382Z"
   },
   {
    "duration": 6,
    "start_time": "2024-07-28T02:12:37.429Z"
   },
   {
    "duration": 6,
    "start_time": "2024-07-28T02:12:37.439Z"
   },
   {
    "duration": 1351,
    "start_time": "2024-07-28T02:12:37.448Z"
   },
   {
    "duration": 329,
    "start_time": "2024-07-28T02:12:38.802Z"
   },
   {
    "duration": 19,
    "start_time": "2024-07-28T02:12:39.134Z"
   },
   {
    "duration": 13,
    "start_time": "2024-07-28T02:12:39.156Z"
   },
   {
    "duration": 8,
    "start_time": "2024-07-28T02:12:39.172Z"
   },
   {
    "duration": 53,
    "start_time": "2024-07-28T02:12:39.183Z"
   },
   {
    "duration": 11,
    "start_time": "2024-07-28T02:12:39.244Z"
   },
   {
    "duration": 17,
    "start_time": "2024-07-28T02:12:39.258Z"
   },
   {
    "duration": 52,
    "start_time": "2024-07-28T02:12:39.278Z"
   },
   {
    "duration": 12,
    "start_time": "2024-07-28T02:12:39.334Z"
   },
   {
    "duration": 51,
    "start_time": "2024-07-28T02:12:39.349Z"
   },
   {
    "duration": 22,
    "start_time": "2024-07-28T02:12:39.431Z"
   },
   {
    "duration": 78,
    "start_time": "2024-07-28T02:12:39.456Z"
   },
   {
    "duration": 40,
    "start_time": "2024-07-28T02:12:39.538Z"
   },
   {
    "duration": 48,
    "start_time": "2024-07-28T02:12:39.585Z"
   },
   {
    "duration": 24,
    "start_time": "2024-07-28T02:12:39.637Z"
   },
   {
    "duration": 391,
    "start_time": "2024-07-28T02:12:39.664Z"
   },
   {
    "duration": 248,
    "start_time": "2024-07-28T02:12:40.058Z"
   },
   {
    "duration": 320,
    "start_time": "2024-07-28T02:12:40.310Z"
   },
   {
    "duration": 457,
    "start_time": "2024-07-28T02:12:40.634Z"
   },
   {
    "duration": 301,
    "start_time": "2024-07-28T02:12:41.094Z"
   },
   {
    "duration": 2194,
    "start_time": "2024-07-28T02:12:41.397Z"
   },
   {
    "duration": 745,
    "start_time": "2024-07-28T02:12:43.595Z"
   },
   {
    "duration": 1540,
    "start_time": "2024-07-28T02:12:44.343Z"
   },
   {
    "duration": 1583,
    "start_time": "2024-07-28T02:12:45.886Z"
   },
   {
    "duration": 1517,
    "start_time": "2024-07-28T02:12:47.472Z"
   },
   {
    "duration": 1573,
    "start_time": "2024-07-28T02:12:48.992Z"
   },
   {
    "duration": 634,
    "start_time": "2024-07-28T02:13:33.444Z"
   },
   {
    "duration": 302,
    "start_time": "2024-07-28T02:13:52.575Z"
   },
   {
    "duration": 302,
    "start_time": "2024-07-28T02:14:33.122Z"
   },
   {
    "duration": 728,
    "start_time": "2024-07-28T02:14:53.048Z"
   },
   {
    "duration": 723,
    "start_time": "2024-07-28T02:15:23.258Z"
   },
   {
    "duration": 294,
    "start_time": "2024-07-28T02:16:18.639Z"
   },
   {
    "duration": 301,
    "start_time": "2024-07-28T02:16:45.394Z"
   },
   {
    "duration": 225,
    "start_time": "2024-07-28T02:17:19.978Z"
   },
   {
    "duration": 4258,
    "start_time": "2024-07-29T17:26:27.341Z"
   },
   {
    "duration": 4,
    "start_time": "2024-07-29T17:26:31.603Z"
   },
   {
    "duration": 1697,
    "start_time": "2024-07-29T17:26:31.610Z"
   },
   {
    "duration": 36,
    "start_time": "2024-07-29T17:26:33.312Z"
   },
   {
    "duration": 22,
    "start_time": "2024-07-29T17:26:33.351Z"
   },
   {
    "duration": 21,
    "start_time": "2024-07-29T17:26:33.377Z"
   },
   {
    "duration": 20,
    "start_time": "2024-07-29T17:26:33.432Z"
   },
   {
    "duration": 78,
    "start_time": "2024-07-29T17:26:33.455Z"
   },
   {
    "duration": 322,
    "start_time": "2024-07-29T17:26:33.536Z"
   },
   {
    "duration": 11,
    "start_time": "2024-07-29T17:26:33.863Z"
   },
   {
    "duration": 192,
    "start_time": "2024-07-29T17:26:33.877Z"
   },
   {
    "duration": 180,
    "start_time": "2024-07-29T17:26:34.072Z"
   },
   {
    "duration": 139,
    "start_time": "2024-07-29T17:26:34.254Z"
   },
   {
    "duration": 22,
    "start_time": "2024-07-29T17:26:34.395Z"
   },
   {
    "duration": 5,
    "start_time": "2024-07-29T17:26:34.432Z"
   },
   {
    "duration": 35,
    "start_time": "2024-07-29T17:26:34.440Z"
   },
   {
    "duration": 22,
    "start_time": "2024-07-29T17:26:34.478Z"
   },
   {
    "duration": 30,
    "start_time": "2024-07-29T17:26:34.505Z"
   },
   {
    "duration": 5,
    "start_time": "2024-07-29T17:26:34.539Z"
   },
   {
    "duration": 7,
    "start_time": "2024-07-29T17:26:34.547Z"
   },
   {
    "duration": 5,
    "start_time": "2024-07-29T17:26:34.557Z"
   },
   {
    "duration": 1397,
    "start_time": "2024-07-29T17:26:34.566Z"
   },
   {
    "duration": 336,
    "start_time": "2024-07-29T17:26:35.966Z"
   },
   {
    "duration": 32,
    "start_time": "2024-07-29T17:26:36.304Z"
   },
   {
    "duration": 16,
    "start_time": "2024-07-29T17:26:36.339Z"
   },
   {
    "duration": 10,
    "start_time": "2024-07-29T17:26:36.359Z"
   },
   {
    "duration": 17,
    "start_time": "2024-07-29T17:26:36.371Z"
   },
   {
    "duration": 12,
    "start_time": "2024-07-29T17:26:36.434Z"
   },
   {
    "duration": 19,
    "start_time": "2024-07-29T17:26:36.450Z"
   },
   {
    "duration": 13,
    "start_time": "2024-07-29T17:26:36.472Z"
   },
   {
    "duration": 50,
    "start_time": "2024-07-29T17:26:36.489Z"
   },
   {
    "duration": 52,
    "start_time": "2024-07-29T17:26:36.542Z"
   },
   {
    "duration": 51,
    "start_time": "2024-07-29T17:26:36.598Z"
   },
   {
    "duration": 54,
    "start_time": "2024-07-29T17:26:36.652Z"
   },
   {
    "duration": 38,
    "start_time": "2024-07-29T17:26:36.732Z"
   },
   {
    "duration": 25,
    "start_time": "2024-07-29T17:26:36.773Z"
   },
   {
    "duration": 50,
    "start_time": "2024-07-29T17:26:36.801Z"
   },
   {
    "duration": 443,
    "start_time": "2024-07-29T17:26:36.854Z"
   },
   {
    "duration": 236,
    "start_time": "2024-07-29T17:26:37.301Z"
   },
   {
    "duration": 312,
    "start_time": "2024-07-29T17:26:37.543Z"
   },
   {
    "duration": 445,
    "start_time": "2024-07-29T17:26:37.858Z"
   },
   {
    "duration": 319,
    "start_time": "2024-07-29T17:26:38.306Z"
   },
   {
    "duration": 2158,
    "start_time": "2024-07-29T17:26:38.627Z"
   },
   {
    "duration": 773,
    "start_time": "2024-07-29T17:26:40.789Z"
   },
   {
    "duration": 1557,
    "start_time": "2024-07-29T17:26:41.565Z"
   },
   {
    "duration": 1605,
    "start_time": "2024-07-29T17:26:43.125Z"
   },
   {
    "duration": 1582,
    "start_time": "2024-07-29T17:26:44.733Z"
   },
   {
    "duration": 1520,
    "start_time": "2024-07-29T17:26:46.317Z"
   },
   {
    "duration": 4298,
    "start_time": "2024-07-30T13:54:09.474Z"
   },
   {
    "duration": 5,
    "start_time": "2024-07-30T13:54:13.776Z"
   },
   {
    "duration": 1678,
    "start_time": "2024-07-30T13:54:13.785Z"
   },
   {
    "duration": 29,
    "start_time": "2024-07-30T13:54:15.466Z"
   },
   {
    "duration": 47,
    "start_time": "2024-07-30T13:54:15.498Z"
   },
   {
    "duration": 20,
    "start_time": "2024-07-30T13:54:15.547Z"
   },
   {
    "duration": 22,
    "start_time": "2024-07-30T13:54:15.570Z"
   },
   {
    "duration": 84,
    "start_time": "2024-07-30T13:54:15.595Z"
   },
   {
    "duration": 336,
    "start_time": "2024-07-30T13:54:15.682Z"
   },
   {
    "duration": 11,
    "start_time": "2024-07-30T13:54:16.033Z"
   },
   {
    "duration": 196,
    "start_time": "2024-07-30T13:54:16.046Z"
   },
   {
    "duration": 167,
    "start_time": "2024-07-30T13:54:16.245Z"
   },
   {
    "duration": 126,
    "start_time": "2024-07-30T13:54:16.416Z"
   },
   {
    "duration": 22,
    "start_time": "2024-07-30T13:54:16.545Z"
   },
   {
    "duration": 6,
    "start_time": "2024-07-30T13:54:16.569Z"
   },
   {
    "duration": 67,
    "start_time": "2024-07-30T13:54:16.578Z"
   },
   {
    "duration": 19,
    "start_time": "2024-07-30T13:54:16.648Z"
   },
   {
    "duration": 7,
    "start_time": "2024-07-30T13:54:16.671Z"
   },
   {
    "duration": 6,
    "start_time": "2024-07-30T13:54:16.682Z"
   },
   {
    "duration": 7,
    "start_time": "2024-07-30T13:54:16.732Z"
   },
   {
    "duration": 5,
    "start_time": "2024-07-30T13:54:16.742Z"
   },
   {
    "duration": 1394,
    "start_time": "2024-07-30T13:54:16.751Z"
   },
   {
    "duration": 338,
    "start_time": "2024-07-30T13:54:18.150Z"
   },
   {
    "duration": 18,
    "start_time": "2024-07-30T13:54:18.491Z"
   },
   {
    "duration": 11,
    "start_time": "2024-07-30T13:54:18.533Z"
   },
   {
    "duration": 8,
    "start_time": "2024-07-30T13:54:18.547Z"
   },
   {
    "duration": 13,
    "start_time": "2024-07-30T13:54:18.557Z"
   },
   {
    "duration": 53,
    "start_time": "2024-07-30T13:54:18.579Z"
   },
   {
    "duration": 16,
    "start_time": "2024-07-30T13:54:18.636Z"
   },
   {
    "duration": 13,
    "start_time": "2024-07-30T13:54:18.655Z"
   },
   {
    "duration": 12,
    "start_time": "2024-07-30T13:54:18.671Z"
   },
   {
    "duration": 93,
    "start_time": "2024-07-30T13:54:18.686Z"
   },
   {
    "duration": 23,
    "start_time": "2024-07-30T13:54:18.782Z"
   },
   {
    "duration": 57,
    "start_time": "2024-07-30T13:54:18.832Z"
   },
   {
    "duration": 63,
    "start_time": "2024-07-30T13:54:18.892Z"
   },
   {
    "duration": 24,
    "start_time": "2024-07-30T13:54:18.958Z"
   },
   {
    "duration": 47,
    "start_time": "2024-07-30T13:54:18.986Z"
   },
   {
    "duration": 379,
    "start_time": "2024-07-30T13:54:19.036Z"
   },
   {
    "duration": 234,
    "start_time": "2024-07-30T13:54:19.418Z"
   },
   {
    "duration": 312,
    "start_time": "2024-07-30T13:54:19.655Z"
   },
   {
    "duration": 448,
    "start_time": "2024-07-30T13:54:19.970Z"
   },
   {
    "duration": 367,
    "start_time": "2024-07-30T13:54:20.421Z"
   },
   {
    "duration": 2163,
    "start_time": "2024-07-30T13:54:20.791Z"
   },
   {
    "duration": 764,
    "start_time": "2024-07-30T13:54:22.958Z"
   },
   {
    "duration": 1526,
    "start_time": "2024-07-30T13:54:23.732Z"
   },
   {
    "duration": 1604,
    "start_time": "2024-07-30T13:54:25.261Z"
   },
   {
    "duration": 1568,
    "start_time": "2024-07-30T13:54:26.868Z"
   },
   {
    "duration": 1509,
    "start_time": "2024-07-30T13:54:28.439Z"
   },
   {
    "duration": 707,
    "start_time": "2024-07-30T16:00:19.943Z"
   },
   {
    "duration": 4,
    "start_time": "2024-07-30T16:00:20.654Z"
   },
   {
    "duration": 1603,
    "start_time": "2024-07-30T16:00:20.662Z"
   },
   {
    "duration": 28,
    "start_time": "2024-07-30T16:00:22.268Z"
   },
   {
    "duration": 45,
    "start_time": "2024-07-30T16:00:22.302Z"
   },
   {
    "duration": 20,
    "start_time": "2024-07-30T16:00:22.350Z"
   },
   {
    "duration": 21,
    "start_time": "2024-07-30T16:00:22.372Z"
   },
   {
    "duration": 48,
    "start_time": "2024-07-30T16:00:22.433Z"
   },
   {
    "duration": 337,
    "start_time": "2024-07-30T16:00:22.484Z"
   },
   {
    "duration": 16,
    "start_time": "2024-07-30T16:00:22.824Z"
   },
   {
    "duration": 194,
    "start_time": "2024-07-30T16:00:22.843Z"
   },
   {
    "duration": 172,
    "start_time": "2024-07-30T16:00:23.040Z"
   },
   {
    "duration": 137,
    "start_time": "2024-07-30T16:00:23.215Z"
   },
   {
    "duration": 27,
    "start_time": "2024-07-30T16:00:23.360Z"
   },
   {
    "duration": 11,
    "start_time": "2024-07-30T16:00:23.392Z"
   },
   {
    "duration": 54,
    "start_time": "2024-07-30T16:00:23.409Z"
   },
   {
    "duration": 16,
    "start_time": "2024-07-30T16:00:23.468Z"
   },
   {
    "duration": 7,
    "start_time": "2024-07-30T16:00:23.487Z"
   },
   {
    "duration": 39,
    "start_time": "2024-07-30T16:00:23.497Z"
   },
   {
    "duration": 7,
    "start_time": "2024-07-30T16:00:23.539Z"
   },
   {
    "duration": 5,
    "start_time": "2024-07-30T16:00:23.549Z"
   },
   {
    "duration": 1382,
    "start_time": "2024-07-30T16:00:23.557Z"
   },
   {
    "duration": 341,
    "start_time": "2024-07-30T16:00:24.942Z"
   },
   {
    "duration": 20,
    "start_time": "2024-07-30T16:00:25.285Z"
   },
   {
    "duration": 32,
    "start_time": "2024-07-30T16:00:25.308Z"
   },
   {
    "duration": 8,
    "start_time": "2024-07-30T16:00:25.342Z"
   },
   {
    "duration": 12,
    "start_time": "2024-07-30T16:00:25.353Z"
   },
   {
    "duration": 10,
    "start_time": "2024-07-30T16:00:25.369Z"
   },
   {
    "duration": 64,
    "start_time": "2024-07-30T16:00:25.382Z"
   },
   {
    "duration": 13,
    "start_time": "2024-07-30T16:00:25.448Z"
   },
   {
    "duration": 11,
    "start_time": "2024-07-30T16:00:25.463Z"
   },
   {
    "duration": 94,
    "start_time": "2024-07-30T16:00:25.477Z"
   },
   {
    "duration": 22,
    "start_time": "2024-07-30T16:00:25.574Z"
   },
   {
    "duration": 80,
    "start_time": "2024-07-30T16:00:25.599Z"
   },
   {
    "duration": 54,
    "start_time": "2024-07-30T16:00:25.682Z"
   },
   {
    "duration": 23,
    "start_time": "2024-07-30T16:00:25.739Z"
   },
   {
    "duration": 22,
    "start_time": "2024-07-30T16:00:25.765Z"
   },
   {
    "duration": 409,
    "start_time": "2024-07-30T16:00:25.791Z"
   },
   {
    "duration": 232,
    "start_time": "2024-07-30T16:00:26.203Z"
   },
   {
    "duration": 315,
    "start_time": "2024-07-30T16:00:26.438Z"
   },
   {
    "duration": 472,
    "start_time": "2024-07-30T16:00:26.761Z"
   },
   {
    "duration": 309,
    "start_time": "2024-07-30T16:00:27.235Z"
   },
   {
    "duration": 2150,
    "start_time": "2024-07-30T16:00:27.547Z"
   },
   {
    "duration": 755,
    "start_time": "2024-07-30T16:00:29.700Z"
   },
   {
    "duration": 1566,
    "start_time": "2024-07-30T16:00:30.457Z"
   },
   {
    "duration": 1603,
    "start_time": "2024-07-30T16:00:32.033Z"
   },
   {
    "duration": 1575,
    "start_time": "2024-07-30T16:00:33.639Z"
   },
   {
    "duration": 1548,
    "start_time": "2024-07-30T16:00:35.217Z"
   },
   {
    "duration": 677,
    "start_time": "2024-07-30T20:24:57.675Z"
   },
   {
    "duration": 4,
    "start_time": "2024-07-30T20:24:58.356Z"
   },
   {
    "duration": 1751,
    "start_time": "2024-07-30T20:24:58.363Z"
   },
   {
    "duration": 33,
    "start_time": "2024-07-30T20:25:00.118Z"
   },
   {
    "duration": 52,
    "start_time": "2024-07-30T20:25:00.154Z"
   },
   {
    "duration": 18,
    "start_time": "2024-07-30T20:25:00.210Z"
   },
   {
    "duration": 21,
    "start_time": "2024-07-30T20:25:00.230Z"
   },
   {
    "duration": 93,
    "start_time": "2024-07-30T20:25:00.253Z"
   },
   {
    "duration": 354,
    "start_time": "2024-07-30T20:25:00.348Z"
   },
   {
    "duration": 11,
    "start_time": "2024-07-30T20:25:00.708Z"
   },
   {
    "duration": 187,
    "start_time": "2024-07-30T20:25:00.721Z"
   },
   {
    "duration": 164,
    "start_time": "2024-07-30T20:25:00.912Z"
   },
   {
    "duration": 137,
    "start_time": "2024-07-30T20:25:01.079Z"
   },
   {
    "duration": 23,
    "start_time": "2024-07-30T20:25:01.218Z"
   },
   {
    "duration": 8,
    "start_time": "2024-07-30T20:25:01.244Z"
   },
   {
    "duration": 63,
    "start_time": "2024-07-30T20:25:01.255Z"
   },
   {
    "duration": 20,
    "start_time": "2024-07-30T20:25:01.321Z"
   },
   {
    "duration": 6,
    "start_time": "2024-07-30T20:25:01.344Z"
   },
   {
    "duration": 5,
    "start_time": "2024-07-30T20:25:01.353Z"
   },
   {
    "duration": 6,
    "start_time": "2024-07-30T20:25:01.361Z"
   },
   {
    "duration": 5,
    "start_time": "2024-07-30T20:25:01.407Z"
   },
   {
    "duration": 1417,
    "start_time": "2024-07-30T20:25:01.415Z"
   },
   {
    "duration": 381,
    "start_time": "2024-07-30T20:25:02.834Z"
   },
   {
    "duration": 19,
    "start_time": "2024-07-30T20:25:03.218Z"
   },
   {
    "duration": 13,
    "start_time": "2024-07-30T20:25:03.240Z"
   },
   {
    "duration": 49,
    "start_time": "2024-07-30T20:25:03.257Z"
   },
   {
    "duration": 17,
    "start_time": "2024-07-30T20:25:03.310Z"
   },
   {
    "duration": 14,
    "start_time": "2024-07-30T20:25:03.338Z"
   },
   {
    "duration": 57,
    "start_time": "2024-07-30T20:25:03.357Z"
   },
   {
    "duration": 13,
    "start_time": "2024-07-30T20:25:03.417Z"
   },
   {
    "duration": 12,
    "start_time": "2024-07-30T20:25:03.433Z"
   },
   {
    "duration": 91,
    "start_time": "2024-07-30T20:25:03.449Z"
   },
   {
    "duration": 22,
    "start_time": "2024-07-30T20:25:03.543Z"
   },
   {
    "duration": 84,
    "start_time": "2024-07-30T20:25:03.567Z"
   },
   {
    "duration": 55,
    "start_time": "2024-07-30T20:25:03.654Z"
   },
   {
    "duration": 24,
    "start_time": "2024-07-30T20:25:03.712Z"
   },
   {
    "duration": 23,
    "start_time": "2024-07-30T20:25:03.739Z"
   },
   {
    "duration": 398,
    "start_time": "2024-07-30T20:25:03.764Z"
   },
   {
    "duration": 234,
    "start_time": "2024-07-30T20:25:04.165Z"
   },
   {
    "duration": 315,
    "start_time": "2024-07-30T20:25:04.403Z"
   },
   {
    "duration": 450,
    "start_time": "2024-07-30T20:25:04.721Z"
   },
   {
    "duration": 311,
    "start_time": "2024-07-30T20:25:05.174Z"
   },
   {
    "duration": 2195,
    "start_time": "2024-07-30T20:25:05.488Z"
   },
   {
    "duration": 784,
    "start_time": "2024-07-30T20:25:07.685Z"
   },
   {
    "duration": 1573,
    "start_time": "2024-07-30T20:25:08.473Z"
   },
   {
    "duration": 1628,
    "start_time": "2024-07-30T20:25:10.050Z"
   },
   {
    "duration": 1541,
    "start_time": "2024-07-30T20:25:11.681Z"
   },
   {
    "duration": 1592,
    "start_time": "2024-07-30T20:25:13.225Z"
   },
   {
    "duration": 747,
    "start_time": "2024-08-01T17:25:51.484Z"
   },
   {
    "duration": 4,
    "start_time": "2024-08-01T17:25:52.234Z"
   },
   {
    "duration": 1749,
    "start_time": "2024-08-01T17:25:52.242Z"
   },
   {
    "duration": 33,
    "start_time": "2024-08-01T17:25:53.996Z"
   },
   {
    "duration": 24,
    "start_time": "2024-08-01T17:25:54.032Z"
   },
   {
    "duration": 58,
    "start_time": "2024-08-01T17:25:54.059Z"
   },
   {
    "duration": 20,
    "start_time": "2024-08-01T17:25:54.120Z"
   },
   {
    "duration": 89,
    "start_time": "2024-08-01T17:25:54.144Z"
   },
   {
    "duration": 379,
    "start_time": "2024-08-01T17:25:54.236Z"
   },
   {
    "duration": 11,
    "start_time": "2024-08-01T17:25:54.620Z"
   },
   {
    "duration": 197,
    "start_time": "2024-08-01T17:25:54.634Z"
   },
   {
    "duration": 181,
    "start_time": "2024-08-01T17:25:54.834Z"
   },
   {
    "duration": 134,
    "start_time": "2024-08-01T17:25:55.020Z"
   },
   {
    "duration": 21,
    "start_time": "2024-08-01T17:25:55.157Z"
   },
   {
    "duration": 22,
    "start_time": "2024-08-01T17:25:55.181Z"
   },
   {
    "duration": 34,
    "start_time": "2024-08-01T17:25:55.206Z"
   },
   {
    "duration": 15,
    "start_time": "2024-08-01T17:25:55.243Z"
   },
   {
    "duration": 42,
    "start_time": "2024-08-01T17:25:55.262Z"
   },
   {
    "duration": 5,
    "start_time": "2024-08-01T17:25:55.307Z"
   },
   {
    "duration": 7,
    "start_time": "2024-08-01T17:25:55.316Z"
   },
   {
    "duration": 6,
    "start_time": "2024-08-01T17:25:55.326Z"
   },
   {
    "duration": 1579,
    "start_time": "2024-08-01T17:25:55.336Z"
   },
   {
    "duration": 385,
    "start_time": "2024-08-01T17:25:56.918Z"
   },
   {
    "duration": 18,
    "start_time": "2024-08-01T17:25:57.306Z"
   },
   {
    "duration": 12,
    "start_time": "2024-08-01T17:25:57.328Z"
   },
   {
    "duration": 8,
    "start_time": "2024-08-01T17:25:57.343Z"
   },
   {
    "duration": 13,
    "start_time": "2024-08-01T17:25:57.401Z"
   },
   {
    "duration": 12,
    "start_time": "2024-08-01T17:25:57.424Z"
   },
   {
    "duration": 19,
    "start_time": "2024-08-01T17:25:57.439Z"
   },
   {
    "duration": 46,
    "start_time": "2024-08-01T17:25:57.461Z"
   },
   {
    "duration": 11,
    "start_time": "2024-08-01T17:25:57.510Z"
   },
   {
    "duration": 88,
    "start_time": "2024-08-01T17:25:57.524Z"
   },
   {
    "duration": 23,
    "start_time": "2024-08-01T17:25:57.615Z"
   },
   {
    "duration": 87,
    "start_time": "2024-08-01T17:25:57.641Z"
   },
   {
    "duration": 47,
    "start_time": "2024-08-01T17:25:57.731Z"
   },
   {
    "duration": 43,
    "start_time": "2024-08-01T17:25:57.782Z"
   },
   {
    "duration": 25,
    "start_time": "2024-08-01T17:25:57.828Z"
   },
   {
    "duration": 430,
    "start_time": "2024-08-01T17:25:57.855Z"
   },
   {
    "duration": 246,
    "start_time": "2024-08-01T17:25:58.288Z"
   },
   {
    "duration": 322,
    "start_time": "2024-08-01T17:25:58.537Z"
   },
   {
    "duration": 483,
    "start_time": "2024-08-01T17:25:58.863Z"
   },
   {
    "duration": 330,
    "start_time": "2024-08-01T17:25:59.349Z"
   },
   {
    "duration": 2246,
    "start_time": "2024-08-01T17:25:59.682Z"
   },
   {
    "duration": 864,
    "start_time": "2024-08-01T17:26:01.932Z"
   },
   {
    "duration": 1649,
    "start_time": "2024-08-01T17:26:02.803Z"
   },
   {
    "duration": 1683,
    "start_time": "2024-08-01T17:26:04.455Z"
   },
   {
    "duration": 1881,
    "start_time": "2024-08-01T17:26:06.142Z"
   },
   {
    "duration": 1677,
    "start_time": "2024-08-01T17:26:08.026Z"
   },
   {
    "duration": 1495,
    "start_time": "2024-08-01T17:26:17.445Z"
   },
   {
    "duration": 819,
    "start_time": "2024-08-01T17:26:22.786Z"
   },
   {
    "duration": 2105,
    "start_time": "2024-08-01T17:26:28.042Z"
   },
   {
    "duration": 319,
    "start_time": "2024-08-01T17:26:33.903Z"
   },
   {
    "duration": 448,
    "start_time": "2024-08-01T17:26:37.635Z"
   },
   {
    "duration": 308,
    "start_time": "2024-08-01T17:26:53.607Z"
   },
   {
    "duration": 227,
    "start_time": "2024-08-01T17:27:01.115Z"
   },
   {
    "duration": 336,
    "start_time": "2024-08-01T17:27:07.342Z"
   },
   {
    "duration": 579,
    "start_time": "2024-08-01T17:27:56.275Z"
   },
   {
    "duration": 435,
    "start_time": "2024-08-01T17:30:07.078Z"
   },
   {
    "duration": 700,
    "start_time": "2024-08-01T17:31:14.445Z"
   },
   {
    "duration": 5,
    "start_time": "2024-08-01T17:31:15.148Z"
   },
   {
    "duration": 1634,
    "start_time": "2024-08-01T17:31:15.156Z"
   },
   {
    "duration": 42,
    "start_time": "2024-08-01T17:31:16.794Z"
   },
   {
    "duration": 27,
    "start_time": "2024-08-01T17:31:16.840Z"
   },
   {
    "duration": 21,
    "start_time": "2024-08-01T17:31:16.901Z"
   },
   {
    "duration": 21,
    "start_time": "2024-08-01T17:31:16.925Z"
   },
   {
    "duration": 90,
    "start_time": "2024-08-01T17:31:16.949Z"
   },
   {
    "duration": 391,
    "start_time": "2024-08-01T17:31:17.043Z"
   },
   {
    "duration": 12,
    "start_time": "2024-08-01T17:31:17.442Z"
   },
   {
    "duration": 227,
    "start_time": "2024-08-01T17:31:17.457Z"
   },
   {
    "duration": 207,
    "start_time": "2024-08-01T17:31:17.687Z"
   },
   {
    "duration": 161,
    "start_time": "2024-08-01T17:31:17.901Z"
   },
   {
    "duration": 22,
    "start_time": "2024-08-01T17:31:18.065Z"
   },
   {
    "duration": 5,
    "start_time": "2024-08-01T17:31:18.103Z"
   },
   {
    "duration": 35,
    "start_time": "2024-08-01T17:31:18.111Z"
   },
   {
    "duration": 54,
    "start_time": "2024-08-01T17:31:18.148Z"
   },
   {
    "duration": 9,
    "start_time": "2024-08-01T17:31:18.206Z"
   },
   {
    "duration": 7,
    "start_time": "2024-08-01T17:31:18.218Z"
   },
   {
    "duration": 15,
    "start_time": "2024-08-01T17:31:18.227Z"
   },
   {
    "duration": 6,
    "start_time": "2024-08-01T17:31:18.245Z"
   },
   {
    "duration": 1465,
    "start_time": "2024-08-01T17:31:18.254Z"
   },
   {
    "duration": 383,
    "start_time": "2024-08-01T17:31:19.722Z"
   },
   {
    "duration": 20,
    "start_time": "2024-08-01T17:31:20.109Z"
   },
   {
    "duration": 13,
    "start_time": "2024-08-01T17:31:20.132Z"
   },
   {
    "duration": 8,
    "start_time": "2024-08-01T17:31:20.149Z"
   },
   {
    "duration": 13,
    "start_time": "2024-08-01T17:31:20.201Z"
   },
   {
    "duration": 12,
    "start_time": "2024-08-01T17:31:20.225Z"
   },
   {
    "duration": 18,
    "start_time": "2024-08-01T17:31:20.241Z"
   },
   {
    "duration": 14,
    "start_time": "2024-08-01T17:31:20.303Z"
   },
   {
    "duration": 12,
    "start_time": "2024-08-01T17:31:20.320Z"
   },
   {
    "duration": 96,
    "start_time": "2024-08-01T17:31:20.335Z"
   },
   {
    "duration": 24,
    "start_time": "2024-08-01T17:31:20.433Z"
   },
   {
    "duration": 91,
    "start_time": "2024-08-01T17:31:20.461Z"
   },
   {
    "duration": 63,
    "start_time": "2024-08-01T17:31:20.555Z"
   },
   {
    "duration": 26,
    "start_time": "2024-08-01T17:31:20.621Z"
   },
   {
    "duration": 52,
    "start_time": "2024-08-01T17:31:20.650Z"
   },
   {
    "duration": 382,
    "start_time": "2024-08-01T17:31:20.706Z"
   },
   {
    "duration": 252,
    "start_time": "2024-08-01T17:31:21.091Z"
   },
   {
    "duration": 318,
    "start_time": "2024-08-01T17:31:21.346Z"
   },
   {
    "duration": 385,
    "start_time": "2024-08-01T17:31:21.667Z"
   },
   {
    "duration": 0,
    "start_time": "2024-08-01T17:31:22.056Z"
   },
   {
    "duration": 0,
    "start_time": "2024-08-01T17:31:22.058Z"
   },
   {
    "duration": 0,
    "start_time": "2024-08-01T17:31:22.061Z"
   },
   {
    "duration": 0,
    "start_time": "2024-08-01T17:31:22.063Z"
   },
   {
    "duration": 0,
    "start_time": "2024-08-01T17:31:22.065Z"
   },
   {
    "duration": 0,
    "start_time": "2024-08-01T17:31:22.067Z"
   },
   {
    "duration": 0,
    "start_time": "2024-08-01T17:31:22.069Z"
   },
   {
    "duration": 377,
    "start_time": "2024-08-01T17:31:55.564Z"
   },
   {
    "duration": 373,
    "start_time": "2024-08-01T17:32:30.711Z"
   },
   {
    "duration": 428,
    "start_time": "2024-08-01T17:35:46.389Z"
   },
   {
    "duration": 730,
    "start_time": "2024-08-01T17:35:54.629Z"
   },
   {
    "duration": 4,
    "start_time": "2024-08-01T17:35:55.363Z"
   },
   {
    "duration": 1848,
    "start_time": "2024-08-01T17:35:55.371Z"
   },
   {
    "duration": 31,
    "start_time": "2024-08-01T17:35:57.222Z"
   },
   {
    "duration": 54,
    "start_time": "2024-08-01T17:35:57.256Z"
   },
   {
    "duration": 20,
    "start_time": "2024-08-01T17:35:57.314Z"
   },
   {
    "duration": 21,
    "start_time": "2024-08-01T17:35:57.337Z"
   },
   {
    "duration": 49,
    "start_time": "2024-08-01T17:35:57.401Z"
   },
   {
    "duration": 399,
    "start_time": "2024-08-01T17:35:57.454Z"
   },
   {
    "duration": 11,
    "start_time": "2024-08-01T17:35:57.860Z"
   },
   {
    "duration": 240,
    "start_time": "2024-08-01T17:35:57.874Z"
   },
   {
    "duration": 209,
    "start_time": "2024-08-01T17:35:58.117Z"
   },
   {
    "duration": 144,
    "start_time": "2024-08-01T17:35:58.328Z"
   },
   {
    "duration": 38,
    "start_time": "2024-08-01T17:35:58.475Z"
   },
   {
    "duration": 7,
    "start_time": "2024-08-01T17:35:58.515Z"
   },
   {
    "duration": 36,
    "start_time": "2024-08-01T17:35:58.525Z"
   },
   {
    "duration": 47,
    "start_time": "2024-08-01T17:35:58.564Z"
   },
   {
    "duration": 6,
    "start_time": "2024-08-01T17:35:58.615Z"
   },
   {
    "duration": 6,
    "start_time": "2024-08-01T17:35:58.625Z"
   },
   {
    "duration": 6,
    "start_time": "2024-08-01T17:35:58.634Z"
   },
   {
    "duration": 5,
    "start_time": "2024-08-01T17:35:58.643Z"
   },
   {
    "duration": 1563,
    "start_time": "2024-08-01T17:35:58.651Z"
   },
   {
    "duration": 379,
    "start_time": "2024-08-01T17:36:00.217Z"
   },
   {
    "duration": 20,
    "start_time": "2024-08-01T17:36:00.603Z"
   },
   {
    "duration": 14,
    "start_time": "2024-08-01T17:36:00.627Z"
   },
   {
    "duration": 9,
    "start_time": "2024-08-01T17:36:00.644Z"
   },
   {
    "duration": 57,
    "start_time": "2024-08-01T17:36:00.656Z"
   },
   {
    "duration": 12,
    "start_time": "2024-08-01T17:36:00.723Z"
   },
   {
    "duration": 16,
    "start_time": "2024-08-01T17:36:00.739Z"
   },
   {
    "duration": 52,
    "start_time": "2024-08-01T17:36:00.759Z"
   },
   {
    "duration": 12,
    "start_time": "2024-08-01T17:36:00.814Z"
   },
   {
    "duration": 89,
    "start_time": "2024-08-01T17:36:00.829Z"
   },
   {
    "duration": 24,
    "start_time": "2024-08-01T17:36:00.921Z"
   },
   {
    "duration": 90,
    "start_time": "2024-08-01T17:36:00.948Z"
   },
   {
    "duration": 42,
    "start_time": "2024-08-01T17:36:01.042Z"
   },
   {
    "duration": 26,
    "start_time": "2024-08-01T17:36:01.103Z"
   },
   {
    "duration": 24,
    "start_time": "2024-08-01T17:36:01.132Z"
   },
   {
    "duration": 427,
    "start_time": "2024-08-01T17:36:01.159Z"
   },
   {
    "duration": 242,
    "start_time": "2024-08-01T17:36:01.589Z"
   },
   {
    "duration": 307,
    "start_time": "2024-08-01T17:36:01.836Z"
   },
   {
    "duration": 470,
    "start_time": "2024-08-01T17:36:02.147Z"
   },
   {
    "duration": 323,
    "start_time": "2024-08-01T17:36:02.620Z"
   },
   {
    "duration": 2248,
    "start_time": "2024-08-01T17:36:02.947Z"
   },
   {
    "duration": 849,
    "start_time": "2024-08-01T17:36:05.203Z"
   },
   {
    "duration": 1636,
    "start_time": "2024-08-01T17:36:06.056Z"
   },
   {
    "duration": 1692,
    "start_time": "2024-08-01T17:36:07.704Z"
   },
   {
    "duration": 1913,
    "start_time": "2024-08-01T17:36:09.399Z"
   },
   {
    "duration": 1645,
    "start_time": "2024-08-01T17:36:11.316Z"
   },
   {
    "duration": 2186,
    "start_time": "2024-11-04T21:23:08.804Z"
   },
   {
    "duration": 3,
    "start_time": "2024-11-04T21:23:10.992Z"
   },
   {
    "duration": 983,
    "start_time": "2024-11-04T21:23:10.996Z"
   },
   {
    "duration": 18,
    "start_time": "2024-11-04T21:23:11.981Z"
   },
   {
    "duration": 12,
    "start_time": "2024-11-04T21:23:12.002Z"
   },
   {
    "duration": 11,
    "start_time": "2024-11-04T21:23:12.016Z"
   },
   {
    "duration": 11,
    "start_time": "2024-11-04T21:23:12.028Z"
   },
   {
    "duration": 54,
    "start_time": "2024-11-04T21:23:12.041Z"
   },
   {
    "duration": 180,
    "start_time": "2024-11-04T21:23:12.097Z"
   },
   {
    "duration": 7,
    "start_time": "2024-11-04T21:23:12.280Z"
   },
   {
    "duration": 99,
    "start_time": "2024-11-04T21:23:12.289Z"
   },
   {
    "duration": 107,
    "start_time": "2024-11-04T21:23:12.390Z"
   },
   {
    "duration": 80,
    "start_time": "2024-11-04T21:23:12.499Z"
   },
   {
    "duration": 11,
    "start_time": "2024-11-04T21:23:12.584Z"
   },
   {
    "duration": 3,
    "start_time": "2024-11-04T21:23:12.597Z"
   },
   {
    "duration": 18,
    "start_time": "2024-11-04T21:23:12.603Z"
   },
   {
    "duration": 7,
    "start_time": "2024-11-04T21:23:12.623Z"
   },
   {
    "duration": 3,
    "start_time": "2024-11-04T21:23:12.632Z"
   },
   {
    "duration": 35,
    "start_time": "2024-11-04T21:23:12.637Z"
   },
   {
    "duration": 5,
    "start_time": "2024-11-04T21:23:12.674Z"
   },
   {
    "duration": 3,
    "start_time": "2024-11-04T21:23:12.680Z"
   },
   {
    "duration": 825,
    "start_time": "2024-11-04T21:23:12.685Z"
   },
   {
    "duration": 144,
    "start_time": "2024-11-04T21:23:13.512Z"
   },
   {
    "duration": 15,
    "start_time": "2024-11-04T21:23:13.658Z"
   },
   {
    "duration": 6,
    "start_time": "2024-11-04T21:23:13.674Z"
   },
   {
    "duration": 4,
    "start_time": "2024-11-04T21:23:13.682Z"
   },
   {
    "duration": 8,
    "start_time": "2024-11-04T21:23:13.687Z"
   },
   {
    "duration": 6,
    "start_time": "2024-11-04T21:23:13.697Z"
   },
   {
    "duration": 11,
    "start_time": "2024-11-04T21:23:13.705Z"
   },
   {
    "duration": 9,
    "start_time": "2024-11-04T21:23:13.717Z"
   },
   {
    "duration": 8,
    "start_time": "2024-11-04T21:23:13.769Z"
   },
   {
    "duration": 31,
    "start_time": "2024-11-04T21:23:13.779Z"
   },
   {
    "duration": 14,
    "start_time": "2024-11-04T21:23:13.812Z"
   },
   {
    "duration": 61,
    "start_time": "2024-11-04T21:23:13.828Z"
   },
   {
    "duration": 25,
    "start_time": "2024-11-04T21:23:13.890Z"
   },
   {
    "duration": 15,
    "start_time": "2024-11-04T21:23:13.917Z"
   },
   {
    "duration": 36,
    "start_time": "2024-11-04T21:23:13.934Z"
   },
   {
    "duration": 242,
    "start_time": "2024-11-04T21:23:13.972Z"
   },
   {
    "duration": 125,
    "start_time": "2024-11-04T21:23:14.216Z"
   },
   {
    "duration": 165,
    "start_time": "2024-11-04T21:23:14.342Z"
   },
   {
    "duration": 252,
    "start_time": "2024-11-04T21:23:14.512Z"
   },
   {
    "duration": 165,
    "start_time": "2024-11-04T21:23:14.769Z"
   },
   {
    "duration": 1258,
    "start_time": "2024-11-04T21:23:14.936Z"
   },
   {
    "duration": 459,
    "start_time": "2024-11-04T21:23:16.196Z"
   },
   {
    "duration": 882,
    "start_time": "2024-11-04T21:23:16.657Z"
   },
   {
    "duration": 955,
    "start_time": "2024-11-04T21:23:17.542Z"
   },
   {
    "duration": 733,
    "start_time": "2024-11-04T21:23:18.498Z"
   },
   {
    "duration": 870,
    "start_time": "2024-11-04T21:23:19.233Z"
   },
   {
    "duration": 14,
    "start_time": "2024-11-04T21:23:21.050Z"
   },
   {
    "duration": 11,
    "start_time": "2024-11-04T21:23:40.662Z"
   },
   {
    "duration": 450,
    "start_time": "2024-11-04T21:27:32.486Z"
   },
   {
    "duration": 2,
    "start_time": "2024-11-04T21:27:32.939Z"
   },
   {
    "duration": 904,
    "start_time": "2024-11-04T21:27:32.943Z"
   },
   {
    "duration": 25,
    "start_time": "2024-11-04T21:27:33.849Z"
   },
   {
    "duration": 12,
    "start_time": "2024-11-04T21:27:33.875Z"
   },
   {
    "duration": 10,
    "start_time": "2024-11-04T21:27:33.889Z"
   },
   {
    "duration": 10,
    "start_time": "2024-11-04T21:27:33.901Z"
   },
   {
    "duration": 26,
    "start_time": "2024-11-04T21:27:33.914Z"
   },
   {
    "duration": 168,
    "start_time": "2024-11-04T21:27:33.971Z"
   },
   {
    "duration": 6,
    "start_time": "2024-11-04T21:27:34.143Z"
   },
   {
    "duration": 112,
    "start_time": "2024-11-04T21:27:34.150Z"
   },
   {
    "duration": 85,
    "start_time": "2024-11-04T21:27:34.264Z"
   },
   {
    "duration": 72,
    "start_time": "2024-11-04T21:27:34.351Z"
   },
   {
    "duration": 12,
    "start_time": "2024-11-04T21:27:34.425Z"
   },
   {
    "duration": 3,
    "start_time": "2024-11-04T21:27:34.439Z"
   },
   {
    "duration": 35,
    "start_time": "2024-11-04T21:27:34.443Z"
   },
   {
    "duration": 8,
    "start_time": "2024-11-04T21:27:34.480Z"
   },
   {
    "duration": 6,
    "start_time": "2024-11-04T21:27:34.490Z"
   },
   {
    "duration": 3,
    "start_time": "2024-11-04T21:27:34.497Z"
   },
   {
    "duration": 3,
    "start_time": "2024-11-04T21:27:34.502Z"
   },
   {
    "duration": 4,
    "start_time": "2024-11-04T21:27:34.507Z"
   },
   {
    "duration": 800,
    "start_time": "2024-11-04T21:27:34.513Z"
   },
   {
    "duration": 124,
    "start_time": "2024-11-04T21:27:35.315Z"
   },
   {
    "duration": 11,
    "start_time": "2024-11-04T21:27:35.441Z"
   },
   {
    "duration": 20,
    "start_time": "2024-11-04T21:27:35.454Z"
   },
   {
    "duration": 4,
    "start_time": "2024-11-04T21:27:35.475Z"
   },
   {
    "duration": 7,
    "start_time": "2024-11-04T21:27:35.481Z"
   },
   {
    "duration": 6,
    "start_time": "2024-11-04T21:27:35.492Z"
   },
   {
    "duration": 10,
    "start_time": "2024-11-04T21:27:35.499Z"
   },
   {
    "duration": 8,
    "start_time": "2024-11-04T21:27:35.512Z"
   },
   {
    "duration": 6,
    "start_time": "2024-11-04T21:27:35.522Z"
   },
   {
    "duration": 67,
    "start_time": "2024-11-04T21:27:35.529Z"
   },
   {
    "duration": 14,
    "start_time": "2024-11-04T21:27:35.598Z"
   },
   {
    "duration": 59,
    "start_time": "2024-11-04T21:27:35.614Z"
   },
   {
    "duration": 25,
    "start_time": "2024-11-04T21:27:35.676Z"
   },
   {
    "duration": 14,
    "start_time": "2024-11-04T21:27:35.703Z"
   },
   {
    "duration": 13,
    "start_time": "2024-11-04T21:27:35.719Z"
   },
   {
    "duration": 215,
    "start_time": "2024-11-04T21:27:35.733Z"
   },
   {
    "duration": 124,
    "start_time": "2024-11-04T21:27:35.950Z"
   },
   {
    "duration": 168,
    "start_time": "2024-11-04T21:27:36.076Z"
   },
   {
    "duration": 235,
    "start_time": "2024-11-04T21:27:36.246Z"
   },
   {
    "duration": 172,
    "start_time": "2024-11-04T21:27:36.483Z"
   },
   {
    "duration": 1278,
    "start_time": "2024-11-04T21:27:36.657Z"
   },
   {
    "duration": 380,
    "start_time": "2024-11-04T21:27:37.937Z"
   },
   {
    "duration": 847,
    "start_time": "2024-11-04T21:27:38.319Z"
   },
   {
    "duration": 953,
    "start_time": "2024-11-04T21:27:39.167Z"
   },
   {
    "duration": 732,
    "start_time": "2024-11-04T21:27:40.122Z"
   },
   {
    "duration": 918,
    "start_time": "2024-11-04T21:27:40.855Z"
   },
   {
    "duration": 4,
    "start_time": "2024-11-04T21:29:07.586Z"
   },
   {
    "duration": 153,
    "start_time": "2024-11-04T21:43:12.130Z"
   },
   {
    "duration": 54,
    "start_time": "2024-11-04T21:43:34.992Z"
   },
   {
    "duration": 14,
    "start_time": "2024-11-04T21:50:49.786Z"
   },
   {
    "duration": 14,
    "start_time": "2024-11-04T21:51:16.061Z"
   },
   {
    "duration": 15,
    "start_time": "2024-11-04T21:51:25.140Z"
   },
   {
    "duration": 15,
    "start_time": "2024-11-04T21:57:12.808Z"
   },
   {
    "duration": 9,
    "start_time": "2024-11-04T21:57:57.275Z"
   },
   {
    "duration": 9,
    "start_time": "2024-11-04T21:58:08.653Z"
   },
   {
    "duration": 6,
    "start_time": "2024-11-04T21:58:15.887Z"
   },
   {
    "duration": 2121,
    "start_time": "2024-11-05T13:34:51.358Z"
   },
   {
    "duration": 2,
    "start_time": "2024-11-05T13:34:53.481Z"
   },
   {
    "duration": 1024,
    "start_time": "2024-11-05T13:34:53.485Z"
   },
   {
    "duration": 18,
    "start_time": "2024-11-05T13:34:54.512Z"
   },
   {
    "duration": 14,
    "start_time": "2024-11-05T13:34:54.531Z"
   },
   {
    "duration": 33,
    "start_time": "2024-11-05T13:34:54.546Z"
   },
   {
    "duration": 11,
    "start_time": "2024-11-05T13:34:54.580Z"
   },
   {
    "duration": 26,
    "start_time": "2024-11-05T13:34:54.593Z"
   },
   {
    "duration": 198,
    "start_time": "2024-11-05T13:34:54.621Z"
   },
   {
    "duration": 6,
    "start_time": "2024-11-05T13:34:54.822Z"
   },
   {
    "duration": 187,
    "start_time": "2024-11-05T13:34:54.830Z"
   },
   {
    "duration": 74,
    "start_time": "2024-11-05T13:34:55.019Z"
   },
   {
    "duration": 12,
    "start_time": "2024-11-05T13:34:55.095Z"
   },
   {
    "duration": 4,
    "start_time": "2024-11-05T13:34:55.108Z"
   },
   {
    "duration": 20,
    "start_time": "2024-11-05T13:34:55.113Z"
   },
   {
    "duration": 8,
    "start_time": "2024-11-05T13:34:55.134Z"
   },
   {
    "duration": 28,
    "start_time": "2024-11-05T13:34:55.144Z"
   },
   {
    "duration": 4,
    "start_time": "2024-11-05T13:34:55.173Z"
   },
   {
    "duration": 4,
    "start_time": "2024-11-05T13:34:55.178Z"
   },
   {
    "duration": 3,
    "start_time": "2024-11-05T13:34:55.184Z"
   },
   {
    "duration": 808,
    "start_time": "2024-11-05T13:34:55.189Z"
   },
   {
    "duration": 121,
    "start_time": "2024-11-05T13:34:55.999Z"
   },
   {
    "duration": 10,
    "start_time": "2024-11-05T13:34:56.123Z"
   },
   {
    "duration": 7,
    "start_time": "2024-11-05T13:34:56.136Z"
   },
   {
    "duration": 5,
    "start_time": "2024-11-05T13:34:56.144Z"
   },
   {
    "duration": 7,
    "start_time": "2024-11-05T13:34:56.170Z"
   },
   {
    "duration": 7,
    "start_time": "2024-11-05T13:34:56.178Z"
   },
   {
    "duration": 9,
    "start_time": "2024-11-05T13:34:56.188Z"
   },
   {
    "duration": 6,
    "start_time": "2024-11-05T13:34:56.199Z"
   },
   {
    "duration": 7,
    "start_time": "2024-11-05T13:34:56.207Z"
   },
   {
    "duration": 65,
    "start_time": "2024-11-05T13:34:56.216Z"
   },
   {
    "duration": 13,
    "start_time": "2024-11-05T13:34:56.283Z"
   },
   {
    "duration": 33,
    "start_time": "2024-11-05T13:34:56.297Z"
   },
   {
    "duration": 46,
    "start_time": "2024-11-05T13:34:56.332Z"
   },
   {
    "duration": 14,
    "start_time": "2024-11-05T13:34:56.380Z"
   },
   {
    "duration": 11,
    "start_time": "2024-11-05T13:34:56.396Z"
   },
   {
    "duration": 227,
    "start_time": "2024-11-05T13:34:56.409Z"
   },
   {
    "duration": 126,
    "start_time": "2024-11-05T13:34:56.638Z"
   },
   {
    "duration": 187,
    "start_time": "2024-11-05T13:34:56.766Z"
   },
   {
    "duration": 245,
    "start_time": "2024-11-05T13:34:56.955Z"
   },
   {
    "duration": 209,
    "start_time": "2024-11-05T13:34:57.202Z"
   },
   {
    "duration": 1261,
    "start_time": "2024-11-05T13:34:57.413Z"
   },
   {
    "duration": 386,
    "start_time": "2024-11-05T13:34:58.677Z"
   },
   {
    "duration": 885,
    "start_time": "2024-11-05T13:34:59.069Z"
   },
   {
    "duration": 991,
    "start_time": "2024-11-05T13:34:59.956Z"
   },
   {
    "duration": 738,
    "start_time": "2024-11-05T13:35:00.949Z"
   },
   {
    "duration": 888,
    "start_time": "2024-11-05T13:35:01.688Z"
   },
   {
    "duration": 4,
    "start_time": "2024-11-05T14:14:57.875Z"
   },
   {
    "duration": 830,
    "start_time": "2024-11-05T14:30:13.918Z"
   },
   {
    "duration": 330,
    "start_time": "2024-11-05T16:35:08.965Z"
   }
  ],
  "colab": {
   "provenance": []
  },
  "kernelspec": {
   "display_name": "Python 3 (ipykernel)",
   "language": "python",
   "name": "python3"
  },
  "language_info": {
   "codemirror_mode": {
    "name": "ipython",
    "version": 3
   },
   "file_extension": ".py",
   "mimetype": "text/x-python",
   "name": "python",
   "nbconvert_exporter": "python",
   "pygments_lexer": "ipython3",
   "version": "3.9.19"
  },
  "toc": {
   "base_numbering": 1,
   "nav_menu": {
    "height": "530px",
    "width": "511.6px"
   },
   "number_sections": true,
   "sideBar": true,
   "skip_h1_title": true,
   "title_cell": "Tabla de contenidos",
   "title_sidebar": "Contenidos",
   "toc_cell": true,
   "toc_position": {
    "height": "calc(100% - 180px)",
    "left": "10px",
    "top": "150px",
    "width": "328px"
   },
   "toc_section_display": true,
   "toc_window_display": true
  },
  "vscode": {
   "interpreter": {
    "hash": "01a7be9ec63e704a62cefc5fe7a4756944464ee731be31632bdf42a4cb4688cf"
   }
  }
 },
 "nbformat": 4,
 "nbformat_minor": 5
}
